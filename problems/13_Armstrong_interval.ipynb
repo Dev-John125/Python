{
 "cells": [
  {
   "cell_type": "markdown",
   "id": "27111d46",
   "metadata": {},
   "source": [
    "## 13. To Find Armstrong Number in an Interval"
   ]
  },
  {
   "cell_type": "code",
   "execution_count": 1,
   "id": "4b348df8",
   "metadata": {},
   "outputs": [
    {
     "name": "stdout",
     "output_type": "stream",
     "text": [
      "Enter the lower range: 1\n",
      "Enter the upper range: 10000\n",
      "The armstrong numbers are: 1 2 3 4 5 6 7 8 9 153 370 371 407 1634 8208 9474 "
     ]
    }
   ],
   "source": [
    "def armstrong(n):                  #armstrong no. of n digits\n",
    "    sum=0\n",
    "    order = len(str(n))            #to get no. of digits \n",
    "    temp = n                      \n",
    "    while temp > 0:               \n",
    "        digit = temp % 10          #splitting of digits without using list\n",
    "        sum += digit ** order      # '**' operator is used to calculate powers\n",
    "        temp //= 10                # floor division is used to remove decimals if any\n",
    "\n",
    "    if(sum == n):\n",
    "        return True\n",
    "    else:\n",
    "        return False\n",
    "\n",
    "def armstrong_range(start,end):\n",
    "    i=start\n",
    "    res=[]\n",
    "    while i <= end+1:    #including start and end nos in the interval\n",
    "        if(armstrong(i)):\n",
    "            res.append(i)\n",
    "        i+=1\n",
    "    \n",
    "    print(\"The armstrong numbers are:\",end=\" \")\n",
    "    for item in res:\n",
    "        print(str(item),end=\" \")\n",
    "\n",
    "start=int(input(\"Enter the lower range: \"))\n",
    "end=int(input(\"Enter the upper range: \"))\n",
    "armstrong_range(start,end)"
   ]
  },
  {
   "cell_type": "code",
   "execution_count": null,
   "id": "43bbfbbc",
   "metadata": {},
   "outputs": [],
   "source": []
  }
 ],
 "metadata": {
  "kernelspec": {
   "display_name": "Python 3",
   "language": "python",
   "name": "python3"
  },
  "language_info": {
   "codemirror_mode": {
    "name": "ipython",
    "version": 3
   },
   "file_extension": ".py",
   "mimetype": "text/x-python",
   "name": "python",
   "nbconvert_exporter": "python",
   "pygments_lexer": "ipython3",
   "version": "3.8.11"
  }
 },
 "nbformat": 4,
 "nbformat_minor": 5
}
