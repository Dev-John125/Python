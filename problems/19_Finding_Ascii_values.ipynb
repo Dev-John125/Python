{
 "cells": [
  {
   "cell_type": "markdown",
   "id": "ff816ddf",
   "metadata": {},
   "source": [
    "## 19. To Find ASCII Value of a Character\n"
   ]
  },
  {
   "cell_type": "code",
   "execution_count": 32,
   "id": "7d073bb7",
   "metadata": {},
   "outputs": [
    {
     "name": "stdout",
     "output_type": "stream",
     "text": [
      "Enter a character to find its ascii value: a\n",
      "The ASCII value of a is 97\n"
     ]
    }
   ],
   "source": [
    "#ascii value can be found out directly using ord() function\n",
    "\n",
    "ch=input(\"Enter a character to find its ascii value: \")\n",
    "res=ord(ch)\n",
    "print(f\"The ASCII value of {ch} is\",res)"
   ]
  },
  {
   "cell_type": "code",
   "execution_count": null,
   "id": "d21d143a",
   "metadata": {},
   "outputs": [],
   "source": []
  }
 ],
 "metadata": {
  "kernelspec": {
   "display_name": "Python 3",
   "language": "python",
   "name": "python3"
  },
  "language_info": {
   "codemirror_mode": {
    "name": "ipython",
    "version": 3
   },
   "file_extension": ".py",
   "mimetype": "text/x-python",
   "name": "python",
   "nbconvert_exporter": "python",
   "pygments_lexer": "ipython3",
   "version": "3.8.11"
  }
 },
 "nbformat": 4,
 "nbformat_minor": 5
}
