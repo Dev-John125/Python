{
 "cells": [
  {
   "cell_type": "markdown",
   "id": "bb222d62",
   "metadata": {},
   "source": [
    "## 17. To Convert Decimal to Binary"
   ]
  },
  {
   "cell_type": "code",
   "execution_count": 1,
   "id": "89d44325",
   "metadata": {},
   "outputs": [
    {
     "name": "stdout",
     "output_type": "stream",
     "text": [
      "Enter a number: 34\n",
      "Binary number is: 100010"
     ]
    }
   ],
   "source": [
    "def decimalToBinary(n):\n",
    "    if n > 1:\n",
    "        decimalToBinary(n//2)      # recursion is used because binary no. will rather get printed in the reverse order\n",
    "    print(n % 2,end = \"\")\n",
    "\n",
    "a=int(input(\"Enter a number: \"))\n",
    "print(\"Binary number is:\",end=\" \")\n",
    "decimalToBinary(a)\n"
   ]
  },
  {
   "cell_type": "code",
   "execution_count": null,
   "id": "c42155e9",
   "metadata": {},
   "outputs": [],
   "source": []
  }
 ],
 "metadata": {
  "kernelspec": {
   "display_name": "Python 3",
   "language": "python",
   "name": "python3"
  },
  "language_info": {
   "codemirror_mode": {
    "name": "ipython",
    "version": 3
   },
   "file_extension": ".py",
   "mimetype": "text/x-python",
   "name": "python",
   "nbconvert_exporter": "python",
   "pygments_lexer": "ipython3",
   "version": "3.8.11"
  }
 },
 "nbformat": 4,
 "nbformat_minor": 5
}
