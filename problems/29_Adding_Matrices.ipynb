{
 "cells": [
  {
   "cell_type": "markdown",
   "id": "66146b9c",
   "metadata": {},
   "source": [
    "## 29. To Add two matrices"
   ]
  },
  {
   "cell_type": "code",
   "execution_count": 7,
   "id": "938b7756",
   "metadata": {},
   "outputs": [
    {
     "name": "stdout",
     "output_type": "stream",
     "text": [
      "[11, 22, 33]\n",
      "[44, 55, 66]\n",
      "[77, 88, 99]\n"
     ]
    }
   ],
   "source": [
    "X = [[10,20,30],\n",
    "    [40,50,60],\n",
    "    [70,80,90]]\n",
    "  \n",
    "Y = [[1,2,3],\n",
    "    [4,5,6],\n",
    "    [7,8,9]]\n",
    "\n",
    "res = [[0,0,0],\n",
    "       [0,0,0],\n",
    "       [0,0,0]]\n",
    " \n",
    "for i in range(len(X)):\n",
    "    for j in range(len(X[0])):\n",
    "        res[i][j] = X[i][j] + Y[i][j]\n",
    "        \n",
    "for i in res:\n",
    "    print(i)"
   ]
  },
  {
   "cell_type": "code",
   "execution_count": null,
   "id": "0c578292",
   "metadata": {},
   "outputs": [],
   "source": []
  }
 ],
 "metadata": {
  "kernelspec": {
   "display_name": "Python 3",
   "language": "python",
   "name": "python3"
  },
  "language_info": {
   "codemirror_mode": {
    "name": "ipython",
    "version": 3
   },
   "file_extension": ".py",
   "mimetype": "text/x-python",
   "name": "python",
   "nbconvert_exporter": "python",
   "pygments_lexer": "ipython3",
   "version": "3.8.11"
  }
 },
 "nbformat": 4,
 "nbformat_minor": 5
}
