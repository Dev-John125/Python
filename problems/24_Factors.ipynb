{
 "cells": [
  {
   "cell_type": "markdown",
   "id": "d19a10dd",
   "metadata": {},
   "source": [
    "## 24. To Find the Factors of a Number"
   ]
  },
  {
   "cell_type": "code",
   "execution_count": 9,
   "id": "5462b126",
   "metadata": {},
   "outputs": [
    {
     "name": "stdout",
     "output_type": "stream",
     "text": [
      "Enter a number to find its factors: 100\n",
      "The factors are :\n",
      "1 2 4 5 10 20 25 50 100\n"
     ]
    }
   ],
   "source": [
    "def factors(n):\n",
    "    mid=n // 2                                        # factors are checked from 1 to the mid value to reduce time complexity\n",
    "    for i in range(1,mid+1): \n",
    "        if(n % i == 0):             \n",
    "            print(i,end=\" \")                             \n",
    "    print(n)                                          # every no. is a factor of itself\n",
    "    \n",
    "\n",
    "a=int(input(\"Enter a number to find its factors: \"))\n",
    "print(\"The factors are :\")\n",
    "factors(a)"
   ]
  },
  {
   "cell_type": "code",
   "execution_count": null,
   "id": "2661347c",
   "metadata": {},
   "outputs": [],
   "source": []
  }
 ],
 "metadata": {
  "kernelspec": {
   "display_name": "Python 3",
   "language": "python",
   "name": "python3"
  },
  "language_info": {
   "codemirror_mode": {
    "name": "ipython",
    "version": 3
   },
   "file_extension": ".py",
   "mimetype": "text/x-python",
   "name": "python",
   "nbconvert_exporter": "python",
   "pygments_lexer": "ipython3",
   "version": "3.8.11"
  }
 },
 "nbformat": 4,
 "nbformat_minor": 5
}
