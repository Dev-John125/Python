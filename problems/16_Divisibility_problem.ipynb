{
 "cells": [
  {
   "cell_type": "markdown",
   "id": "08e33064",
   "metadata": {},
   "source": [
    "## 16. To Find Numbers Divisible by Another Number"
   ]
  },
  {
   "cell_type": "code",
   "execution_count": 1,
   "id": "b459fae9",
   "metadata": {},
   "outputs": [
    {
     "name": "stdout",
     "output_type": "stream",
     "text": [
      "Enter a number as numerator: 20\n",
      "Enter a number as denominator: 4\n",
      "The number 20 is divisible by 4\n"
     ]
    }
   ],
   "source": [
    "n=int(input(\"Enter a number as numerator: \"))\n",
    "d=int(input(\"Enter a number as denominator: \"))\n",
    "if(n % d == 0):\n",
    "    print(f\"The number {n} is divisible by {d}\")\n",
    "else:\n",
    "    print(f\"The number {n} is not divisible by {d}\")"
   ]
  },
  {
   "cell_type": "code",
   "execution_count": null,
   "id": "0991c7fb",
   "metadata": {},
   "outputs": [],
   "source": []
  }
 ],
 "metadata": {
  "kernelspec": {
   "display_name": "Python 3",
   "language": "python",
   "name": "python3"
  },
  "language_info": {
   "codemirror_mode": {
    "name": "ipython",
    "version": 3
   },
   "file_extension": ".py",
   "mimetype": "text/x-python",
   "name": "python",
   "nbconvert_exporter": "python",
   "pygments_lexer": "ipython3",
   "version": "3.8.11"
  }
 },
 "nbformat": 4,
 "nbformat_minor": 5
}
