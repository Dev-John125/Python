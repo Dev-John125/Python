{
 "cells": [
  {
   "cell_type": "markdown",
   "id": "e72d52ca",
   "metadata": {},
   "source": [
    "## 9. To find the factorial of a number."
   ]
  },
  {
   "cell_type": "code",
   "execution_count": 1,
   "id": "e75e222a",
   "metadata": {},
   "outputs": [
    {
     "name": "stdout",
     "output_type": "stream",
     "text": [
      "Enter a number: 9\n",
      "Factorial of the given number is 362880\n"
     ]
    }
   ],
   "source": [
    "def fact(n):\n",
    "    fac=1\n",
    "    for i in range(2,n+1):\n",
    "        fac*=i\n",
    "    print(\"Factorial of the given number is\",fac)\n",
    "    \n",
    "\n",
    "a=int(input(\"Enter a number: \"))\n",
    "fact(a)"
   ]
  },
  {
   "cell_type": "code",
   "execution_count": null,
   "id": "dcea6bec",
   "metadata": {},
   "outputs": [],
   "source": []
  }
 ],
 "metadata": {
  "kernelspec": {
   "display_name": "Python 3",
   "language": "python",
   "name": "python3"
  },
  "language_info": {
   "codemirror_mode": {
    "name": "ipython",
    "version": 3
   },
   "file_extension": ".py",
   "mimetype": "text/x-python",
   "name": "python",
   "nbconvert_exporter": "python",
   "pygments_lexer": "ipython3",
   "version": "3.8.11"
  }
 },
 "nbformat": 4,
 "nbformat_minor": 5
}
