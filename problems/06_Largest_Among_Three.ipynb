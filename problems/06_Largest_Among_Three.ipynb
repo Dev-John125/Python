{
 "cells": [
  {
   "cell_type": "markdown",
   "id": "9f4cb417",
   "metadata": {},
   "source": [
    "## 6. To Find the Largest Among Three Numbers"
   ]
  },
  {
   "cell_type": "code",
   "execution_count": 1,
   "id": "7c6e7638",
   "metadata": {},
   "outputs": [
    {
     "name": "stdout",
     "output_type": "stream",
     "text": [
      "Enter 3 numbers: 78 98 18\n",
      "98 is the largest among the three\n"
     ]
    }
   ],
   "source": [
    "def largestNo(n1,n2,n3):\n",
    "    if(n1>n2 and n1>n3):\n",
    "        print(f'{n1} is the largest among the three')\n",
    "    elif(n2>n1 and n2>n3):\n",
    "        print(f'{n2} is the largest among the three')\n",
    "    else:\n",
    "        print(f'{n3} is the largest among the three')\n",
    "\n",
    "x = (input(\"Enter 3 numbers: \").split())\n",
    "\n",
    "a = int(x[0])\n",
    "b = int(x[1])\n",
    "c = int(x[2])\n",
    "largestNo(a,b,c)"
   ]
  },
  {
   "cell_type": "code",
   "execution_count": null,
   "id": "3e5c3c11",
   "metadata": {},
   "outputs": [],
   "source": []
  }
 ],
 "metadata": {
  "kernelspec": {
   "display_name": "Python 3",
   "language": "python",
   "name": "python3"
  },
  "language_info": {
   "codemirror_mode": {
    "name": "ipython",
    "version": 3
   },
   "file_extension": ".py",
   "mimetype": "text/x-python",
   "name": "python",
   "nbconvert_exporter": "python",
   "pygments_lexer": "ipython3",
   "version": "3.8.11"
  }
 },
 "nbformat": 4,
 "nbformat_minor": 5
}
