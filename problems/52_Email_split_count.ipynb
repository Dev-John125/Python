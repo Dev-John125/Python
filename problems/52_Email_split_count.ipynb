{
 "cells": [
  {
   "cell_type": "markdown",
   "id": "32530664",
   "metadata": {},
   "source": [
    "## 52. To separate the mail IDs using spilt function and then finding the number of gmails, yahoos, outlooks etc using dictionaries with gmail, yahoo, outlook as keys and the number of mail IDs corresponding to those as values"
   ]
  },
  {
   "cell_type": "code",
   "execution_count": 1,
   "id": "73fe82f8",
   "metadata": {},
   "outputs": [],
   "source": [
    "main_list=[\"turboslayer@gmail.com\",\n",
    "\"someone@outlook.com\",\n",
    "\"crashtv@gov.in\",\n",
    "\"blue_defender@gmail.com\",\n",
    "\"logan@yahoo.com\",\n",
    "\"ironmerc@gov.in\",\n",
    "\"steeltitan@outlook.com\",\n",
    "\"stealthedefender@yahoo.com\",\n",
    "\"blaze_assault@gov.in\",\n",
    "\"venom_fate@yahoo.com\",\n",
    "\"dark_side@yahoo.com\",\n",
    "\"fataldestiny@yahoo.com\",\n",
    "\"ultimatebeast@outlook.com\",\n",
    "\"masked_titan@gmail.com\",\n",
    "\"frozen_gunner@yahoo.com\",\n",
    "\"username_copied@gov.in\",\n",
    "\"whos_ur_buddy@outlook.com\",\n",
    "\"unfinished_sentenc@gov.in\",\n",
    "\"all_gone@gov.in\",\n",
    "\"something@gmail.com\",\n",
    "\"president@gmail.com\",\n",
    "\"tinfoilhat@gmail.com\",\n",
    "\"anonymouse@yahoo.com\",\n",
    "\"definitely_not_an_athlete@outlook.com\",\n",
    "\"dropout@gov.in\",\n",
    "\"paw_friend@outlook.com\",\n",
    "\"test_name_please_ignore@gov.in\",\n",
    "\"heyyou@gov.in\",\n",
    "\"a_distraction@yahoo.com\",\n",
    "\"thegodfatherpart4@gov.in\",\n",
    "\"unfriendme@outlook.com\",\n",
    "\"doodles@gmail.com\",\n",
    "\"fluffycookie@yahoo.com\",\n",
    "\"theintolerant@gmail.com\",\n",
    "\"fourhour@yahoo.com\",\n",
    "\"toastedwithcheese@gmail.com\",\n",
    "\"futureking@yahoo.com\",\n",
    "\"coolshirtbruh@outlook.com\",\n",
    "\"kentucky@yahoo.com\",\n",
    "\"chocolate@gmail.com\",\n",
    "\"saintbroseph@yahoo.com\",\n",
    "\"just_chillin@gmail.com\",\n",
    "\"ghostface@gov.in\",\n",
    "\"bigfootisreal@yahoo.com\",\n",
    "\"newbie@yahoo.com\",\n",
    "\"alienware@outlook.com\",\n",
    "\"chrishemsworth@outlook.com\",\n",
    "\"nachocheesefries@outlook.com\",\n",
    "\"reginageorge@gov.in\",\n",
    "\"harmless_potato@outlook.com\",\n",
    "\"frostedcupcake@outlook.com\",\n",
    "\"avocadorable@outlook.com\",\n",
    "\"pixie_dust@gmail.com\",\n",
    "\"chopsuey@yahoo.com\",\n",
    "\"iron_man@gov.in\",\n",
    "\"lemon_ade@outlook.com\",\n",
    "\"cerial_killer@outlook.com\",\n",
    "\"light_year@gov.in\",\n",
    "\"phoenix@outlook.com\",\n",
    "\"harry_potter@outlook.com\"]"
   ]
  },
  {
   "cell_type": "code",
   "execution_count": 19,
   "id": "38b53d5f",
   "metadata": {},
   "outputs": [
    {
     "name": "stdout",
     "output_type": "stream",
     "text": [
      "{'gmail.com': 12, 'outlook.com': 18, 'gov.com': 14, 'yahoo.com': 16}\n"
     ]
    }
   ],
   "source": [
    "my_dict={}\n",
    "count1,count2,count3,count4=0,0,0,0\n",
    "for i in main_list:\n",
    "    words=i.split('@')\n",
    "    if words[1]=='gmail.com':\n",
    "        count1+=1\n",
    "    elif words[1]=='outlook.com':\n",
    "        count2+=1\n",
    "    elif words[1]=='gov.in':\n",
    "        count3+=1\n",
    "    else:\n",
    "        count4+=1\n",
    "    my_dict['gmail.com']=count1\n",
    "    my_dict['outlook.com']=count2\n",
    "    my_dict['gov.com']=count3\n",
    "    my_dict['yahoo.com']=count4\n",
    "    \n",
    "print(my_dict)"
   ]
  },
  {
   "cell_type": "code",
   "execution_count": null,
   "id": "27f8f392",
   "metadata": {},
   "outputs": [],
   "source": []
  }
 ],
 "metadata": {
  "kernelspec": {
   "display_name": "Python 3",
   "language": "python",
   "name": "python3"
  },
  "language_info": {
   "codemirror_mode": {
    "name": "ipython",
    "version": 3
   },
   "file_extension": ".py",
   "mimetype": "text/x-python",
   "name": "python",
   "nbconvert_exporter": "python",
   "pygments_lexer": "ipython3",
   "version": "3.8.11"
  }
 },
 "nbformat": 4,
 "nbformat_minor": 5
}
