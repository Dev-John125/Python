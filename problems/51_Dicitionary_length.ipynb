{
 "cells": [
  {
   "cell_type": "markdown",
   "id": "be5a6eb7",
   "metadata": {},
   "source": [
    "## 51. To create a dictionary and print the length"
   ]
  },
  {
   "cell_type": "code",
   "execution_count": 2,
   "id": "f6f0cb5d",
   "metadata": {},
   "outputs": [
    {
     "name": "stdout",
     "output_type": "stream",
     "text": [
      "{'a': 'hello', 'b': [1, 2, 3], 'c': 45, 'd': {1: 'nested', 2: 'dictionary'}}\n",
      "4\n"
     ]
    }
   ],
   "source": [
    "new_dict={}\n",
    "new_dict={'a':'hello','b':[1,2,3],'c':45,'d':{1:'nested',2:'dictionary'}}\n",
    "print(new_dict)\n",
    "print(len(new_dict))"
   ]
  },
  {
   "cell_type": "code",
   "execution_count": null,
   "id": "e1da5c97",
   "metadata": {},
   "outputs": [],
   "source": []
  }
 ],
 "metadata": {
  "kernelspec": {
   "display_name": "Python 3",
   "language": "python",
   "name": "python3"
  },
  "language_info": {
   "codemirror_mode": {
    "name": "ipython",
    "version": 3
   },
   "file_extension": ".py",
   "mimetype": "text/x-python",
   "name": "python",
   "nbconvert_exporter": "python",
   "pygments_lexer": "ipython3",
   "version": "3.8.11"
  }
 },
 "nbformat": 4,
 "nbformat_minor": 5
}
