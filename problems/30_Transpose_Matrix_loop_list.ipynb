{
 "cells": [
  {
   "cell_type": "markdown",
   "id": "2d10b752",
   "metadata": {},
   "source": [
    "## 30. To transpose a matrix using loop and list comprehention"
   ]
  },
  {
   "cell_type": "code",
   "execution_count": 5,
   "id": "1cf2a39d",
   "metadata": {},
   "outputs": [
    {
     "name": "stdout",
     "output_type": "stream",
     "text": [
      "[10, 40, 70]\n",
      "[20, 50, 80]\n",
      "[30, 60, 90]\n"
     ]
    }
   ],
   "source": [
    "# using nested loop\n",
    "\n",
    "X = [[10,20,30],\n",
    "    [40,50,60],\n",
    "    [70,80,90]]\n",
    "\n",
    "res = [[0,0,0],\n",
    "      [0,0,0],\n",
    "      [0,0,0]]\n",
    "\n",
    "for i in range(len(X)):\n",
    "    for j in range(len(X[0])):\n",
    "         res[j][i] = X[i][j]\n",
    "\n",
    "for i in res:\n",
    "    print(i)"
   ]
  },
  {
   "cell_type": "code",
   "execution_count": 6,
   "id": "b83f0b2a",
   "metadata": {},
   "outputs": [
    {
     "name": "stdout",
     "output_type": "stream",
     "text": [
      "[10, 40, 70]\n",
      "[20, 50, 80]\n",
      "[30, 60, 90]\n"
     ]
    }
   ],
   "source": [
    "# using list comprehention\n",
    "\n",
    "X = [[10,20,30],\n",
    "    [40,50,60],\n",
    "    [70,80,90]]\n",
    "\n",
    "res = [[X[j][i] for j in range(len(X))] for i in range(len(X[0]))]\n",
    "\n",
    "for i in res:\n",
    "    print(i)"
   ]
  },
  {
   "cell_type": "code",
   "execution_count": null,
   "id": "b94de430",
   "metadata": {},
   "outputs": [],
   "source": []
  }
 ],
 "metadata": {
  "kernelspec": {
   "display_name": "Python 3",
   "language": "python",
   "name": "python3"
  },
  "language_info": {
   "codemirror_mode": {
    "name": "ipython",
    "version": 3
   },
   "file_extension": ".py",
   "mimetype": "text/x-python",
   "name": "python",
   "nbconvert_exporter": "python",
   "pygments_lexer": "ipython3",
   "version": "3.8.11"
  }
 },
 "nbformat": 4,
 "nbformat_minor": 5
}
