{
 "cells": [
  {
   "cell_type": "markdown",
   "id": "e0eb3511",
   "metadata": {},
   "source": [
    "## 43. To find and print the remainder of two number"
   ]
  },
  {
   "cell_type": "code",
   "execution_count": 3,
   "id": "67d1dad0",
   "metadata": {},
   "outputs": [
    {
     "name": "stdout",
     "output_type": "stream",
     "text": [
      "Enter first number: 2\n",
      "Enter second number: 5\n",
      "Remainder: 1\n"
     ]
    }
   ],
   "source": [
    "n=int(input(\"Enter first number: \"))\n",
    "m=int(input(\"Enter second number: \"))\n",
    "if(n > m):\n",
    "    print(\"Remainder:\",n%m)\n",
    "else:\n",
    "    print(\"Remainder:\",m%n)"
   ]
  },
  {
   "cell_type": "code",
   "execution_count": null,
   "id": "931820d9",
   "metadata": {},
   "outputs": [],
   "source": []
  }
 ],
 "metadata": {
  "kernelspec": {
   "display_name": "Python 3",
   "language": "python",
   "name": "python3"
  },
  "language_info": {
   "codemirror_mode": {
    "name": "ipython",
    "version": 3
   },
   "file_extension": ".py",
   "mimetype": "text/x-python",
   "name": "python",
   "nbconvert_exporter": "python",
   "pygments_lexer": "ipython3",
   "version": "3.8.11"
  }
 },
 "nbformat": 4,
 "nbformat_minor": 5
}
