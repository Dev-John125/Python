{
 "cells": [
  {
   "cell_type": "markdown",
   "id": "9a795e62",
   "metadata": {},
   "source": [
    "## 12. To Check if a number is Armstrong"
   ]
  },
  {
   "cell_type": "code",
   "execution_count": 1,
   "id": "86514b80",
   "metadata": {},
   "outputs": [
    {
     "name": "stdout",
     "output_type": "stream",
     "text": [
      "Enter a number: 153\n",
      "The no. is armstrong\n"
     ]
    }
   ],
   "source": [
    "def armstrong(n):\n",
    "    li=[]\n",
    "    sum=0\n",
    "    for i in n:\n",
    "        li.append(int(i))\n",
    "    \n",
    "    for item in li:\n",
    "        sum=sum+(item*item*item)\n",
    "    if(sum==int(n)):\n",
    "        print(\"The no. is armstrong\")\n",
    "    else:\n",
    "        print(\"The no. is not armstrong\")\n",
    "\n",
    "a=input(\"Enter a number: \")\n",
    "armstrong(a) "
   ]
  },
  {
   "cell_type": "code",
   "execution_count": null,
   "id": "400719ee",
   "metadata": {},
   "outputs": [],
   "source": []
  }
 ],
 "metadata": {
  "kernelspec": {
   "display_name": "Python 3",
   "language": "python",
   "name": "python3"
  },
  "language_info": {
   "codemirror_mode": {
    "name": "ipython",
    "version": 3
   },
   "file_extension": ".py",
   "mimetype": "text/x-python",
   "name": "python",
   "nbconvert_exporter": "python",
   "pygments_lexer": "ipython3",
   "version": "3.8.11"
  }
 },
 "nbformat": 4,
 "nbformat_minor": 5
}
