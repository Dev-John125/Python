{
 "cells": [
  {
   "cell_type": "markdown",
   "id": "9148b997",
   "metadata": {},
   "source": [
    "## 3. To Check if a Number is Positive, Negative or 0"
   ]
  },
  {
   "cell_type": "code",
   "execution_count": 1,
   "id": "323e9a05",
   "metadata": {},
   "outputs": [
    {
     "name": "stdout",
     "output_type": "stream",
     "text": [
      "Enter a number: -1\n",
      "The number is negative\n"
     ]
    }
   ],
   "source": [
    "def check(n):\n",
    "    if(n>0):\n",
    "        print(\"The number is positive\")\n",
    "    elif(n<0):\n",
    "        print(\"The number is negative\")\n",
    "    else:\n",
    "        print(\"The number is 0\")\n",
    "        \n",
    "n=int(input(\"Enter a number: \"))\n",
    "check(n)"
   ]
  },
  {
   "cell_type": "code",
   "execution_count": null,
   "id": "ad7efcd5",
   "metadata": {},
   "outputs": [],
   "source": []
  }
 ],
 "metadata": {
  "kernelspec": {
   "display_name": "Python 3",
   "language": "python",
   "name": "python3"
  },
  "language_info": {
   "codemirror_mode": {
    "name": "ipython",
    "version": 3
   },
   "file_extension": ".py",
   "mimetype": "text/x-python",
   "name": "python",
   "nbconvert_exporter": "python",
   "pygments_lexer": "ipython3",
   "version": "3.8.11"
  }
 },
 "nbformat": 4,
 "nbformat_minor": 5
}
