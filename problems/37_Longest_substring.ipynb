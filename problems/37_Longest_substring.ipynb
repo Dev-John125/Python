{
 "cells": [
  {
   "cell_type": "markdown",
   "id": "f4052df5",
   "metadata": {},
   "source": [
    "## 37. To find the length of the longest substring without repeating characters."
   ]
  },
  {
   "cell_type": "code",
   "execution_count": 4,
   "id": "c40026e4",
   "metadata": {},
   "outputs": [
    {
     "name": "stdout",
     "output_type": "stream",
     "text": [
      "Enter a string(lowercase): abcabcbb\n",
      "Length of longest substring is: 3\n"
     ]
    }
   ],
   "source": [
    "#we will take a start point ,end point and len variables\n",
    "# dictionary is used to check if the char is encountered previously or not\n",
    "\n",
    "\n",
    "def lengthOfSubstring(s):\n",
    "    if(len(s)==0):\n",
    "        return 0\n",
    "    d={}\n",
    "    max_len=0\n",
    "    start=0\n",
    "    \n",
    "    for i in range(len(s)):\n",
    "        if(s[i] in d and start<=d[s[i]]): #if char is found start is incremented\n",
    "            start=d[s[i]]+1\n",
    "        else:\n",
    "            max_len=max(max_len,i-start+1) # if not found max value is \n",
    "                                           # incremented and char is stored in d\n",
    "        d[s[i]]=i                          # +1 is added as range value starts from 0\n",
    "    return max_len\n",
    "\n",
    "s=input(\"Enter a string(lowercase): \")\n",
    "print(\"Length of longest substring is:\",lengthOfSubstring(s))"
   ]
  },
  {
   "cell_type": "code",
   "execution_count": null,
   "id": "b5d476d7",
   "metadata": {},
   "outputs": [],
   "source": []
  }
 ],
 "metadata": {
  "kernelspec": {
   "display_name": "Python 3",
   "language": "python",
   "name": "python3"
  },
  "language_info": {
   "codemirror_mode": {
    "name": "ipython",
    "version": 3
   },
   "file_extension": ".py",
   "mimetype": "text/x-python",
   "name": "python",
   "nbconvert_exporter": "python",
   "pygments_lexer": "ipython3",
   "version": "3.8.11"
  }
 },
 "nbformat": 4,
 "nbformat_minor": 5
}
