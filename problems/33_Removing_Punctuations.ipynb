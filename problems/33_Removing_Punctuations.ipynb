{
 "cells": [
  {
   "cell_type": "markdown",
   "id": "7b28f590",
   "metadata": {},
   "source": [
    "## 33. To remove punctuations from a given string"
   ]
  },
  {
   "cell_type": "code",
   "execution_count": 4,
   "id": "69444372",
   "metadata": {},
   "outputs": [
    {
     "name": "stdout",
     "output_type": "stream",
     "text": [
      "Enter a string: Welcome???@@##$ to#$% Python%$^ for$%^ &Data ?/!@$Science\n",
      "\n",
      "\n",
      "Original string is:  Welcome???@@##$ to#$% Python%$^ for$%^ &Data ?/!@$Science\n",
      "New string is:  Welcome to Python for Data Science\n"
     ]
    }
   ],
   "source": [
    "def punc(str1):\n",
    "    rem='''!()-[]{};:'\"\\,<>./?@#$%^&*_~'''     # using ''' as punctuations include \"\" & '' quotes\n",
    "    for i in str1:\n",
    "        if(i in rem):\n",
    "            str1=str1.replace(i,\"\")            # replacing punctuations by blanks\n",
    "    \n",
    "    print(\"New string is: \",str1)\n",
    "\n",
    "n=input(\"Enter a string: \")\n",
    "print(\"\\n\\nOriginal string is: \",n)\n",
    "punc(n)"
   ]
  },
  {
   "cell_type": "code",
   "execution_count": null,
   "id": "d4b675eb",
   "metadata": {},
   "outputs": [],
   "source": []
  }
 ],
 "metadata": {
  "kernelspec": {
   "display_name": "Python 3",
   "language": "python",
   "name": "python3"
  },
  "language_info": {
   "codemirror_mode": {
    "name": "ipython",
    "version": 3
   },
   "file_extension": ".py",
   "mimetype": "text/x-python",
   "name": "python",
   "nbconvert_exporter": "python",
   "pygments_lexer": "ipython3",
   "version": "3.8.11"
  }
 },
 "nbformat": 4,
 "nbformat_minor": 5
}
