{
 "cells": [
  {
   "cell_type": "markdown",
   "id": "5c99e0c1",
   "metadata": {},
   "source": [
    "## 2. To Convert Celsius To Fahrenheit"
   ]
  },
  {
   "cell_type": "code",
   "execution_count": 1,
   "id": "51d35afa",
   "metadata": {},
   "outputs": [
    {
     "name": "stdout",
     "output_type": "stream",
     "text": [
      "Enter temperature in Celcius37\n",
      "The temperature in Fahrenheit is  98.6\n"
     ]
    }
   ],
   "source": [
    "\n",
    "def celToFar(n):\n",
    "    res=(n*9)/5 + 32\n",
    "    return res\n",
    "\n",
    "n=int(input(\"Enter temperature in Celcius\"))\n",
    "ans=celToFar(n)\n",
    "print(\"The temperature in Fahrenheit is \",ans)"
   ]
  },
  {
   "cell_type": "code",
   "execution_count": null,
   "id": "93b750ff",
   "metadata": {},
   "outputs": [],
   "source": []
  }
 ],
 "metadata": {
  "kernelspec": {
   "display_name": "Python 3",
   "language": "python",
   "name": "python3"
  },
  "language_info": {
   "codemirror_mode": {
    "name": "ipython",
    "version": 3
   },
   "file_extension": ".py",
   "mimetype": "text/x-python",
   "name": "python",
   "nbconvert_exporter": "python",
   "pygments_lexer": "ipython3",
   "version": "3.8.11"
  }
 },
 "nbformat": 4,
 "nbformat_minor": 5
}
