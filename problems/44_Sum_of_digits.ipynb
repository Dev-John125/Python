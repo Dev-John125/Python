{
 "cells": [
  {
   "cell_type": "markdown",
   "id": "9ea57a62",
   "metadata": {},
   "source": [
    "## 44. To compute sum of digits in number"
   ]
  },
  {
   "cell_type": "code",
   "execution_count": 9,
   "id": "fc1728f0",
   "metadata": {},
   "outputs": [
    {
     "name": "stdout",
     "output_type": "stream",
     "text": [
      "Enter a number: 256\n",
      "Sum of digits is 13\n"
     ]
    }
   ],
   "source": [
    "def sum_of_digits(n):\n",
    "    li=[]\n",
    "    sum=0\n",
    "    for i in n:\n",
    "        sum=sum+ (int(i))\n",
    "    print(\"Sum of digits is\",sum)\n",
    "\n",
    "a=input(\"Enter a number: \")\n",
    "sum_of_digits(a)"
   ]
  },
  {
   "cell_type": "code",
   "execution_count": null,
   "id": "d387b0e5",
   "metadata": {},
   "outputs": [],
   "source": []
  }
 ],
 "metadata": {
  "kernelspec": {
   "display_name": "Python 3",
   "language": "python",
   "name": "python3"
  },
  "language_info": {
   "codemirror_mode": {
    "name": "ipython",
    "version": 3
   },
   "file_extension": ".py",
   "mimetype": "text/x-python",
   "name": "python",
   "nbconvert_exporter": "python",
   "pygments_lexer": "ipython3",
   "version": "3.8.11"
  }
 },
 "nbformat": 4,
 "nbformat_minor": 5
}
