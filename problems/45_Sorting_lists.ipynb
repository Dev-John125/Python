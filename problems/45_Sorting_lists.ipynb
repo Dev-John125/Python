{
 "cells": [
  {
   "cell_type": "markdown",
   "id": "cfa4fca0",
   "metadata": {},
   "source": [
    "## 45. To sort a list in ascending and descending order"
   ]
  },
  {
   "cell_type": "code",
   "execution_count": 2,
   "id": "a27c96bd",
   "metadata": {},
   "outputs": [
    {
     "name": "stdout",
     "output_type": "stream",
     "text": [
      "Ascending order: [-4, 5, 9, 11, 13, 45]\n"
     ]
    }
   ],
   "source": [
    "#sort function can directly sort a list \n",
    "def sort_list(li):\n",
    "    for i in range(1, len(li)):  \n",
    "        value = li[i]  \n",
    "        j = i - 1  \n",
    "        while j >= 0 and value < list1[j]:  \n",
    "            list1[j + 1] = list1[j]  \n",
    "            j -= 1  \n",
    "        list1[j + 1] = value   \n",
    "    print(\"Ascending order:\",list1)\n",
    "    \n",
    "list1=[9,5,13,11,-4,45]\n",
    "sort_list(list1)"
   ]
  },
  {
   "cell_type": "code",
   "execution_count": 3,
   "id": "42298e13",
   "metadata": {},
   "outputs": [
    {
     "name": "stdout",
     "output_type": "stream",
     "text": [
      "Descending order: [45, 13, 11, 9, 5, -4]\n"
     ]
    }
   ],
   "source": [
    "def sort_list(li):\n",
    "    for i in range(1, len(li)):  \n",
    "        value = li[i]  \n",
    "        j = i - 1  \n",
    "        while j >= 0 and value > list1[j]:  \n",
    "            list1[j + 1] = list1[j]  \n",
    "            j -= 1  \n",
    "        list1[j + 1] = value   \n",
    "    print(\"Descending order:\",list1)\n",
    "    \n",
    "list1=[9,5,13,11,-4,45]\n",
    "sort_list(list1)"
   ]
  },
  {
   "cell_type": "code",
   "execution_count": null,
   "id": "555ac460",
   "metadata": {},
   "outputs": [],
   "source": []
  }
 ],
 "metadata": {
  "kernelspec": {
   "display_name": "Python 3",
   "language": "python",
   "name": "python3"
  },
  "language_info": {
   "codemirror_mode": {
    "name": "ipython",
    "version": 3
   },
   "file_extension": ".py",
   "mimetype": "text/x-python",
   "name": "python",
   "nbconvert_exporter": "python",
   "pygments_lexer": "ipython3",
   "version": "3.8.11"
  }
 },
 "nbformat": 4,
 "nbformat_minor": 5
}
