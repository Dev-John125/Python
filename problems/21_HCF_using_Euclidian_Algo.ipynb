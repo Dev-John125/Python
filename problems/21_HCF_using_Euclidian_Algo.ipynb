{
 "cells": [
  {
   "cell_type": "markdown",
   "id": "e780680e",
   "metadata": {},
   "source": [
    "## 21. To find HCF using euclidian algorithm"
   ]
  },
  {
   "cell_type": "code",
   "execution_count": 3,
   "id": "bfaae3a2",
   "metadata": {},
   "outputs": [
    {
     "name": "stdout",
     "output_type": "stream",
     "text": [
      "The H.C.F. is 25\n"
     ]
    }
   ],
   "source": [
    "# This algorthim states that we divide the greater number by smaller and take the remainder. \n",
    "# Now, divide the smaller by this remainder. Repeat until the remainder is 0.\n",
    "# The last remainder before 0 will be the hcf of the two.\n",
    "\n",
    "def hcf(a, b):\n",
    "    if a>b:\n",
    "        while(b):\n",
    "            a, b = b, a % b        #while continues until b becomes 0 and a will store the last remainder\n",
    "        return a\n",
    "    else:\n",
    "        while(a):\n",
    "            b, a = a, b % a\n",
    "        return b\n",
    "\n",
    "res = hcf(25, 200)\n",
    "print(\"The H.C.F. is\", res)"
   ]
  },
  {
   "cell_type": "code",
   "execution_count": null,
   "id": "3a945a3a",
   "metadata": {},
   "outputs": [],
   "source": []
  }
 ],
 "metadata": {
  "kernelspec": {
   "display_name": "Python 3",
   "language": "python",
   "name": "python3"
  },
  "language_info": {
   "codemirror_mode": {
    "name": "ipython",
    "version": 3
   },
   "file_extension": ".py",
   "mimetype": "text/x-python",
   "name": "python",
   "nbconvert_exporter": "python",
   "pygments_lexer": "ipython3",
   "version": "3.8.11"
  }
 },
 "nbformat": 4,
 "nbformat_minor": 5
}
