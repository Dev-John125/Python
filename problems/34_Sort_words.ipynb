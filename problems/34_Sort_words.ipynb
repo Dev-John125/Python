{
 "cells": [
  {
   "cell_type": "markdown",
   "id": "1bada86f",
   "metadata": {},
   "source": [
    "## 34. To Sort words in alphabetical order"
   ]
  },
  {
   "cell_type": "code",
   "execution_count": 10,
   "id": "d7059cb2",
   "metadata": {},
   "outputs": [
    {
     "name": "stdout",
     "output_type": "stream",
     "text": [
      "Enter a sentence: this is my thirty fourth program\n",
      "\n",
      "The words in alphabetical order is as follows: \n",
      "fourth\n",
      "is\n",
      "my\n",
      "program\n",
      "thirty\n",
      "this\n"
     ]
    }
   ],
   "source": [
    "def sort(str1):\n",
    "    lis2=str1.split()              # split by defualt splits the statement where blanks are encountered\n",
    "    lis2.sort()\n",
    "    for i in lis2:\n",
    "        print(i)\n",
    "\n",
    "n=input(\"Enter a sentence: \")\n",
    "print(\"\\nThe words in alphabetical order is as follows: \")\n",
    "sort(n)"
   ]
  },
  {
   "cell_type": "code",
   "execution_count": null,
   "id": "125c0bd3",
   "metadata": {},
   "outputs": [],
   "source": []
  }
 ],
 "metadata": {
  "kernelspec": {
   "display_name": "Python 3",
   "language": "python",
   "name": "python3"
  },
  "language_info": {
   "codemirror_mode": {
    "name": "ipython",
    "version": 3
   },
   "file_extension": ".py",
   "mimetype": "text/x-python",
   "name": "python",
   "nbconvert_exporter": "python",
   "pygments_lexer": "ipython3",
   "version": "3.8.11"
  }
 },
 "nbformat": 4,
 "nbformat_minor": 5
}
