{
 "cells": [
  {
   "cell_type": "markdown",
   "id": "e87364bc",
   "metadata": {},
   "source": [
    "## 11. To Print the Fibonacci sequence"
   ]
  },
  {
   "cell_type": "code",
   "execution_count": 1,
   "id": "1f8b0d1b",
   "metadata": {},
   "outputs": [
    {
     "name": "stdout",
     "output_type": "stream",
     "text": [
      "Enter the number of elements: 11\n",
      "\n",
      "The fibonacci series is as follows\n",
      "0 1 1 2 3 5 8 13 21 34 55 89 144 233 "
     ]
    }
   ],
   "source": [
    "def fibo(n):\n",
    "    li=[]\n",
    "    li=[0,1]\n",
    "    for i in range(n+1):\n",
    "        new=li[-2]+li[-1]\n",
    "        li.append(new)\n",
    "    \n",
    "    \n",
    "    print(\"\\nThe fibonacci series is as follows\")\n",
    "    for item in li:\n",
    "        print(str(item),end=\" \")\n",
    "\n",
    "a=int(input(\"Enter the number of elements: \"))\n",
    "fibo(a)\n",
    "        "
   ]
  },
  {
   "cell_type": "code",
   "execution_count": null,
   "id": "7b1683a7",
   "metadata": {},
   "outputs": [],
   "source": []
  }
 ],
 "metadata": {
  "kernelspec": {
   "display_name": "Python 3",
   "language": "python",
   "name": "python3"
  },
  "language_info": {
   "codemirror_mode": {
    "name": "ipython",
    "version": 3
   },
   "file_extension": ".py",
   "mimetype": "text/x-python",
   "name": "python",
   "nbconvert_exporter": "python",
   "pygments_lexer": "ipython3",
   "version": "3.8.11"
  }
 },
 "nbformat": 4,
 "nbformat_minor": 5
}
