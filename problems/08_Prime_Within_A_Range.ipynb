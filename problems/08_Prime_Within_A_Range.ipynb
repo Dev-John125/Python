{
 "cells": [
  {
   "cell_type": "markdown",
   "id": "fb583a40",
   "metadata": {},
   "source": [
    "## 8. To display all the prime numbers within an interval"
   ]
  },
  {
   "cell_type": "code",
   "execution_count": 1,
   "id": "d594d3be",
   "metadata": {},
   "outputs": [
    {
     "name": "stdout",
     "output_type": "stream",
     "text": [
      "Enter starting value : 15\n",
      "Enter ending value: 100\n",
      "The prime numbers are : 17 19 23 29 31 37 41 43 47 53 59 61 67 71 73 79 83 89 97 "
     ]
    }
   ],
   "source": [
    "def primeRange(u,l):\n",
    "    li=[]\n",
    "    for i in range(u,l+1):      \n",
    "        for j in range(2,i):    #the interval includes starting and ending values so l+1\n",
    "            if(i % j == 0):\n",
    "                break\n",
    "        else:\n",
    "            li.append(i)\n",
    "    print(\"The prime numbers are : \",end=\"\")\n",
    "    for k in li:\n",
    "        print(str(k) + \" \",end=\"\")\n",
    "\n",
    "start=int(input(\"Enter starting value : \"))\n",
    "end=int(input(\"Enter ending value: \"))\n",
    "primeRange(start,end)"
   ]
  },
  {
   "cell_type": "code",
   "execution_count": null,
   "id": "5ab8bb14",
   "metadata": {},
   "outputs": [],
   "source": []
  }
 ],
 "metadata": {
  "kernelspec": {
   "display_name": "Python 3",
   "language": "python",
   "name": "python3"
  },
  "language_info": {
   "codemirror_mode": {
    "name": "ipython",
    "version": 3
   },
   "file_extension": ".py",
   "mimetype": "text/x-python",
   "name": "python",
   "nbconvert_exporter": "python",
   "pygments_lexer": "ipython3",
   "version": "3.8.11"
  }
 },
 "nbformat": 4,
 "nbformat_minor": 5
}
