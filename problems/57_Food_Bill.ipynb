{
 "cells": [
  {
   "cell_type": "markdown",
   "id": "1a8219eb",
   "metadata": {},
   "source": [
    "## 57. WAP to read item details and create a printable bill"
   ]
  },
  {
   "cell_type": "code",
   "execution_count": 47,
   "id": "c05556d8",
   "metadata": {},
   "outputs": [],
   "source": [
    "def create(order):\n",
    "    file = open('sales.txt' , 'w')\n",
    "    file.write(\"Burger King\\nPatia Bhubaneswar- 751023\" + '\\n' + '---------------------------------------'+'\\n\\n')\n",
    "    total = 0\n",
    "    for item, price in order.items():\n",
    "        file.write('- ' + item + ' ' + format(price, '.2f') + '\\n')\n",
    "        total += price\n",
    "    sgst = cgst = (total * 9)/100\n",
    "    total += cgst + sgst\n",
    "    \n",
    "    file. write('\\n          S.G.S.T @9% = ' + format(sgst,'.2f')+ '\\n')\n",
    "    file. write('          C.G.S.T @9% = ' + format(cgst,'.2f')+ '\\n')\n",
    "    file. write('             Subtotal = ' + format(total,'.2f')+ '\\n\\n\\n')\n",
    "    \n",
    "    file.write('---------------------------------------' + '\\n' + 'Thank you for coming !! Visit Again...')\n",
    "    file.close()\n",
    "    \n",
    "my_dict={'Chicken Fiery Burger ': 250 , 'Med Fries            ': 79 , 'Veggie Strips        ': 49 , 'Pepsi Can            ': 60 , 'Grilled Wings        ': 350 ,'Blue Lagoon          ': 180}\n",
    "create(my_dict)"
   ]
  },
  {
   "cell_type": "code",
   "execution_count": null,
   "id": "cb51b646",
   "metadata": {},
   "outputs": [],
   "source": [
    "# OUTPUT\n",
    "\n",
    "'''\n",
    "Burger King\n",
    "Patia Bhubaneswar- 751023\n",
    "---------------------------------------\n",
    "\n",
    "- Chicken Fiery Burger  250.00\n",
    "- Med Fries             79.00\n",
    "- Veggie Strips         49.00\n",
    "- Pepsi Can             60.00\n",
    "- Grilled Wings         350.00\n",
    "- Blue Lagoon           180.00\n",
    "\n",
    "          S.G.S.T @9% = 87.12\n",
    "          C.G.S.T @9% = 87.12\n",
    "             Subtotal = 1142.24\n",
    "\n",
    "\n",
    "---------------------------------------\n",
    "Thank you for coming !! Visit Again...\n",
    "'''"
   ]
  }
 ],
 "metadata": {
  "kernelspec": {
   "display_name": "Python 3",
   "language": "python",
   "name": "python3"
  },
  "language_info": {
   "codemirror_mode": {
    "name": "ipython",
    "version": 3
   },
   "file_extension": ".py",
   "mimetype": "text/x-python",
   "name": "python",
   "nbconvert_exporter": "python",
   "pygments_lexer": "ipython3",
   "version": "3.8.8"
  }
 },
 "nbformat": 4,
 "nbformat_minor": 5
}
