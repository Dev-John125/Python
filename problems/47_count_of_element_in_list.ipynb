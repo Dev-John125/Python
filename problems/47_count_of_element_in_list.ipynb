{
 "cells": [
  {
   "cell_type": "markdown",
   "id": "696a5971",
   "metadata": {},
   "source": [
    "## 47. To return the number of times the specified element appears in the list"
   ]
  },
  {
   "cell_type": "code",
   "execution_count": 5,
   "id": "42f005e2",
   "metadata": {},
   "outputs": [
    {
     "name": "stdout",
     "output_type": "stream",
     "text": [
      "Enter the number to be counted: 8\n",
      "8 was present 4 times in the list\n"
     ]
    }
   ],
   "source": [
    "# count function can directly count an element in a list\n",
    "def count_elements(list1,key):\n",
    "    c=0\n",
    "    for i in list1:\n",
    "        if (i == key):\n",
    "            c+=1\n",
    "    return c\n",
    "\n",
    "list1=[8,6,8,10,20,10,3,8,2,8]\n",
    "x=int(input(\"Enter the number to be counted: \"))\n",
    "print(f\"{x} was present {count_elements(list1,x)} times in the list\")"
   ]
  },
  {
   "cell_type": "code",
   "execution_count": null,
   "id": "535969e9",
   "metadata": {},
   "outputs": [],
   "source": []
  }
 ],
 "metadata": {
  "kernelspec": {
   "display_name": "Python 3",
   "language": "python",
   "name": "python3"
  },
  "language_info": {
   "codemirror_mode": {
    "name": "ipython",
    "version": 3
   },
   "file_extension": ".py",
   "mimetype": "text/x-python",
   "name": "python",
   "nbconvert_exporter": "python",
   "pygments_lexer": "ipython3",
   "version": "3.8.11"
  }
 },
 "nbformat": 4,
 "nbformat_minor": 5
}
