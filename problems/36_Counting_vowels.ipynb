{
 "cells": [
  {
   "cell_type": "markdown",
   "id": "b55d518c",
   "metadata": {},
   "source": [
    "## 36. To count the number of each vowels using  list and dictionary comprehention"
   ]
  },
  {
   "cell_type": "code",
   "execution_count": 11,
   "id": "18a0dbfb",
   "metadata": {},
   "outputs": [
    {
     "name": "stdout",
     "output_type": "stream",
     "text": [
      "Enter a string: Data Science is the sexiest job in 21st century\n",
      "{'a': 2, 'e': 6, 'i': 4, 'o': 1, 'u': 1}\n"
     ]
    }
   ],
   "source": [
    "#using list comprehention\n",
    "vowels = 'aeiou'\n",
    "\n",
    "string = input(\"Enter a string: \")\n",
    "string = string.lower()\n",
    "\n",
    "res = {}.fromkeys(vowels,0)        # the dictionary method fromkeys() is used to construct a new \n",
    "                                   # dictionary with each vowel as its key and all values equal to 0. \n",
    "for char in string:\n",
    "    if char in res:\n",
    "        res[char] += 1\n",
    "\n",
    "print(res)"
   ]
  },
  {
   "cell_type": "code",
   "execution_count": 6,
   "id": "29f1d456",
   "metadata": {},
   "outputs": [
    {
     "name": "stdout",
     "output_type": "stream",
     "text": [
      "Enter a string: Data Science is the sexiest job in 21st century\n",
      "{'a': 2, 'e': 6, 'i': 4, 'o': 1, 'u': 1}\n"
     ]
    }
   ],
   "source": [
    "#using list comprehention inside dictionary comprehention\n",
    "\n",
    "string = input(\"Enter a string: \")\n",
    "string =string.lower()\n",
    "res = {ans:sum([1 for char in string if char == ans]) for ans in 'aeiou'}\n",
    "\n",
    "print(res)"
   ]
  },
  {
   "cell_type": "code",
   "execution_count": null,
   "id": "0024a242",
   "metadata": {},
   "outputs": [],
   "source": []
  }
 ],
 "metadata": {
  "kernelspec": {
   "display_name": "Python 3",
   "language": "python",
   "name": "python3"
  },
  "language_info": {
   "codemirror_mode": {
    "name": "ipython",
    "version": 3
   },
   "file_extension": ".py",
   "mimetype": "text/x-python",
   "name": "python",
   "nbconvert_exporter": "python",
   "pygments_lexer": "ipython3",
   "version": "3.8.11"
  }
 },
 "nbformat": 4,
 "nbformat_minor": 5
}
