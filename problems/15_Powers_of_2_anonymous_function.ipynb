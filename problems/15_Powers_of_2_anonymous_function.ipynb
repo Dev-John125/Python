{
 "cells": [
  {
   "cell_type": "markdown",
   "id": "62803a93",
   "metadata": {},
   "source": [
    "## 15. To Display Powers of 2 Using Anonymous Function"
   ]
  },
  {
   "cell_type": "code",
   "execution_count": 4,
   "id": "9dcf88b7",
   "metadata": {},
   "outputs": [
    {
     "name": "stdout",
     "output_type": "stream",
     "text": [
      "Enter no. of terms: 10\n",
      "2 raised to the power of 1 is 2\n",
      "2 raised to the power of 2 is 4\n",
      "2 raised to the power of 3 is 8\n",
      "2 raised to the power of 4 is 16\n",
      "2 raised to the power of 5 is 32\n",
      "2 raised to the power of 6 is 64\n",
      "2 raised to the power of 7 is 128\n",
      "2 raised to the power of 8 is 256\n",
      "2 raised to the power of 9 is 512\n",
      "2 raised to the power of 10 is 1024\n"
     ]
    }
   ],
   "source": [
    "# anonymous functions are functions which do not have a name \n",
    "# they are defined using lambda instead of def keyword\n",
    "# anonymous functions are also called lambda functions\n",
    "# they can have a no. of arguments but only one expression\n",
    "# We use anonymous functions when we require a nameless function for a short period of time\n",
    "\n",
    "# lambda func is mostly used with built in functions like map, reduce and filter\n",
    "# filter filters a certain no. of values based on a condition (eg: getting even nos from a list) \n",
    "# map is used to apply some operation on all the values (eg: getting the cube of all nos from a list)\n",
    "# reduce is used to return one value from a chunk (eg: adding all the values on a list)\n",
    "# reduce needs to be imported from functools\n",
    "\n",
    "n=int(input(\"Enter no. of terms: \"))\n",
    "res=list(map(lambda x: 2**x,range(n+1)))    #map is used as all the values need to be changed\n",
    "\n",
    "for i in range(1,n+1):\n",
    "    print(f\"2 raised to the power of {i} is {res[i]}\")"
   ]
  },
  {
   "cell_type": "code",
   "execution_count": null,
   "id": "bc45e801",
   "metadata": {},
   "outputs": [],
   "source": []
  }
 ],
 "metadata": {
  "kernelspec": {
   "display_name": "Python 3",
   "language": "python",
   "name": "python3"
  },
  "language_info": {
   "codemirror_mode": {
    "name": "ipython",
    "version": 3
   },
   "file_extension": ".py",
   "mimetype": "text/x-python",
   "name": "python",
   "nbconvert_exporter": "python",
   "pygments_lexer": "ipython3",
   "version": "3.8.11"
  }
 },
 "nbformat": 4,
 "nbformat_minor": 5
}
