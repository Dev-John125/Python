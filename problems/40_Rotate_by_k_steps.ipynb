{
 "cells": [
  {
   "cell_type": "markdown",
   "id": "c7c79e38",
   "metadata": {},
   "source": [
    "## 40. To Rotate an array of n elements to the right by k steps."
   ]
  },
  {
   "cell_type": "code",
   "execution_count": 4,
   "id": "e2f1a5ef",
   "metadata": {},
   "outputs": [
    {
     "name": "stdout",
     "output_type": "stream",
     "text": [
      "Enter the value of k: 3\n",
      "Original list is : [1, 2, 3, 4, 5, 6, 7]\n",
      "New list after rotation is : [4, 5, 6, 7, 1, 2, 3]\n"
     ]
    }
   ],
   "source": [
    "def rotate(li,k):\n",
    "    n=len(li)\n",
    "    list1=[]\n",
    "    list1[:]=li[k:n] + li[0:k]\n",
    "    return list1\n",
    "\n",
    "li=[1,2,3,4,5,6,7]\n",
    "val=int(input(\"Enter the value of k: \"))\n",
    "print(\"Original list is :\",li)\n",
    "print(\"New list after rotation is :\",end=' ')\n",
    "print(rotate(li,val))"
   ]
  },
  {
   "cell_type": "code",
   "execution_count": null,
   "id": "fa5e9dfa",
   "metadata": {},
   "outputs": [],
   "source": []
  }
 ],
 "metadata": {
  "kernelspec": {
   "display_name": "Python 3",
   "language": "python",
   "name": "python3"
  },
  "language_info": {
   "codemirror_mode": {
    "name": "ipython",
    "version": 3
   },
   "file_extension": ".py",
   "mimetype": "text/x-python",
   "name": "python",
   "nbconvert_exporter": "python",
   "pygments_lexer": "ipython3",
   "version": "3.8.11"
  }
 },
 "nbformat": 4,
 "nbformat_minor": 5
}
