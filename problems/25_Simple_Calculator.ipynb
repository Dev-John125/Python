{
 "cells": [
  {
   "cell_type": "markdown",
   "id": "c32e8fe5",
   "metadata": {},
   "source": [
    "## 25. To Make a Simple Calculator"
   ]
  },
  {
   "cell_type": "code",
   "execution_count": 2,
   "id": "b3927ad1",
   "metadata": {},
   "outputs": [
    {
     "name": "stdout",
     "output_type": "stream",
     "text": [
      "Enter the first number: 25\n",
      "Enter the second number: 11\n",
      "Enter a choice[Addition-1,Substraction-2,Multiplication-3,Division-4]: 3\n",
      "The answer is  275\n"
     ]
    }
   ],
   "source": [
    "def add(a,b):\n",
    "  return a+b\n",
    "def sub(a,b):\n",
    "  return a-b\n",
    "def mul(a,b):\n",
    "  return a*b\n",
    "def div(a,b):\n",
    "  return a/b\n",
    "def default():\n",
    "  return \"not found. Please try again!\"\n",
    "\n",
    "def cases(x,a,b):\n",
    "    \n",
    "    switch_case = {            #implementation of switch case(C lang) using dictionary in python\n",
    "      1: add(a,b),\n",
    "      2: sub(a,b), \n",
    "      3: mul(a,b),\n",
    "      4: div(a,b)\n",
    "    }\n",
    "    \n",
    "    res=switch_case.get(x,default())\n",
    "    print(\"The answer is \",res)\n",
    "\n",
    "n1=int(input(\"Enter the first number: \"))\n",
    "n2=int(input(\"Enter the second number: \"))\n",
    "choice=int(input(\"Enter a choice[Addition-1,Substraction-2,Multiplication-3,Division-4]: \"))\n",
    "cases(choice,n1,n2)"
   ]
  },
  {
   "cell_type": "code",
   "execution_count": null,
   "id": "200f8b04",
   "metadata": {},
   "outputs": [],
   "source": []
  }
 ],
 "metadata": {
  "kernelspec": {
   "display_name": "Python 3",
   "language": "python",
   "name": "python3"
  },
  "language_info": {
   "codemirror_mode": {
    "name": "ipython",
    "version": 3
   },
   "file_extension": ".py",
   "mimetype": "text/x-python",
   "name": "python",
   "nbconvert_exporter": "python",
   "pygments_lexer": "ipython3",
   "version": "3.8.11"
  }
 },
 "nbformat": 4,
 "nbformat_minor": 5
}
