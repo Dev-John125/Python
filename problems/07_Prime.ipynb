{
 "cells": [
  {
   "cell_type": "markdown",
   "id": "883be4b1",
   "metadata": {},
   "source": [
    "## 7. To check if a number is prime or not"
   ]
  },
  {
   "cell_type": "code",
   "execution_count": 1,
   "id": "92114090",
   "metadata": {},
   "outputs": [
    {
     "name": "stdout",
     "output_type": "stream",
     "text": [
      "Enter a number: 57\n",
      "The given no. is not prime\n"
     ]
    }
   ],
   "source": [
    "def prime(n):\n",
    "    ans=True\n",
    "    for i in range(2,n):\n",
    "        if(n % i == 0):\n",
    "            ans=False\n",
    "            break\n",
    "    if(ans):\n",
    "        print(\"The given no. is prime\")\n",
    "    else:\n",
    "        print(\"The given no. is not prime\")\n",
    "\n",
    "n=int(input(\"Enter a number: \"))\n",
    "prime(n)\n",
    "        "
   ]
  },
  {
   "cell_type": "code",
   "execution_count": null,
   "id": "c028bbae",
   "metadata": {},
   "outputs": [],
   "source": []
  }
 ],
 "metadata": {
  "kernelspec": {
   "display_name": "Python 3",
   "language": "python",
   "name": "python3"
  },
  "language_info": {
   "codemirror_mode": {
    "name": "ipython",
    "version": 3
   },
   "file_extension": ".py",
   "mimetype": "text/x-python",
   "name": "python",
   "nbconvert_exporter": "python",
   "pygments_lexer": "ipython3",
   "version": "3.8.11"
  }
 },
 "nbformat": 4,
 "nbformat_minor": 5
}
