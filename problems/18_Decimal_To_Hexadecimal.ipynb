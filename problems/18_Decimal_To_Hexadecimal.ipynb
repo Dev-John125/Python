{
 "cells": [
  {
   "cell_type": "markdown",
   "id": "ba961a8f",
   "metadata": {},
   "source": [
    "## 18. To Convert Decimal to Hexadecimal"
   ]
  },
  {
   "cell_type": "code",
   "execution_count": 1,
   "id": "4710e709",
   "metadata": {},
   "outputs": [
    {
     "name": "stdout",
     "output_type": "stream",
     "text": [
      "Enter a number: 2524\n",
      "Hexadecimal number is: 9DC\n"
     ]
    }
   ],
   "source": [
    "def hexChar(digit):\n",
    "    if digit < 10:\n",
    "        return str(digit)\n",
    "    if digit == 10:\n",
    "        return \"A\"\n",
    "    if digit == 11:\n",
    "        return \"B\"\n",
    "    if digit == 12:\n",
    "        return \"C\"\n",
    "    if digit == 13:\n",
    "        return \"D\"\n",
    "    if digit == 14:\n",
    "        return \"E\"\n",
    "    if digit == 15:\n",
    "        return \"F\"\n",
    "\n",
    "def decimalToHexa(n):\n",
    "    res=str()\n",
    "    while n>0:\n",
    "        rem=n%16\n",
    "        n=n//16\n",
    "        res=hexChar(rem)+res          # recent hex char is added first to the string and then the other characters\n",
    "    \n",
    "    print(res)\n",
    "\n",
    "    \n",
    "a=int(input(\"Enter a number: \"))\n",
    "print(\"Hexadecimal number is:\",end=\" \")\n",
    "decimalToHexa(a)"
   ]
  },
  {
   "cell_type": "code",
   "execution_count": null,
   "id": "52e4af25",
   "metadata": {},
   "outputs": [],
   "source": []
  }
 ],
 "metadata": {
  "kernelspec": {
   "display_name": "Python 3",
   "language": "python",
   "name": "python3"
  },
  "language_info": {
   "codemirror_mode": {
    "name": "ipython",
    "version": 3
   },
   "file_extension": ".py",
   "mimetype": "text/x-python",
   "name": "python",
   "nbconvert_exporter": "python",
   "pygments_lexer": "ipython3",
   "version": "3.8.11"
  }
 },
 "nbformat": 4,
 "nbformat_minor": 5
}
