{
 "cells": [
  {
   "cell_type": "markdown",
   "id": "6aea826f",
   "metadata": {},
   "source": [
    "## 56. WAP to input sales of the month and calculate the average sales of that month"
   ]
  },
  {
   "cell_type": "code",
   "execution_count": 1,
   "id": "87c5ab55",
   "metadata": {},
   "outputs": [
    {
     "name": "stdout",
     "output_type": "stream",
     "text": [
      "Enter the number of sales: 5\n",
      "Enter the sales: 45\n",
      "Enter the sales: 67\n",
      "Enter the sales: 34\n",
      "Enter the sales: 98\n",
      "Enter the sales: 124\n",
      "\n",
      "Average sales calculated = 73.6\n"
     ]
    }
   ],
   "source": [
    "def avgSales(sales):\n",
    "    total = 0\n",
    "    for i in sales:\n",
    "        total += i\n",
    "    avg = total / len(sales)\n",
    "    print(\"\\nAverage sales calculated =\",avg)\n",
    "\n",
    "li=[]\n",
    "n=int(input(\"Enter the number of sales: \"))\n",
    "for i in range(n):\n",
    "    saleInp=int(input(\"Enter the sales: \"))\n",
    "    li.append(saleInp)\n",
    "avgSales(li)"
   ]
  },
  {
   "cell_type": "code",
   "execution_count": null,
   "id": "3d7feace",
   "metadata": {},
   "outputs": [],
   "source": []
  }
 ],
 "metadata": {
  "kernelspec": {
   "display_name": "Python 3",
   "language": "python",
   "name": "python3"
  },
  "language_info": {
   "codemirror_mode": {
    "name": "ipython",
    "version": 3
   },
   "file_extension": ".py",
   "mimetype": "text/x-python",
   "name": "python",
   "nbconvert_exporter": "python",
   "pygments_lexer": "ipython3",
   "version": "3.8.8"
  }
 },
 "nbformat": 4,
 "nbformat_minor": 5
}
