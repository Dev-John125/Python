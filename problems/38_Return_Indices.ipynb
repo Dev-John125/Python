{
 "cells": [
  {
   "cell_type": "markdown",
   "id": "3d26155e",
   "metadata": {},
   "source": [
    "## 38. Given an array of integers, return indices of the two numbers such that they add up to a specific target."
   ]
  },
  {
   "cell_type": "code",
   "execution_count": 4,
   "id": "3bafba42",
   "metadata": {},
   "outputs": [
    {
     "name": "stdout",
     "output_type": "stream",
     "text": [
      "The indices are  [0, 3]\n"
     ]
    }
   ],
   "source": [
    "def return_indices(li,target):\n",
    "    store = dict()      # to store the numbers after subtracting so as to compare it with other numbers\n",
    "    for i in range(len(li)):\n",
    "        sec = target - li[i]\n",
    "        if sec not in store:\n",
    "            store[li[i]]=i\n",
    "        else:\n",
    "            return [store[sec],i] \n",
    "        \n",
    "list1= [7,9,11,14,21]\n",
    "target=21\n",
    "print(\"The indices are \",return_indices(list1,target))"
   ]
  },
  {
   "cell_type": "code",
   "execution_count": null,
   "id": "2fb226aa",
   "metadata": {},
   "outputs": [],
   "source": []
  }
 ],
 "metadata": {
  "kernelspec": {
   "display_name": "Python 3",
   "language": "python",
   "name": "python3"
  },
  "language_info": {
   "codemirror_mode": {
    "name": "ipython",
    "version": 3
   },
   "file_extension": ".py",
   "mimetype": "text/x-python",
   "name": "python",
   "nbconvert_exporter": "python",
   "pygments_lexer": "ipython3",
   "version": "3.8.11"
  }
 },
 "nbformat": 4,
 "nbformat_minor": 5
}
