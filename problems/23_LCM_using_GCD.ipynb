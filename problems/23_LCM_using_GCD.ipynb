{
 "cells": [
  {
   "cell_type": "markdown",
   "id": "3a7687d8",
   "metadata": {},
   "source": [
    "## 23. To find LCM of two numbers using GCD"
   ]
  },
  {
   "cell_type": "code",
   "execution_count": 1,
   "id": "a3230854",
   "metadata": {},
   "outputs": [
    {
     "name": "stdout",
     "output_type": "stream",
     "text": [
      "Enter first number: 72\n",
      "Enter second number: 120\n",
      "The L.C.M is 360.0\n"
     ]
    }
   ],
   "source": [
    "def lcm(a, b):\n",
    "    if a > b:\n",
    "        smaller = a                      \n",
    "    else:\n",
    "        smaller = b\n",
    "    for i in range(1, smaller+1):\n",
    "        if((a % i == 0) and (b % i == 0)):\n",
    "            res = i \n",
    "    lcm=(a*b)/res                                  # LCM=(n1*n2)/HCF\n",
    "    return lcm\n",
    "\n",
    "n1=int(input(\"Enter first number: \"))\n",
    "n2=int(input(\"Enter second number: \"))\n",
    "print(\"The L.C.M is\", lcm(n1, n2))"
   ]
  },
  {
   "cell_type": "code",
   "execution_count": null,
   "id": "a040baab",
   "metadata": {},
   "outputs": [],
   "source": []
  }
 ],
 "metadata": {
  "kernelspec": {
   "display_name": "Python 3",
   "language": "python",
   "name": "python3"
  },
  "language_info": {
   "codemirror_mode": {
    "name": "ipython",
    "version": 3
   },
   "file_extension": ".py",
   "mimetype": "text/x-python",
   "name": "python",
   "nbconvert_exporter": "python",
   "pygments_lexer": "ipython3",
   "version": "3.8.11"
  }
 },
 "nbformat": 4,
 "nbformat_minor": 5
}
