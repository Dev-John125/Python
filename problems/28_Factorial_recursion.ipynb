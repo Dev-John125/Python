{
 "cells": [
  {
   "cell_type": "markdown",
   "id": "7d568ac9",
   "metadata": {},
   "source": [
    "## 28. To find the factorial of a number using recursion"
   ]
  },
  {
   "cell_type": "code",
   "execution_count": 1,
   "id": "9bf97a01",
   "metadata": {},
   "outputs": [
    {
     "name": "stdout",
     "output_type": "stream",
     "text": [
      "Enter a number: 10\n",
      "The factorial is : 3628800\n"
     ]
    }
   ],
   "source": [
    "def fact(n):\n",
    "    if (n>=1):\n",
    "        return n*fact(n-1)\n",
    "    else:\n",
    "        return 1;\n",
    "\n",
    "a=int(input(\"Enter a number: \"))\n",
    "print(\"The factorial is :\",fact(a))"
   ]
  },
  {
   "cell_type": "code",
   "execution_count": null,
   "id": "d01a4c22",
   "metadata": {},
   "outputs": [],
   "source": []
  }
 ],
 "metadata": {
  "kernelspec": {
   "display_name": "Python 3",
   "language": "python",
   "name": "python3"
  },
  "language_info": {
   "codemirror_mode": {
    "name": "ipython",
    "version": 3
   },
   "file_extension": ".py",
   "mimetype": "text/x-python",
   "name": "python",
   "nbconvert_exporter": "python",
   "pygments_lexer": "ipython3",
   "version": "3.8.11"
  }
 },
 "nbformat": 4,
 "nbformat_minor": 5
}
