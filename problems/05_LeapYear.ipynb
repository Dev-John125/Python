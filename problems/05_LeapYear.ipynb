{
 "cells": [
  {
   "cell_type": "markdown",
   "id": "be820780",
   "metadata": {},
   "source": [
    "## 5. To Check Leap Year"
   ]
  },
  {
   "cell_type": "code",
   "execution_count": 1,
   "id": "79ff5603",
   "metadata": {},
   "outputs": [
    {
     "name": "stdout",
     "output_type": "stream",
     "text": [
      "Enter a year: 1600\n",
      "It is a leap year\n"
     ]
    }
   ],
   "source": [
    "\n",
    "def leapYear(n):\n",
    "    if(n % 4 == 0 and n % 100 !=0):\n",
    "        print(\"It is a leap year\")\n",
    "    elif(n % 400 == 0):\n",
    "        print(\"It is a leap year\")\n",
    "    else:\n",
    "        print(\"It is not a leap year\")\n",
    "\n",
    "n=int(input(\"Enter a year: \"))\n",
    "leapYear(n)"
   ]
  },
  {
   "cell_type": "code",
   "execution_count": null,
   "id": "6c5be582",
   "metadata": {},
   "outputs": [],
   "source": []
  }
 ],
 "metadata": {
  "kernelspec": {
   "display_name": "Python 3",
   "language": "python",
   "name": "python3"
  },
  "language_info": {
   "codemirror_mode": {
    "name": "ipython",
    "version": 3
   },
   "file_extension": ".py",
   "mimetype": "text/x-python",
   "name": "python",
   "nbconvert_exporter": "python",
   "pygments_lexer": "ipython3",
   "version": "3.8.11"
  }
 },
 "nbformat": 4,
 "nbformat_minor": 5
}
