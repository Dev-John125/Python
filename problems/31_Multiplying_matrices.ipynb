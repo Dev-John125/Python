{
 "cells": [
  {
   "cell_type": "markdown",
   "id": "799794a0",
   "metadata": {},
   "source": [
    "## 31. Multiplying two matrices using nested loop and list comprehention"
   ]
  },
  {
   "cell_type": "code",
   "execution_count": 1,
   "id": "299f445e",
   "metadata": {},
   "outputs": [
    {
     "name": "stdout",
     "output_type": "stream",
     "text": [
      "[300, 360, 420]\n",
      "[660, 810, 960]\n",
      "[1020, 1260, 1500]\n"
     ]
    }
   ],
   "source": [
    "# using nested loop\n",
    "X = [[10,20,30],\n",
    "    [40,50,60],\n",
    "    [70,80,90]]\n",
    "  \n",
    "Y = [[1,2,3],\n",
    "    [4,5,6],\n",
    "    [7,8,9]]\n",
    "\n",
    "res=[[0,0,0],\n",
    "    [0,0,0],\n",
    "    [0,0,0]]\n",
    "\n",
    "for i in range (len(X)):\n",
    "    for j in range(len(Y[0])):\n",
    "        for k in range(len(Y)):\n",
    "            res[i][j]+= X[i][k] * Y[k][j]\n",
    "            \n",
    "for i in res:\n",
    "    print(i)\n",
    "            "
   ]
  },
  {
   "cell_type": "code",
   "execution_count": 2,
   "id": "1ae1ee4f",
   "metadata": {},
   "outputs": [
    {
     "name": "stdout",
     "output_type": "stream",
     "text": [
      "[300, 360, 420]\n",
      "[660, 810, 960]\n",
      "[1020, 1260, 1500]\n"
     ]
    }
   ],
   "source": [
    "# using list comprehention\n",
    "X = [[10,20,30],\n",
    "    [40,50,60],\n",
    "    [70,80,90]]\n",
    "  \n",
    "Y = [[1,2,3],\n",
    "    [4,5,6],\n",
    "    [7,8,9]]\n",
    "\n",
    "res=[[0,0,0],\n",
    "    [0,0,0],\n",
    "    [0,0,0]]\n",
    "res = [[sum(a*b for a,b in zip(X_row,Y_col)) for Y_col in zip(*Y)] for X_row in X]\n",
    "\n",
    "# The zip() function returns a zip object, which is an iterator of tuples where the first item in each passed iterator is \n",
    "# paired together, and then the second item in each passed iterator are paired together etc.\n",
    "# If the passed iterators have different lengths, the iterator with the least items decides the length of the new iterator.\n",
    "\n",
    "\n",
    "\n",
    "for i in res:\n",
    "    print(i)"
   ]
  },
  {
   "cell_type": "code",
   "execution_count": null,
   "id": "78fbb5cc",
   "metadata": {},
   "outputs": [],
   "source": []
  }
 ],
 "metadata": {
  "kernelspec": {
   "display_name": "Python 3",
   "language": "python",
   "name": "python3"
  },
  "language_info": {
   "codemirror_mode": {
    "name": "ipython",
    "version": 3
   },
   "file_extension": ".py",
   "mimetype": "text/x-python",
   "name": "python",
   "nbconvert_exporter": "python",
   "pygments_lexer": "ipython3",
   "version": "3.8.11"
  }
 },
 "nbformat": 4,
 "nbformat_minor": 5
}
