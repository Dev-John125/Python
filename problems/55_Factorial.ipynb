{
 "cells": [
  {
   "cell_type": "markdown",
   "id": "0a355952",
   "metadata": {},
   "source": [
    "## 55. WAP to print the factorial of the given number, where number is entered by the user. \n"
   ]
  },
  {
   "cell_type": "code",
   "execution_count": 8,
   "id": "e550f5bc",
   "metadata": {},
   "outputs": [
    {
     "name": "stdout",
     "output_type": "stream",
     "text": [
      "Enter a number to find its factorial: 5\n",
      "The factorial of 5 is 120\n"
     ]
    }
   ],
   "source": [
    "#3\n",
    "def factorial(n):\n",
    "    res = 1\n",
    "    for i in range(1,n+1):\n",
    "        res *= i\n",
    "    print(f\"The factorial of {n} is\",res)\n",
    "\n",
    "a=int(input(\"Enter a number to find its factorial: \"))\n",
    "factorial(a)"
   ]
  },
  {
   "cell_type": "code",
   "execution_count": null,
   "id": "ad8d5c92",
   "metadata": {},
   "outputs": [],
   "source": []
  }
 ],
 "metadata": {
  "kernelspec": {
   "display_name": "Python 3",
   "language": "python",
   "name": "python3"
  },
  "language_info": {
   "codemirror_mode": {
    "name": "ipython",
    "version": 3
   },
   "file_extension": ".py",
   "mimetype": "text/x-python",
   "name": "python",
   "nbconvert_exporter": "python",
   "pygments_lexer": "ipython3",
   "version": "3.8.8"
  }
 },
 "nbformat": 4,
 "nbformat_minor": 5
}
