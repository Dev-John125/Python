{
 "cells": [
  {
   "cell_type": "markdown",
   "id": "5ee8a220",
   "metadata": {},
   "source": [
    "## 35. Set Operations in Python"
   ]
  },
  {
   "cell_type": "code",
   "execution_count": 8,
   "id": "cfc3cc6d",
   "metadata": {},
   "outputs": [
    {
     "name": "stdout",
     "output_type": "stream",
     "text": [
      "{1}\n",
      "{1, 2, 3, 4, 8, 9}\n",
      "{1, 2, 4, 8, 9}\n",
      "{2, 4, 8, 9}\n",
      "set()\n"
     ]
    }
   ],
   "source": [
    "#1 creating an empty set\n",
    "s=set()\n",
    "\n",
    "#2 adding one element in a set\n",
    "# Frozensets are sets which cannot be changed. They can be created  using frozenset()\n",
    "s.add(1)\n",
    "print(s)\n",
    "\n",
    "#3 adding multiple elements in a set\n",
    "s.update([1,2,3,4,8,9])       # duplicate elements cannot be present\n",
    "print(s)\n",
    "\n",
    "#4 to remove an element we use discard() or remove() \n",
    "#4 but discard() is preferred as it wont throw an error if the element is not found\n",
    "s.discard(3)\n",
    "print(s)\n",
    "\n",
    "#5 pop() can also be used to remove elements but we cant determine which element will be removed\n",
    "s.pop()\n",
    "print(s)\n",
    "\n",
    "#6 clear() removes all the element from a set\n",
    "s.clear()\n",
    "print(s)"
   ]
  },
  {
   "cell_type": "code",
   "execution_count": 11,
   "id": "51aad7c5",
   "metadata": {},
   "outputs": [
    {
     "name": "stdout",
     "output_type": "stream",
     "text": [
      "{1, 2, 3, 4, 5, 6, 7, 8, 9, 10}\n"
     ]
    }
   ],
   "source": [
    "#7 Set operations (Union) \n",
    "a={1,2,3,4,5,6}\n",
    "b={5,6,7,8,9,10}\n",
    "print(a | b)"
   ]
  },
  {
   "cell_type": "code",
   "execution_count": 12,
   "id": "e697ce02",
   "metadata": {},
   "outputs": [
    {
     "name": "stdout",
     "output_type": "stream",
     "text": [
      "{5, 6}\n"
     ]
    }
   ],
   "source": [
    "#8 Set operations (Intersection)\n",
    "a={1,2,3,4,5,6}\n",
    "b={5,6,7,8,9,10}\n",
    "print(a & b)"
   ]
  },
  {
   "cell_type": "code",
   "execution_count": 16,
   "id": "08a787b1",
   "metadata": {},
   "outputs": [
    {
     "name": "stdout",
     "output_type": "stream",
     "text": [
      "{1, 2, 3, 4}\n",
      "{8, 9, 10, 7}\n"
     ]
    }
   ],
   "source": [
    "#9 Set operations (Set difference)\n",
    "a={1,2,3,4,5,6}\n",
    "b={5,6,7,8,9,10}\n",
    "print(a - b)                     # elements present in a but not in b\n",
    "print(b - a)                     # elements present in b but not in a"
   ]
  },
  {
   "cell_type": "code",
   "execution_count": 17,
   "id": "fa3894b5",
   "metadata": {},
   "outputs": [
    {
     "name": "stdout",
     "output_type": "stream",
     "text": [
      "{1, 2, 3, 4, 7, 8, 9, 10}\n"
     ]
    }
   ],
   "source": [
    "#9 Set operations (Symmetric difference)\n",
    "a={1,2,3,4,5,6}\n",
    "b={5,6,7,8,9,10}\n",
    "print(a ^ b)            # opposite of intersection"
   ]
  },
  {
   "cell_type": "code",
   "execution_count": null,
   "id": "ae342f89",
   "metadata": {},
   "outputs": [],
   "source": []
  }
 ],
 "metadata": {
  "kernelspec": {
   "display_name": "Python 3",
   "language": "python",
   "name": "python3"
  },
  "language_info": {
   "codemirror_mode": {
    "name": "ipython",
    "version": 3
   },
   "file_extension": ".py",
   "mimetype": "text/x-python",
   "name": "python",
   "nbconvert_exporter": "python",
   "pygments_lexer": "ipython3",
   "version": "3.8.11"
  }
 },
 "nbformat": 4,
 "nbformat_minor": 5
}
