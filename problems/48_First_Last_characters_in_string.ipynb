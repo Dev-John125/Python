{
 "cells": [
  {
   "cell_type": "markdown",
   "id": "b5ca57ba",
   "metadata": {},
   "source": [
    "## 48. To access first and last characters in a string"
   ]
  },
  {
   "cell_type": "code",
   "execution_count": 1,
   "id": "b2823191",
   "metadata": {},
   "outputs": [
    {
     "name": "stdout",
     "output_type": "stream",
     "text": [
      "T g\n"
     ]
    }
   ],
   "source": [
    "string=\"This is a string\"\n",
    "last_char=string[-1]     #last char of string\n",
    "first_char=string[0]     #first char of string\n",
    "print(first_char,last_char)"
   ]
  },
  {
   "cell_type": "code",
   "execution_count": 9,
   "id": "29666542",
   "metadata": {},
   "outputs": [
    {
     "name": "stdout",
     "output_type": "stream",
     "text": [
      "s s a e g None\n",
      "T i a s s \n"
     ]
    }
   ],
   "source": [
    "#last and first character of every word in a string\n",
    "string=\"This is a sample string\"\n",
    "\n",
    "def last(string):\n",
    "    string=string + \" \"       # adding a space so that last char of all \n",
    "                              # the words are followed by a space\n",
    "    for i in range(len(string)):\n",
    "        if(string[i]== ' '):\n",
    "            print(string[i-1],end=\" \")\n",
    "\n",
    "def first(string):\n",
    "    res= \"\"\n",
    "    v = True\n",
    "    for j in range(len(string)):\n",
    "        if(string[j] == ' '):\n",
    "            v = True\n",
    "        elif(string[j] != ' ' and v == True):\n",
    "            res+=string[j]+' ' \n",
    "            v=False\n",
    "    \n",
    "    return res\n",
    "\n",
    "print(last(string))\n",
    "print(first(string))"
   ]
  },
  {
   "cell_type": "code",
   "execution_count": null,
   "id": "dd52beb0",
   "metadata": {},
   "outputs": [],
   "source": []
  }
 ],
 "metadata": {
  "kernelspec": {
   "display_name": "Python 3",
   "language": "python",
   "name": "python3"
  },
  "language_info": {
   "codemirror_mode": {
    "name": "ipython",
    "version": 3
   },
   "file_extension": ".py",
   "mimetype": "text/x-python",
   "name": "python",
   "nbconvert_exporter": "python",
   "pygments_lexer": "ipython3",
   "version": "3.8.11"
  }
 },
 "nbformat": 4,
 "nbformat_minor": 5
}
