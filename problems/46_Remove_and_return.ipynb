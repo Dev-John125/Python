{
 "cells": [
  {
   "cell_type": "markdown",
   "id": "cf9ac0a1",
   "metadata": {},
   "source": [
    "## 46. To remove the item at the given index from the list and return it"
   ]
  },
  {
   "cell_type": "code",
   "execution_count": 8,
   "id": "19e6b749",
   "metadata": {},
   "outputs": [
    {
     "name": "stdout",
     "output_type": "stream",
     "text": [
      "Enter the index position: 4\n",
      "The removed element is 2\n"
     ]
    }
   ],
   "source": [
    "def remove(li,index):\n",
    "    key=li[index]\n",
    "    li.remove(index)\n",
    "    return key\n",
    "\n",
    "li=[9,1,4,6,2,7,8]\n",
    "i=int(input(\"Enter the index position: \"))\n",
    "print(\"The removed element is\",remove(li,i))"
   ]
  },
  {
   "cell_type": "code",
   "execution_count": null,
   "id": "120980ed",
   "metadata": {},
   "outputs": [],
   "source": []
  }
 ],
 "metadata": {
  "kernelspec": {
   "display_name": "Python 3",
   "language": "python",
   "name": "python3"
  },
  "language_info": {
   "codemirror_mode": {
    "name": "ipython",
    "version": 3
   },
   "file_extension": ".py",
   "mimetype": "text/x-python",
   "name": "python",
   "nbconvert_exporter": "python",
   "pygments_lexer": "ipython3",
   "version": "3.8.11"
  }
 },
 "nbformat": 4,
 "nbformat_minor": 5
}
