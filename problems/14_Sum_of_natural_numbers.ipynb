{
 "cells": [
  {
   "cell_type": "markdown",
   "id": "5cecab02",
   "metadata": {},
   "source": [
    "## 14. To Find the Sum of Natural Numbers"
   ]
  },
  {
   "cell_type": "code",
   "execution_count": 1,
   "id": "e9665fc1",
   "metadata": {},
   "outputs": [
    {
     "name": "stdout",
     "output_type": "stream",
     "text": [
      "Enter the value of n: 20\n",
      "Sum of 20 natural numbers is 210.0\n"
     ]
    }
   ],
   "source": [
    "def sumOfNatural(n):\n",
    "    res=(n*(n+1))/2              #formula is used instead of loops to reduce complexity\n",
    "    print(f\"Sum of {n} natural numbers is\",res)\n",
    "    \n",
    "    \n",
    "a=int(input(\"Enter the value of n: \"))\n",
    "sumOfNatural(a)"
   ]
  },
  {
   "cell_type": "code",
   "execution_count": null,
   "id": "b498f79c",
   "metadata": {},
   "outputs": [],
   "source": []
  }
 ],
 "metadata": {
  "kernelspec": {
   "display_name": "Python 3",
   "language": "python",
   "name": "python3"
  },
  "language_info": {
   "codemirror_mode": {
    "name": "ipython",
    "version": 3
   },
   "file_extension": ".py",
   "mimetype": "text/x-python",
   "name": "python",
   "nbconvert_exporter": "python",
   "pygments_lexer": "ipython3",
   "version": "3.8.11"
  }
 },
 "nbformat": 4,
 "nbformat_minor": 5
}
