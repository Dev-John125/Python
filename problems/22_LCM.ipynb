{
 "cells": [
  {
   "cell_type": "markdown",
   "id": "f5863bde",
   "metadata": {},
   "source": [
    "## 22. To find LCM of two numbers"
   ]
  },
  {
   "cell_type": "code",
   "execution_count": 3,
   "id": "ddd092b5",
   "metadata": {},
   "outputs": [
    {
     "name": "stdout",
     "output_type": "stream",
     "text": [
      "Enter first number: 45\n",
      "Enter second number: 125\n",
      "The L.C.M is 1125\n"
     ]
    }
   ],
   "source": [
    "def lcm(a,b):\n",
    "    if(a>b):\n",
    "        max=a\n",
    "    else:\n",
    "        max=b\n",
    "    while(True):\n",
    "        if(max % a == 0 and max % b == 0):\n",
    "            return max\n",
    "        max+=1\n",
    "\n",
    "n1=int(input(\"Enter first number: \"))\n",
    "n2=int(input(\"Enter second number: \"))\n",
    "print(\"The L.C.M is\", lcm(n1, n2))"
   ]
  },
  {
   "cell_type": "code",
   "execution_count": null,
   "id": "c00e10cc",
   "metadata": {},
   "outputs": [],
   "source": []
  }
 ],
 "metadata": {
  "kernelspec": {
   "display_name": "Python 3",
   "language": "python",
   "name": "python3"
  },
  "language_info": {
   "codemirror_mode": {
    "name": "ipython",
    "version": 3
   },
   "file_extension": ".py",
   "mimetype": "text/x-python",
   "name": "python",
   "nbconvert_exporter": "python",
   "pygments_lexer": "ipython3",
   "version": "3.8.11"
  }
 },
 "nbformat": 4,
 "nbformat_minor": 5
}
