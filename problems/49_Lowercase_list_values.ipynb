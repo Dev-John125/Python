{
 "cells": [
  {
   "cell_type": "markdown",
   "id": "210e4c4a",
   "metadata": {},
   "source": [
    "## 49. To Set the values in the new list to upper case"
   ]
  },
  {
   "cell_type": "code",
   "execution_count": 2,
   "id": "5e0843be",
   "metadata": {},
   "outputs": [
    {
     "name": "stdout",
     "output_type": "stream",
     "text": [
      "['HELLO', 'THERE', 'PYTHONEER']\n"
     ]
    }
   ],
   "source": [
    "list1=['HeLlo', 'TheRe', 'PythoneeR']\n",
    "out = map(lambda x:x.upper(), list1)\n",
    "output = list(out)\n",
    "print(output)"
   ]
  },
  {
   "cell_type": "code",
   "execution_count": null,
   "id": "e5fc21cb",
   "metadata": {},
   "outputs": [],
   "source": []
  }
 ],
 "metadata": {
  "kernelspec": {
   "display_name": "Python 3",
   "language": "python",
   "name": "python3"
  },
  "language_info": {
   "codemirror_mode": {
    "name": "ipython",
    "version": 3
   },
   "file_extension": ".py",
   "mimetype": "text/x-python",
   "name": "python",
   "nbconvert_exporter": "python",
   "pygments_lexer": "ipython3",
   "version": "3.8.11"
  }
 },
 "nbformat": 4,
 "nbformat_minor": 5
}
