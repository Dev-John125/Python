{
 "cells": [
  {
   "cell_type": "markdown",
   "id": "b17c0840",
   "metadata": {},
   "source": [
    "## 1. To convert Kms to miles"
   ]
  },
  {
   "cell_type": "code",
   "execution_count": 4,
   "id": "1e94810d",
   "metadata": {},
   "outputs": [
    {
     "name": "stdout",
     "output_type": "stream",
     "text": [
      "Enter kms to be converted: 1\n",
      "Result is  0.6215040397762586\n"
     ]
    }
   ],
   "source": [
    "def kmsToMiles(inp):\n",
    "    res=inp/1.609\n",
    "    return res\n",
    "\n",
    "\n",
    "n=int(input(\"Enter kms to be converted: \"))\n",
    "ans=kmsToMiles(n)\n",
    "print(\"Result is \",ans)"
   ]
  },
  {
   "cell_type": "code",
   "execution_count": null,
   "id": "78c73dc0",
   "metadata": {},
   "outputs": [],
   "source": []
  }
 ],
 "metadata": {
  "kernelspec": {
   "display_name": "Python 3",
   "language": "python",
   "name": "python3"
  },
  "language_info": {
   "codemirror_mode": {
    "name": "ipython",
    "version": 3
   },
   "file_extension": ".py",
   "mimetype": "text/x-python",
   "name": "python",
   "nbconvert_exporter": "python",
   "pygments_lexer": "ipython3",
   "version": "3.8.11"
  }
 },
 "nbformat": 4,
 "nbformat_minor": 5
}
