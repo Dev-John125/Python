{
 "cells": [
  {
   "cell_type": "markdown",
   "id": "f474b025",
   "metadata": {},
   "source": [
    "## 27. To find the sum of natural numbers using recursion"
   ]
  },
  {
   "cell_type": "code",
   "execution_count": 2,
   "id": "22b98af0",
   "metadata": {},
   "outputs": [
    {
     "name": "stdout",
     "output_type": "stream",
     "text": [
      "Enter a number: 9\n",
      "The sum is : 45\n"
     ]
    }
   ],
   "source": [
    "def recur_sum(n):\n",
    "    if (n != 0):\n",
    "        return n + recur_sum(n - 1);\n",
    "    else:\n",
    "        return n;\n",
    "\n",
    "a=int(input(\"Enter a number: \"))\n",
    "print(\"The sum is :\",recur_sum(a))"
   ]
  },
  {
   "cell_type": "code",
   "execution_count": null,
   "id": "a3601a54",
   "metadata": {},
   "outputs": [],
   "source": []
  }
 ],
 "metadata": {
  "kernelspec": {
   "display_name": "Python 3",
   "language": "python",
   "name": "python3"
  },
  "language_info": {
   "codemirror_mode": {
    "name": "ipython",
    "version": 3
   },
   "file_extension": ".py",
   "mimetype": "text/x-python",
   "name": "python",
   "nbconvert_exporter": "python",
   "pygments_lexer": "ipython3",
   "version": "3.8.11"
  }
 },
 "nbformat": 4,
 "nbformat_minor": 5
}
