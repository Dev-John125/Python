{
 "cells": [
  {
   "cell_type": "markdown",
   "id": "ad7cd71b",
   "metadata": {},
   "source": [
    "## 42. To calculate exponents of an input"
   ]
  },
  {
   "cell_type": "code",
   "execution_count": 1,
   "id": "cf2f650b",
   "metadata": {},
   "outputs": [
    {
     "name": "stdout",
     "output_type": "stream",
     "text": [
      "Enter the base value: 5\n",
      "Enter the exponent value: 3\n",
      "Result : 125\n"
     ]
    }
   ],
   "source": [
    "def calc_exponent(base,exponent):\n",
    "    return base ** exponent\n",
    "\n",
    "b=int(input(\"Enter the base value: \"))\n",
    "e=int(input(\"Enter the exponent value: \"))\n",
    "print(\"Result :\",calc_exponent(b,e))"
   ]
  },
  {
   "cell_type": "code",
   "execution_count": null,
   "id": "7e7fa19f",
   "metadata": {},
   "outputs": [],
   "source": []
  }
 ],
 "metadata": {
  "kernelspec": {
   "display_name": "Python 3",
   "language": "python",
   "name": "python3"
  },
  "language_info": {
   "codemirror_mode": {
    "name": "ipython",
    "version": 3
   },
   "file_extension": ".py",
   "mimetype": "text/x-python",
   "name": "python",
   "nbconvert_exporter": "python",
   "pygments_lexer": "ipython3",
   "version": "3.8.11"
  }
 },
 "nbformat": 4,
 "nbformat_minor": 5
}
