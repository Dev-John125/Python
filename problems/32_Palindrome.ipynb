{
 "cells": [
  {
   "cell_type": "markdown",
   "id": "11961684",
   "metadata": {},
   "source": [
    "## 32. To find if the string is palindrome or not "
   ]
  },
  {
   "cell_type": "code",
   "execution_count": 6,
   "id": "f73dc4ee",
   "metadata": {},
   "outputs": [
    {
     "name": "stdout",
     "output_type": "stream",
     "text": [
      "Enter a string: madam\n",
      "The string is Palindrome\n"
     ]
    }
   ],
   "source": [
    "def palin(str1):\n",
    "    return(str1 == str1[::-1])\n",
    "\n",
    "n=input(\"Enter a string: \")\n",
    "if(palin(n)):\n",
    "    print(\"The string is Palindrome\")\n",
    "else:\n",
    "    print(\"The string is not Palindrome\")"
   ]
  },
  {
   "cell_type": "code",
   "execution_count": null,
   "id": "99f063f8",
   "metadata": {},
   "outputs": [],
   "source": []
  }
 ],
 "metadata": {
  "kernelspec": {
   "display_name": "Python 3",
   "language": "python",
   "name": "python3"
  },
  "language_info": {
   "codemirror_mode": {
    "name": "ipython",
    "version": 3
   },
   "file_extension": ".py",
   "mimetype": "text/x-python",
   "name": "python",
   "nbconvert_exporter": "python",
   "pygments_lexer": "ipython3",
   "version": "3.8.11"
  }
 },
 "nbformat": 4,
 "nbformat_minor": 5
}
