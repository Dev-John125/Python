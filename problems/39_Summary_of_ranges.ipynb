{
 "cells": [
  {
   "cell_type": "markdown",
   "id": "00c95f7b",
   "metadata": {},
   "source": [
    "## 39. Given a sorted integer array without duplicates, return the summary of its ranges."
   ]
  },
  {
   "cell_type": "code",
   "execution_count": 7,
   "id": "928e8b0d",
   "metadata": {},
   "outputs": [
    {
     "name": "stdout",
     "output_type": "stream",
     "text": [
      "Summary is : ['0->3', '6->7', '9', '11']\n"
     ]
    }
   ],
   "source": [
    "# input=[0,1,2,4,5,8]\n",
    "# output=[\"0->2\",\"4->5\",\"8\"]\n",
    "\n",
    "def summary(li):\n",
    "    start=0\n",
    "    res=[]\n",
    "    \n",
    "    for i in range(len(li)):\n",
    "        if (i+1 < len(li) and li[i]+1 == li[i+1]):          # checking if next index is equal to present index + 1 \n",
    "                continue                                    # also preventing index out of range error\n",
    "                \n",
    "        if start == i:\n",
    "            res.append(str(li[start]))                      # if nos do not form a continuous range\n",
    "        else:\n",
    "            res.append(str(li[start]) + \"->\" + str(li[i]))  # if nos form a continuos range\n",
    "                                                            \n",
    "        start=i+1                                           # updating start with new i value\n",
    "    return res\n",
    "\n",
    "list1=[0,1,2,3,6,7,9,11]\n",
    "print(\"Summary is :\", summary(list1))"
   ]
  },
  {
   "cell_type": "code",
   "execution_count": null,
   "id": "ba7a05cb",
   "metadata": {},
   "outputs": [],
   "source": []
  }
 ],
 "metadata": {
  "kernelspec": {
   "display_name": "Python 3",
   "language": "python",
   "name": "python3"
  },
  "language_info": {
   "codemirror_mode": {
    "name": "ipython",
    "version": 3
   },
   "file_extension": ".py",
   "mimetype": "text/x-python",
   "name": "python",
   "nbconvert_exporter": "python",
   "pygments_lexer": "ipython3",
   "version": "3.8.11"
  }
 },
 "nbformat": 4,
 "nbformat_minor": 5
}
