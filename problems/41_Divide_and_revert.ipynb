{
 "cells": [
  {
   "cell_type": "code",
   "execution_count": 25,
   "id": "c69bd68d",
   "metadata": {},
   "outputs": [
    {
     "name": "stdout",
     "output_type": "stream",
     "text": [
      "[[3, 2, 1], [6, 5, 4], [9, 8, 7], [10]]\n"
     ]
    }
   ],
   "source": [
    "def divide_revert(list1):\n",
    "    x = [list1[i:i + 3] for i in range(0, len(list1), 3)]  # grouping list elements by 3\n",
    "    reversed_list = [elem[::-1] for elem in x ]            #reversing each list within the list\n",
    "    print(reversed_list)\n",
    "\n",
    "divide_revert([1,2,3,4,5,6,7,8,9,10])"
   ]
  },
  {
   "cell_type": "code",
   "execution_count": null,
   "id": "565d4b17",
   "metadata": {},
   "outputs": [],
   "source": []
  }
 ],
 "metadata": {
  "kernelspec": {
   "display_name": "Python 3",
   "language": "python",
   "name": "python3"
  },
  "language_info": {
   "codemirror_mode": {
    "name": "ipython",
    "version": 3
   },
   "file_extension": ".py",
   "mimetype": "text/x-python",
   "name": "python",
   "nbconvert_exporter": "python",
   "pygments_lexer": "ipython3",
   "version": "3.8.11"
  }
 },
 "nbformat": 4,
 "nbformat_minor": 5
}
