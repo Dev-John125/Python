{
 "cells": [
  {
   "cell_type": "markdown",
   "id": "a4f10540",
   "metadata": {},
   "source": [
    "## 53. WAP to print sum of n natural numbers, where n is entered by the user"
   ]
  },
  {
   "cell_type": "code",
   "execution_count": 1,
   "id": "56547718",
   "metadata": {},
   "outputs": [
    {
     "name": "stdout",
     "output_type": "stream",
     "text": [
      "Enter the value of n: 10\n",
      "The sum is 55.0\n"
     ]
    }
   ],
   "source": [
    "def sumOfNumbers(n):\n",
    "    res=n*(n+1)/2\n",
    "    print(\"The sum is\",res)\n",
    "    \n",
    "a=int(input(\"Enter the value of n: \"))\n",
    "sumOfNumbers(a)"
   ]
  },
  {
   "cell_type": "code",
   "execution_count": null,
   "id": "98243fb1",
   "metadata": {},
   "outputs": [],
   "source": []
  }
 ],
 "metadata": {
  "kernelspec": {
   "display_name": "Python 3",
   "language": "python",
   "name": "python3"
  },
  "language_info": {
   "codemirror_mode": {
    "name": "ipython",
    "version": 3
   },
   "file_extension": ".py",
   "mimetype": "text/x-python",
   "name": "python",
   "nbconvert_exporter": "python",
   "pygments_lexer": "ipython3",
   "version": "3.8.8"
  }
 },
 "nbformat": 4,
 "nbformat_minor": 5
}
