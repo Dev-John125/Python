{
 "cells": [
  {
   "cell_type": "code",
   "execution_count": 2,
   "id": "aef5f095",
   "metadata": {},
   "outputs": [
    {
     "name": "stdout",
     "output_type": "stream",
     "text": [
      "[1, 2, 3, 4, 5, 6]\n"
     ]
    }
   ],
   "source": [
    "list1 = [1,1,2,3,2,2,4,5,6,2,1]\n",
    "list2 = set(list1)              #typecasting as set\n",
    "print(list(list2))              #typecasting as list again"
   ]
  },
  {
   "cell_type": "code",
   "execution_count": null,
   "id": "b3aae712",
   "metadata": {},
   "outputs": [],
   "source": []
  }
 ],
 "metadata": {
  "kernelspec": {
   "display_name": "Python 3",
   "language": "python",
   "name": "python3"
  },
  "language_info": {
   "codemirror_mode": {
    "name": "ipython",
    "version": 3
   },
   "file_extension": ".py",
   "mimetype": "text/x-python",
   "name": "python",
   "nbconvert_exporter": "python",
   "pygments_lexer": "ipython3",
   "version": "3.8.11"
  }
 },
 "nbformat": 4,
 "nbformat_minor": 5
}
