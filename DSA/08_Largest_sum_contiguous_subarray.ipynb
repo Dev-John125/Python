{
 "cells": [
  {
   "cell_type": "markdown",
   "id": "f8bacb31",
   "metadata": {},
   "source": [
    "## 8. WAP to find the largest sum contiguous subarray(Kadane's algorithm)"
   ]
  },
  {
   "cell_type": "code",
   "execution_count": 6,
   "id": "6fdec0e8",
   "metadata": {},
   "outputs": [
    {
     "name": "stdout",
     "output_type": "stream",
     "text": [
      "Largest sum of contiguous subarray is 7\n"
     ]
    }
   ],
   "source": [
    "#1 Iterative approach O(n)^3\n",
    "\n",
    "def sum_of_subarray(arr,n):\n",
    "    s = 0\n",
    "    max_subArray = 0\n",
    "    for i in range(n):                                # traverses from 0 to n\n",
    "        for j in range(i,n):                          # traverses from i to n\n",
    "            for k in range(i,j):                      # traverses from i to j\n",
    "                s += a[k]                             # adds up all the numbers between the indices i to j\n",
    "            max_subArray = max(max_subArray,s)\n",
    "            s = 0                                     # the sum is set to 0 again after comparison\n",
    "    return max_subArray\n",
    "\n",
    "a = [-2, -3, 4, -1, -2, 1, 5, -3]                     # 4+(-1)+(-2)+1+5 = 7\n",
    "res = sum_of_subarray(a,len(a))\n",
    "print(\"Largest sum of contiguous subarray is\",res)"
   ]
  },
  {
   "cell_type": "code",
   "execution_count": 10,
   "id": "5a30a248",
   "metadata": {},
   "outputs": [
    {
     "name": "stdout",
     "output_type": "stream",
     "text": [
      "Largest sum of contiguous subarray is 7\n"
     ]
    }
   ],
   "source": [
    "#2 Elimination of 3rd loop O(n)^2\n",
    "\n",
    "def sum_of_subArray(arr,n):\n",
    "    max_subArray = 0\n",
    "    for i in range(n):\n",
    "        s = 0                                         # initializing sum = 0 here so as to eliminate 3rd loop\n",
    "        for j in range(i,n):\n",
    "            s += a[j]\n",
    "            max_subArray = max(max_subArray,s)\n",
    "    return max_subArray\n",
    "\n",
    "a = [-2, -3, 4, -1, -2, 1, 5, -3]             \n",
    "res = sum_of_subArray(a,len(a))\n",
    "print(\"Largest sum of contiguous subarray is\",res)"
   ]
  },
  {
   "cell_type": "code",
   "execution_count": 16,
   "id": "4c035973",
   "metadata": {},
   "outputs": [
    {
     "name": "stdout",
     "output_type": "stream",
     "text": [
      "Largest sum of contiguous subarray is 7\n"
     ]
    }
   ],
   "source": [
    "#3 By Kadane's algorithm O(n)\n",
    "\n",
    "# The simple idea of Kadane’s algorithm is to look for all positive contiguous segments of the array\n",
    "# and keep track of maximum sum contiguous segment (maxi) among all positive segments \n",
    "# Each time we get a positive-sum(max_sum), we compare it with maxi and update maxi if it is greater than max_sum \n",
    "\n",
    "def sum_of_subArray(arr):\n",
    "    n = len(arr)\n",
    "    max_sum = 0                                 \n",
    "    maxi = arr[0]                         # maxi should contain atleast one elements sum\n",
    "    for i in range(n):\n",
    "        max_sum += a[i]\n",
    "        if(max_sum > maxi):\n",
    "            maxi = max_sum\n",
    "        if(max_sum < 0):\n",
    "            max_sum = 0;                  # sum of negatives is excluded \n",
    "    return maxi\n",
    "\n",
    "a = [-2, -3, 4, -1, -2, 1, 5, -3]             \n",
    "res = sum_of_subArray(a)\n",
    "print(\"Largest sum of contiguous subarray is\",res)"
   ]
  },
  {
   "cell_type": "code",
   "execution_count": null,
   "id": "bcdb7c5a",
   "metadata": {},
   "outputs": [],
   "source": []
  }
 ],
 "metadata": {
  "kernelspec": {
   "display_name": "Python 3",
   "language": "python",
   "name": "python3"
  },
  "language_info": {
   "codemirror_mode": {
    "name": "ipython",
    "version": 3
   },
   "file_extension": ".py",
   "mimetype": "text/x-python",
   "name": "python",
   "nbconvert_exporter": "python",
   "pygments_lexer": "ipython3",
   "version": "3.8.8"
  }
 },
 "nbformat": 4,
 "nbformat_minor": 5
}
