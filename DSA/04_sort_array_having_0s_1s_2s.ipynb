{
 "cells": [
  {
   "cell_type": "markdown",
   "id": "eb372e3b",
   "metadata": {},
   "source": [
    "## 4. Sort an array of 0s, 1s and 2s without using sorting algorithms"
   ]
  },
  {
   "cell_type": "code",
   "execution_count": 1,
   "id": "cb0405ee",
   "metadata": {},
   "outputs": [
    {
     "name": "stdout",
     "output_type": "stream",
     "text": [
      "Origianl array is [0, 1, 0, 0, 1, 1, 2, 0, 1, 2, 0, 2, 2, 1, 0]\n",
      "Sorted array is [0, 0, 0, 0, 0, 0, 1, 1, 1, 1, 1, 2, 2, 2, 2]\n"
     ]
    }
   ],
   "source": [
    "#1 Direct sorting O(nlogn)\n",
    "\n",
    "def sortArr(arr):\n",
    "    arr.sort()\n",
    "    print(\"Sorted array is\",arr)\n",
    "\n",
    "a=[0,1,0,0,1,1,2,0,1,2,0,2,2,1,0]\n",
    "print(\"Origianl array is\",a)\n",
    "sortArr(a)"
   ]
  },
  {
   "cell_type": "code",
   "execution_count": 2,
   "id": "abe2f691",
   "metadata": {},
   "outputs": [
    {
     "name": "stdout",
     "output_type": "stream",
     "text": [
      "Origianl array is [0, 1, 0, 0, 1, 1, 2, 0, 1, 2, 0, 2, 2, 1, 0]\n",
      "Sorted array is [0, 0, 0, 0, 0, 0, 1, 1, 1, 1, 1, 2, 2, 2, 2]\n"
     ]
    }
   ],
   "source": [
    "#2 Counting method O(2N)\n",
    "\n",
    "def sortArr(arr,n):\n",
    "    c0 = c1 = c2 = 0\n",
    "    for i in range(n):\n",
    "        if (arr[i] == 0):\n",
    "            c0 += 1\n",
    "        if (arr[i] == 1):\n",
    "            c1 += 1\n",
    "        if (arr[i] == 2):\n",
    "            c2 += 1\n",
    "    \n",
    "    i = 0\n",
    "    new_arr=[]\n",
    "    while(c0 > 0):\n",
    "        new_arr.append(0)\n",
    "        c0-=1\n",
    "    while(c1 > 0):\n",
    "        new_arr.append(1)\n",
    "        c1-=1\n",
    "    while(c2 > 0):\n",
    "        new_arr.append(2)\n",
    "        c2-=1\n",
    "    print(\"Sorted array is\",new_arr)\n",
    "\n",
    "a=[0,1,0,0,1,1,2,0,1,2,0,2,2,1,0]\n",
    "print(\"Origianl array is\",a)\n",
    "sortArr(a,len(a))"
   ]
  },
  {
   "cell_type": "code",
   "execution_count": 4,
   "id": "6c89533b",
   "metadata": {},
   "outputs": [
    {
     "name": "stdout",
     "output_type": "stream",
     "text": [
      "Origianl array is [0, 1, 0, 0, 1, 1, 2, 0, 1, 2, 0, 2, 2, 1, 0]\n",
      "Sorted array is [0, 0, 0, 0, 0, 0, 1, 1, 1, 1, 1, 2, 2, 2, 2]\n"
     ]
    }
   ],
   "source": [
    "#3 Dutch National Flag algorithm O(N)\n",
    "\n",
    "def sortArr(arr,n):\n",
    "    low = mid = 0\n",
    "    high = n-1\n",
    "    while(mid <= high):\n",
    "        if(arr[mid]==0):\n",
    "            arr[low],arr[mid] = arr[mid],arr[low]\n",
    "            low+=1\n",
    "            mid+=1\n",
    "        elif(arr[mid]==1):\n",
    "            mid += 1\n",
    "        else:\n",
    "            arr[mid],arr[high] = arr[high],arr[mid]\n",
    "            high-=1\n",
    "    print(\"Sorted array is\",arr)\n",
    "\n",
    "a=[0,1,0,0,1,1,2,0,1,2,0,2,2,1,0]\n",
    "print(\"Origianl array is\",a)\n",
    "sortArr(a,len(a))"
   ]
  },
  {
   "cell_type": "code",
   "execution_count": null,
   "id": "ee9f98d6",
   "metadata": {},
   "outputs": [],
   "source": []
  }
 ],
 "metadata": {
  "kernelspec": {
   "display_name": "Python 3",
   "language": "python",
   "name": "python3"
  },
  "language_info": {
   "codemirror_mode": {
    "name": "ipython",
    "version": 3
   },
   "file_extension": ".py",
   "mimetype": "text/x-python",
   "name": "python",
   "nbconvert_exporter": "python",
   "pygments_lexer": "ipython3",
   "version": "3.8.8"
  }
 },
 "nbformat": 4,
 "nbformat_minor": 5
}
