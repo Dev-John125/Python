{
 "cells": [
  {
   "cell_type": "raw",
   "id": "18c7d2f4",
   "metadata": {},
   "source": [
    "Problem Statement: \n",
    "Find the index of the peak of the peak element in an unsorted array\n",
    "Peak element is an element which should be greater than both the neighbours\n",
    "\n",
    "Eg:\n",
    "\n",
    "[5,10,20,15]\n",
    "Here 20 is the peak element so 2 is returned\n",
    "\n",
    "[10,20,15,2,23,90,67]\n",
    "Here 20 and 90 are the peak elements but any one should be returned 1 or 5\n",
    "\n",
    "[10,20,30,40,50]\n",
    "Here 50 is the peak element so 4 should be returned\n"
   ]
  },
  {
   "cell_type": "code",
   "execution_count": 6,
   "id": "2cd7d759",
   "metadata": {},
   "outputs": [
    {
     "name": "stdout",
     "output_type": "stream",
     "text": [
      "Index is 2\n"
     ]
    }
   ],
   "source": [
    "def findPeak(arr, n) :\n",
    " \n",
    "    # first or last element maybe peak element\n",
    "    if (n == 1) :\n",
    "        return 0\n",
    "    if (arr[0] >= arr[1]) :\n",
    "        return 0\n",
    "    if (arr[n - 1] >= arr[n - 2]) :\n",
    "        return n - 1\n",
    "  \n",
    "    # to check for other elements\n",
    "    for i in range(1, n - 1) :\n",
    "  \n",
    "        if (arr[i] >= arr[i - 1] and arr[i] >= arr[i + 1]) :\n",
    "            return i\n",
    "             \n",
    "arr = [ 1, 3, 20, 4, 1, 0 ]\n",
    "n = len(arr)\n",
    "print(\"Index is\", findPeak(arr, n))\n",
    " "
   ]
  },
  {
   "cell_type": "code",
   "execution_count": null,
   "id": "546661b9",
   "metadata": {},
   "outputs": [],
   "source": []
  }
 ],
 "metadata": {
  "kernelspec": {
   "display_name": "Python 3",
   "language": "python",
   "name": "python3"
  },
  "language_info": {
   "codemirror_mode": {
    "name": "ipython",
    "version": 3
   },
   "file_extension": ".py",
   "mimetype": "text/x-python",
   "name": "python",
   "nbconvert_exporter": "python",
   "pygments_lexer": "ipython3",
   "version": "3.8.8"
  }
 },
 "nbformat": 4,
 "nbformat_minor": 5
}
