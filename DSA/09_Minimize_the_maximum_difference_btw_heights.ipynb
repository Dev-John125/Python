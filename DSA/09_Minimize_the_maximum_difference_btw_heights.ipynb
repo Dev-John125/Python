{
 "cells": [
  {
   "cell_type": "markdown",
   "id": "cb6a4176",
   "metadata": {},
   "source": [
    "## 9. WAP to minimize the maximum difference of the heights"
   ]
  },
  {
   "cell_type": "code",
   "execution_count": 1,
   "id": "a4615792",
   "metadata": {},
   "outputs": [],
   "source": [
    "# Given heights of n buildings and a value k, we need to either decrease or increase the height of the buildings\n",
    "# by the value k keeping in mind that the height is not less than 0 and to minimize the maximum difference of the buildings\n",
    "\n"
   ]
  },
  {
   "cell_type": "code",
   "execution_count": 7,
   "id": "da61ed7c",
   "metadata": {},
   "outputs": [
    {
     "name": "stdout",
     "output_type": "stream",
     "text": [
      "5\n"
     ]
    }
   ],
   "source": [
    "# Most Optimal approach O(nlogn)\n",
    "def getMinDiff(arr, n, k):\n",
    "        \n",
    "        arr.sort()\n",
    "        res = arr[n-1]-arr[0];\n",
    "        \n",
    "        smallest = arr[0]+k;\n",
    "        largest = arr[n-1]-k;\n",
    "        \n",
    "        for i in range(n-1):\n",
    "            minimum = min(smallest,arr[i+1]-k);\n",
    "            maximum = max(largest,arr[i]+k);\n",
    "            if(minimum < 0):\n",
    "                continue\n",
    "            res = min(res , maximum - minimum);\n",
    "    \n",
    "        return res;\n",
    "\n",
    "a=[1, 10, 14, 14, 14, 15]\n",
    "k=6\n",
    "print(getMinDiff(a,len(a),k))"
   ]
  },
  {
   "cell_type": "code",
   "execution_count": null,
   "id": "ba1b60f2",
   "metadata": {},
   "outputs": [],
   "source": []
  }
 ],
 "metadata": {
  "kernelspec": {
   "display_name": "Python 3",
   "language": "python",
   "name": "python3"
  },
  "language_info": {
   "codemirror_mode": {
    "name": "ipython",
    "version": 3
   },
   "file_extension": ".py",
   "mimetype": "text/x-python",
   "name": "python",
   "nbconvert_exporter": "python",
   "pygments_lexer": "ipython3",
   "version": "3.8.8"
  }
 },
 "nbformat": 4,
 "nbformat_minor": 5
}
