{
 "cells": [
  {
   "cell_type": "markdown",
   "id": "60de5c7f",
   "metadata": {},
   "source": [
    "## 2. WAP to find maximum and minimum element in an array"
   ]
  },
  {
   "cell_type": "code",
   "execution_count": 3,
   "id": "1435381e",
   "metadata": {},
   "outputs": [
    {
     "name": "stdout",
     "output_type": "stream",
     "text": [
      "Minimum element is 2 and Maximum element is 9\n"
     ]
    }
   ],
   "source": [
    "#1 Linear search(O(n))\n",
    "\n",
    "def findMinMax(a,n):\n",
    "    max = min = a[0]\n",
    "    for i in range(1,n):\n",
    "        if a[i] > max:\n",
    "            max = a[i]\n",
    "        elif a[i] < min:\n",
    "            min = a[i]\n",
    "    return min,max\n",
    "\n",
    "arr=[5,7,2,4,9,6]\n",
    "res = findMinMax(arr,len(arr))\n",
    "print(f\"Minimum element is {res[0]} and Maximum element is {res[1]}\")"
   ]
  },
  {
   "cell_type": "code",
   "execution_count": 7,
   "id": "93621b14",
   "metadata": {},
   "outputs": [
    {
     "name": "stdout",
     "output_type": "stream",
     "text": [
      "Minimum element is 9 and Maximum element is 2\n"
     ]
    }
   ],
   "source": [
    "#2 Comparing in pairs\n",
    "# If n is odd then initialize min and max as first element. \n",
    "# If n is even then initialize min and max as minimum and maximum of the first two elements respectively. \n",
    "# For rest of the elements, pick them in pairs and compare their \n",
    "# maximum and minimum with max and min respectively. \n",
    "\n",
    "def findMinMaxPairs(a,n):\n",
    "    if (n % 2 != 0):\n",
    "        minimum = maximum = a[0]\n",
    "        i = 1                           # odd no. of elements\n",
    "    else:\n",
    "        minimum = min(a[0],a[1])\n",
    "        maximum = max(a[0],a[1])\n",
    "        i = 2                           # even no. of elements\n",
    "    while(i < n-1):\n",
    "        if arr[i] < arr[i + 1]:\n",
    "            maximum = max(maximum, arr[i + 1])\n",
    "            minimum = min(minimum, arr[i])\n",
    "        else:\n",
    "            maximum = max(maximum, arr[i])\n",
    "            minimum = min(minimum, arr[i + 1])\n",
    "        i += 2                         # two elements are compared at the same time\n",
    "    return maximum,minimum\n",
    "\n",
    "arr=[5,7,2,4,9,6]\n",
    "res = findMinMaxPairs(arr,len(arr))\n",
    "print(f\"Maximum element is {res[0]} and Minimum element is {res[1]}\")"
   ]
  },
  {
   "cell_type": "code",
   "execution_count": null,
   "id": "dd9d5c90",
   "metadata": {},
   "outputs": [],
   "source": []
  }
 ],
 "metadata": {
  "kernelspec": {
   "display_name": "Python 3",
   "language": "python",
   "name": "python3"
  },
  "language_info": {
   "codemirror_mode": {
    "name": "ipython",
    "version": 3
   },
   "file_extension": ".py",
   "mimetype": "text/x-python",
   "name": "python",
   "nbconvert_exporter": "python",
   "pygments_lexer": "ipython3",
   "version": "3.8.8"
  }
 },
 "nbformat": 4,
 "nbformat_minor": 5
}
