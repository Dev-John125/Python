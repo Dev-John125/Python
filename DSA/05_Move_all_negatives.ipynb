{
 "cells": [
  {
   "cell_type": "markdown",
   "id": "d7306eb4",
   "metadata": {},
   "source": [
    "## 5. Move all negative elements to  one side of the array "
   ]
  },
  {
   "cell_type": "code",
   "execution_count": 1,
   "id": "811d6fe7",
   "metadata": {},
   "outputs": [
    {
     "name": "stdout",
     "output_type": "stream",
     "text": [
      "Original array is [-1, 0, -4, 7, 5, 3, -8, 11]\n",
      "New array is [-8, -4, -1, 0, 3, 5, 7, 11]\n"
     ]
    }
   ],
   "source": [
    "#1 Direct sorting O(nlogn)\n",
    "\n",
    "def moveNegatives(arr):\n",
    "    arr.sort()\n",
    "    print(\"New array is\",arr)\n",
    "    \n",
    "a=[-1,0,-4,7,5,3,-8,11]\n",
    "print(\"Original array is\",a)\n",
    "moveNegatives(a)"
   ]
  },
  {
   "cell_type": "code",
   "execution_count": 3,
   "id": "e39a5d87",
   "metadata": {},
   "outputs": [
    {
     "name": "stdout",
     "output_type": "stream",
     "text": [
      "Original array is [-1, 0, -4, 7, 5, 3, -8, 11]\n",
      "New array is [-1, -4, -8, 7, 5, 3, 0, 11]\n"
     ]
    }
   ],
   "source": [
    "#2 Partition method of quicksort O(n)\n",
    "\n",
    "def moveNegatives(arr,n):\n",
    "    i = -1\n",
    "    for j in range(n):\n",
    "        if(arr[j] < 0):\n",
    "            i+=1\n",
    "            arr[j],arr[i]=arr[i],arr[j]\n",
    "    print(\"New array is\",arr)                  # Here the order of elements changes due to swapping\n",
    "\n",
    "a=[-1,0,-4,7,5,3,-8,11]\n",
    "print(\"Original array is\",a)\n",
    "moveNegatives(a,len(a))"
   ]
  },
  {
   "cell_type": "code",
   "execution_count": 8,
   "id": "dd20a505",
   "metadata": {},
   "outputs": [
    {
     "name": "stdout",
     "output_type": "stream",
     "text": [
      "Original array is [-1, 9, -4, 7, 5, 3, -8, 11]\n",
      "New array is [-1, -4, -8, 9, 7, 5, 3, 11]\n"
     ]
    }
   ],
   "source": [
    "#3 Modified insertion sort method so as to keep the order of elements same O(n)\n",
    "\n",
    "def moveNegatives(arr,n):\n",
    "    for i in range(n):\n",
    "        key = arr[i]\n",
    "        if(key >= 0):            \n",
    "            continue           # if element is positive skip the iteration\n",
    "        \n",
    "        j = i-1\n",
    "        while (j >= 0 and arr[j] > 0):   # if element is negative shift all elements to the right and insert the negative\n",
    "            arr[j + 1] = arr[j]          # element in the beginning\n",
    "            j = j - 1\n",
    "  \n",
    "        arr[j + 1] = key\n",
    "    \n",
    "    print(\"New array is\",arr)\n",
    "\n",
    "a=[-1,9,-4,7,5,3,-8,11]\n",
    "print(\"Original array is\",a)\n",
    "moveNegatives(a,len(a))           "
   ]
  },
  {
   "cell_type": "code",
   "execution_count": null,
   "id": "39602055",
   "metadata": {},
   "outputs": [],
   "source": []
  }
 ],
 "metadata": {
  "kernelspec": {
   "display_name": "Python 3",
   "language": "python",
   "name": "python3"
  },
  "language_info": {
   "codemirror_mode": {
    "name": "ipython",
    "version": 3
   },
   "file_extension": ".py",
   "mimetype": "text/x-python",
   "name": "python",
   "nbconvert_exporter": "python",
   "pygments_lexer": "ipython3",
   "version": "3.8.8"
  }
 },
 "nbformat": 4,
 "nbformat_minor": 5
}
