{
 "cells": [
  {
   "cell_type": "markdown",
   "id": "b0e8f683",
   "metadata": {},
   "source": [
    "## 7. WAP to rotate an array by one"
   ]
  },
  {
   "cell_type": "code",
   "execution_count": 4,
   "id": "0fffdeac",
   "metadata": {},
   "outputs": [
    {
     "name": "stdout",
     "output_type": "stream",
     "text": [
      "Original array is [1, 7, 3, 8, 6, 9]\n",
      "New array is [9, 1, 7, 3, 8, 6]\n"
     ]
    }
   ],
   "source": [
    "def rotate(arr,n):                          # O(n)\n",
    "    temp = arr[n-1]                         # storing the last element in a temporary variable\n",
    "    \n",
    "    for i in range(n-1,0,-1):               # reverse traversal  \n",
    "        arr[i]=arr[i-1]                     # shifting all elements to the right by one\n",
    "        \n",
    "    arr[0] = temp\n",
    "    print(\"New array is\",arr)\n",
    "\n",
    "a=[1,7,3,8,6,9]\n",
    "print(\"Original array is\",a)\n",
    "rotate(a,len(a))"
   ]
  },
  {
   "cell_type": "code",
   "execution_count": null,
   "id": "06760609",
   "metadata": {},
   "outputs": [],
   "source": []
  }
 ],
 "metadata": {
  "kernelspec": {
   "display_name": "Python 3",
   "language": "python",
   "name": "python3"
  },
  "language_info": {
   "codemirror_mode": {
    "name": "ipython",
    "version": 3
   },
   "file_extension": ".py",
   "mimetype": "text/x-python",
   "name": "python",
   "nbconvert_exporter": "python",
   "pygments_lexer": "ipython3",
   "version": "3.8.8"
  }
 },
 "nbformat": 4,
 "nbformat_minor": 5
}
