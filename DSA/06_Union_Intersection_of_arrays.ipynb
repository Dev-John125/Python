{
 "cells": [
  {
   "cell_type": "markdown",
   "id": "a85d479f",
   "metadata": {},
   "source": [
    "## 6. WAP to find Union And Intersection of two arrays"
   ]
  },
  {
   "cell_type": "code",
   "execution_count": 1,
   "id": "8ec491a7",
   "metadata": {},
   "outputs": [
    {
     "name": "stdout",
     "output_type": "stream",
     "text": [
      "Union of the 2 arrays is [1, 2, 4, 5, 6, 8, 9, 10]\n",
      "Intersection of the 2 arrays is [4]\n"
     ]
    }
   ],
   "source": [
    "#1 Without using set operations O(m+n)\n",
    "def union(arr1,arr2,m,n):\n",
    "    i,j=0,0\n",
    "    res=[]\n",
    "    while(i < m and j < n):                   # appending the smaller nos from both the arrays\n",
    "        if(arr1[i] < arr2[j]):\n",
    "            res.append(arr1[i])\n",
    "            i+=1\n",
    "        elif(arr1[i]>arr2[j]):\n",
    "            res.append(arr2[j])\n",
    "            j+=1\n",
    "        else:\n",
    "            res.append(arr2[j])\n",
    "            i+=1\n",
    "            j+=1\n",
    "    \n",
    "    while(i < m):                            # appending the remaining nos from the longer array\n",
    "        res.append(arr1[i])\n",
    "        i+=1\n",
    "    while(j < n):\n",
    "        res.append(arr2[j])\n",
    "        j+=1\n",
    "    print(\"Union of the 2 arrays is\",res)\n",
    "\n",
    "def intersection(arr1,arr2,m,n):\n",
    "    i, j = 0, 0\n",
    "    res2=[]\n",
    "    while(i < m and j < n):\n",
    "        if arr1[i] < arr2[j]:\n",
    "            i += 1\n",
    "        elif arr2[j] < arr1[i]:\n",
    "            j+= 1\n",
    "        else:\n",
    "            res2.append(arr2[j])\n",
    "            j += 1\n",
    "            i += 1\n",
    "    print(\"Intersection of the 2 arrays is\",res2)\n",
    "    \n",
    "\n",
    "a1=[2,4,9]\n",
    "a2=[1,4,5,6,8,10]\n",
    "union(a1,a2,len(a1),len(a2))\n",
    "intersection(a1,a2,len(a1),len(a2))"
   ]
  },
  {
   "cell_type": "code",
   "execution_count": 6,
   "id": "6c3e46e9",
   "metadata": {},
   "outputs": [
    {
     "name": "stdout",
     "output_type": "stream",
     "text": [
      "Union of the arrays is {1, 2, 4, 5, 6, 8, 9, 10}\n",
      "Intersection of the arrays is {4}\n"
     ]
    }
   ],
   "source": [
    "#2 Using set operations\n",
    "a1=[2,4,9]\n",
    "a2=[1,4,5,6,8,10]\n",
    "a1=set(a1)\n",
    "a2=set(a2)\n",
    "print(\"Union of the arrays is\",a1 | a2)\n",
    "print(\"Intersection of the arrays is\",a1 & a2)\n"
   ]
  },
  {
   "cell_type": "code",
   "execution_count": null,
   "id": "a7804c30",
   "metadata": {},
   "outputs": [],
   "source": []
  }
 ],
 "metadata": {
  "kernelspec": {
   "display_name": "Python 3",
   "language": "python",
   "name": "python3"
  },
  "language_info": {
   "codemirror_mode": {
    "name": "ipython",
    "version": 3
   },
   "file_extension": ".py",
   "mimetype": "text/x-python",
   "name": "python",
   "nbconvert_exporter": "python",
   "pygments_lexer": "ipython3",
   "version": "3.8.8"
  }
 },
 "nbformat": 4,
 "nbformat_minor": 5
}
