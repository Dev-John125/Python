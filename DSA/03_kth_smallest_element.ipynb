{
 "cells": [
  {
   "cell_type": "markdown",
   "id": "80a5f9ff",
   "metadata": {},
   "source": [
    "## 3. WAP to find the kth smallest element in a given array"
   ]
  },
  {
   "cell_type": "code",
   "execution_count": 3,
   "id": "eb86f0d6",
   "metadata": {},
   "outputs": [
    {
     "name": "stdout",
     "output_type": "stream",
     "text": [
      "Enter the value of k: 4\n",
      "The result is 6\n"
     ]
    }
   ],
   "source": [
    "# Direct approach (Sorting and returning k-1 element)\n",
    "def kthSmallest(arr,k):\n",
    "    arr.sort()\n",
    "    return arr[k-1]\n",
    "    \n",
    "arr = [5,7,2,4,9,6]\n",
    "k = int(input(\"Enter the value of k: \"))\n",
    "res = kthSmallest(arr,k)\n",
    "print(\"The result is\",res)"
   ]
  },
  {
   "cell_type": "code",
   "execution_count": null,
   "id": "99eaa5dc",
   "metadata": {},
   "outputs": [],
   "source": []
  }
 ],
 "metadata": {
  "kernelspec": {
   "display_name": "Python 3",
   "language": "python",
   "name": "python3"
  },
  "language_info": {
   "codemirror_mode": {
    "name": "ipython",
    "version": 3
   },
   "file_extension": ".py",
   "mimetype": "text/x-python",
   "name": "python",
   "nbconvert_exporter": "python",
   "pygments_lexer": "ipython3",
   "version": "3.8.8"
  }
 },
 "nbformat": 4,
 "nbformat_minor": 5
}
