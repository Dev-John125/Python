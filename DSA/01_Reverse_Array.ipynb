{
 "cells": [
  {
   "cell_type": "markdown",
   "id": "bc64032b",
   "metadata": {},
   "source": [
    "## 1. WAP to reverse an array "
   ]
  },
  {
   "cell_type": "code",
   "execution_count": 5,
   "id": "034ec9dd",
   "metadata": {},
   "outputs": [
    {
     "name": "stdout",
     "output_type": "stream",
     "text": [
      "Enter number of elements: 6\n",
      "Enter the elements: \n",
      "1\n",
      "4\n",
      "7\n",
      "2\n",
      "8\n",
      "5\n",
      "Original array:  [1, 4, 7, 2, 8, 5]\n",
      "Reversed array:  [5, 8, 2, 7, 4, 1]\n"
     ]
    }
   ],
   "source": [
    "#1 Iterative approach\n",
    "\n",
    "def reverse(arr,start,end):\n",
    "    while(start<end):\n",
    "        arr[start],a[end]=a[end],a[start]\n",
    "        start+=1\n",
    "        end-=1\n",
    "\n",
    "a=[]\n",
    "n=int(input(\"Enter number of elements: \"))\n",
    "print(\"Enter the elements: \")\n",
    "for i in range(n):\n",
    "    k = int(input())\n",
    "    a.append(k)\n",
    "print(\"Original array: \",a)\n",
    "reverse(a,0,n-1)\n",
    "print(\"Reversed array: \",a)"
   ]
  },
  {
   "cell_type": "code",
   "execution_count": 7,
   "id": "2321cde5",
   "metadata": {},
   "outputs": [
    {
     "name": "stdout",
     "output_type": "stream",
     "text": [
      "Enter number of elements: 5\n",
      "Enter the elements: \n",
      "1\n",
      "4\n",
      "7\n",
      "2\n",
      "0\n",
      "Original array:  [1, 4, 7, 2, 0]\n",
      "Reversed array:  [0, 2, 7, 4, 1]\n"
     ]
    }
   ],
   "source": [
    "#2 Recursive approach\n",
    "\n",
    "def reverse2(A, start, end):\n",
    "    if start >= end:\n",
    "        return\n",
    "    A[start], A[end] = A[end], A[start]\n",
    "    reverse(A, start+1, end-1)\n",
    "\n",
    "\n",
    "a=[]\n",
    "n=int(input(\"Enter number of elements: \"))\n",
    "print(\"Enter the elements: \")\n",
    "for i in range(n):\n",
    "    k = int(input())\n",
    "    a.append(k)\n",
    "print(\"Original array: \",a)\n",
    "reverse2(a,0,n-1)\n",
    "print(\"Reversed array: \",a)"
   ]
  },
  {
   "cell_type": "code",
   "execution_count": 9,
   "id": "d862a0ce",
   "metadata": {},
   "outputs": [
    {
     "name": "stdout",
     "output_type": "stream",
     "text": [
      "Enter number of elements: 3\n",
      "Enter the elements: \n",
      "1\n",
      "7\n",
      "2\n",
      "Original array:  [1, 7, 2]\n",
      "Reversed array:  [2, 7, 1]\n"
     ]
    }
   ],
   "source": [
    "#3 List slicing\n",
    "\n",
    "a=[]\n",
    "n=int(input(\"Enter number of elements: \"))\n",
    "print(\"Enter the elements: \")\n",
    "for i in range(n):\n",
    "    k = int(input())\n",
    "    a.append(k)\n",
    "print(\"Original array: \",a)\n",
    "print(\"Reversed array: \",end=\" \")\n",
    "print(a[::-1])"
   ]
  },
  {
   "cell_type": "code",
   "execution_count": null,
   "id": "7600a2ac",
   "metadata": {},
   "outputs": [],
   "source": []
  }
 ],
 "metadata": {
  "kernelspec": {
   "display_name": "Python 3",
   "language": "python",
   "name": "python3"
  },
  "language_info": {
   "codemirror_mode": {
    "name": "ipython",
    "version": 3
   },
   "file_extension": ".py",
   "mimetype": "text/x-python",
   "name": "python",
   "nbconvert_exporter": "python",
   "pygments_lexer": "ipython3",
   "version": "3.8.8"
  }
 },
 "nbformat": 4,
 "nbformat_minor": 5
}
