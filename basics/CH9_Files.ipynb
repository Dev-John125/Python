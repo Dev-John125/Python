{
 "cells": [
  {
   "cell_type": "markdown",
   "id": "89ce9cf0",
   "metadata": {},
   "source": [
    "#  Ch9: Files in Python"
   ]
  },
  {
   "cell_type": "code",
   "execution_count": 1,
   "id": "6e752166",
   "metadata": {},
   "outputs": [
    {
     "name": "stdout",
     "output_type": "stream",
     "text": [
      "This is a sample text\n",
      "This is not good\n",
      "This is\n"
     ]
    }
   ],
   "source": [
    "# Use open function to read the content of a file!\n",
    '# A path that begins with the root directory in a file system is called an'
    '# absolute рle path. Not all file paths are absolute. A file path that is'
    '# not absolute is called a relative рle path.'

    "# r for read\n",
    "# w for write\n",
    "\n",
    "# f = open('sample.txt', 'r')\n",
    "f = open('sample.txt') # by default the mode is r\n",
    "g = open('sample.txt')\n",
    "data1 = f.read()\n",
    "data2 = g.read(7) # reads first 7 characters from the file\n",
    "print(data1)\n",
    "print(data2)\n",
    "f.close()\n",
    "g.close()"
   ]
  },
  {
   "cell_type": "code",
   "execution_count": 2,
   "id": "a71f272d",
   "metadata": {},
   "outputs": [
    {
     "name": "stdout",
     "output_type": "stream",
     "text": [
      "I am this file\n",
      "\n",
      "this is not good \n"
     ]
    }
   ],
   "source": [
    "f = open('sample2.txt')\n",
    "# read first line\n",
    "data = f.readline() \n",
    "print(data)\n",
    "\n",
    "# Read second line and so on...\n",
    "data = f.readline() \n",
    "print(data)\n",
    "f.close()"
   ]
  },
  {
   "cell_type": "code",
   "execution_count": 13,
   "id": "8513071a",
   "metadata": {},
   "outputs": [],
   "source": [
    "#if the file doesnt exist then a new file will be created if write method is used\n",
    "g = open('another.txt', 'w')\n",
    "g.write(\"I am writing\") \n",
    "g.close()"
   ]
  },
  {
   "cell_type": "code",
   "execution_count": 14,
   "id": "26d58f27",
   "metadata": {},
   "outputs": [
    {
     "name": "stdout",
     "output_type": "stream",
     "text": [
      "I am writing\n"
     ]
    }
   ],
   "source": [
    "f = open('another.txt')\n",
    "data = f.read() \n",
    "print(data)\n",
    "f.close()"
   ]
  },
  {
   "cell_type": "code",
   "execution_count": 8,
   "id": "6c35b7e6",
   "metadata": {},
   "outputs": [
    {
     "name": "stdout",
     "output_type": "stream",
     "text": [
      "2\n"
     ]
    }
   ],
   "source": [
    "#using with to open text files automatically closes the file after execution\n",
    "with open('another.txt', 'r') as f:\n",
    "    a = f.read()\n",
    "with open('another.txt', 'w') as f:\n",
    "    a = f.write(\"me\") # overwrites the previous text\n",
    "print(a)"
   ]
  },
  {
   "cell_type": "code",
   "execution_count": 9,
   "id": "6d12d4bd",
   "metadata": {},
   "outputs": [],
   "source": [
    "# A function to create several multiplication table files in a folder \n",
    "for i in range(2, 21):\n",
    "    with open(f\"tables/Multiplication_table_of_{i}.txt\", 'w') as f:\n",
    "        for j in range(1, 11):\n",
    "            f.write(f\"{i} x {j} = {i*j}\") #fstring for formatting\n",
    "            if j!=10:\n",
    "                f.write('\\n')\n"
   ]
  },
  {
   "cell_type": "code",
   "execution_count": 10,
   "id": "0971bf00",
   "metadata": {},
   "outputs": [
    {
     "name": "stdout",
     "output_type": "stream",
     "text": [
      "15 x 1 = 15\n",
      "15 x 2 = 30\n",
      "15 x 3 = 45\n",
      "15 x 4 = 60\n",
      "15 x 5 = 75\n",
      "15 x 6 = 90\n",
      "15 x 7 = 105\n",
      "15 x 8 = 120\n",
      "15 x 9 = 135\n",
      "15 x 10 = 150\n"
     ]
    }
   ],
   "source": [
    "#One of the output for the above program\n",
    "f = open('tables/Multiplication_table_of_15.txt')\n",
    "data = f.read() \n",
    "print(data)\n",
    "f.close()"
   ]
  },
  {
   "cell_type": "code",
   "execution_count": 11,
   "id": "c1d83ab6",
   "metadata": {},
   "outputs": [],
   "source": [
    "#To censor a given word in a text file if found \n",
    "\n",
    "with open(\"sample3.txt\") as f:\n",
    "    content = f.read()\n",
    "\n",
    "content = content.replace(\"stupid\", \"$%^@$^#\")\n",
    "\n",
    "with open(\"sample3.txt\", \"w\") as f:\n",
    "    f.write(content)\n",
    "    \n",
    "##words = [\"word1\", \"word2\", ... ] -->if a no. of words is to be replaced\n",
    "##\n",
    "##with open(\"sample3.txt\") as f:\n",
    "##    content = f.read()\n",
    "##\n",
    "##for word in words:\n",
    "##    content = content.replace(word, \"$%^@$^#\")\n",
    "##    with open(\"sample.txt\", \"w\") as f:\n",
    "##        f.write(content)"
   ]
  },
  {
   "cell_type": "code",
   "execution_count": 12,
   "id": "e038926a",
   "metadata": {},
   "outputs": [
    {
     "name": "stdout",
     "output_type": "stream",
     "text": [
      "It was a $%^@$^# move to walk blindly through such wild country. I have myself said she is $%^@$^# , he thought. No, she is not $%^@$^# , she is an excellent girl,\" he sometimes said to himself \"she never makes a mistake, never says anything $%^@$^# .\n"
     ]
    }
   ],
   "source": [
    "#Output\n",
    "with open(\"sample3.txt\") as f:\n",
    "    res=f.read()\n",
    "\n",
    "print(res)"
   ]
  },
  {
   "cell_type": "code",
   "execution_count": null,
   "id": "21402bca",
   "metadata": {},
   "outputs": [],
   "source": []
  }
 ],
 "metadata": {
  "kernelspec": {
   "display_name": "Python 3",
   "language": "python",
   "name": "python3"
  },
  "language_info": {
   "codemirror_mode": {
    "name": "ipython",
    "version": 3
   },
   "file_extension": ".py",
   "mimetype": "text/x-python",
   "name": "python",
   "nbconvert_exporter": "python",
   "pygments_lexer": "ipython3",
   "version": "3.8.8"
  }
 },
 "nbformat": 4,
 "nbformat_minor": 5
}
