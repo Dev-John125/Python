{
 "cells": [
  {
   "cell_type": "markdown",
   "id": "ba4dc827",
   "metadata": {},
   "source": [
    "# Ch5: Dictionary And Sets "
   ]
  },
  {
   "cell_type": "code",
   "execution_count": 3,
   "id": "665b6637",
   "metadata": {},
   "outputs": [
    {
     "name": "stdout",
     "output_type": "stream",
     "text": [
      "[45, 78]\n",
      "Player\n"
     ]
    }
   ],
   "source": [
    "# Creating a dictionary\n",
    "myDict = {\n",
    "    \"Fast\": \"In a Quick Manner\",\n",
    "    \"Harry\": \"A Coder\",\n",
    "    \"Marks\": [1, 2, 5], #can include lists\n",
    "    \"anotherdict\": {'Messi': 'Player'} # nested dictionary\n",
    "}\n",
    "\n",
    "# print(myDict['Fast'])\n",
    "# print(myDict['Messi'])\n",
    "myDict['Marks'] = [45, 78] #They are mutable like lists\n",
    "print(myDict['Marks'])\n",
    "print(myDict['anotherdict']['Messi'])"
   ]
  },
  {
   "cell_type": "code",
   "execution_count": 6,
   "id": "43cdbef8",
   "metadata": {},
   "outputs": [
    {
     "name": "stdout",
     "output_type": "stream",
     "text": [
      "['fast', 'john', 'marks', 'anotherdict', 1]\n",
      "\n",
      "\n",
      "dict_values(['In a Quick Manner', 'A Coder', [1, 2, 5], {'Messi': 'Player'}, 2])\n",
      "\n",
      "\n",
      "dict_items([('fast', 'In a Quick Manner'), ('john', 'A Coder'), ('marks', [1, 2, 5]), ('anotherdict', {'Messi': 'Player'}), (1, 2)])\n",
      "\n",
      "\n",
      "{'fast': 'In a Quick Manner', 'john': 'A Coder', 'marks': [1, 2, 5], 'anotherdict': {'Messi': 'Player'}, 1: 2}\n",
      "\n",
      "\n",
      "{'fast': 'In a Quick Manner', 'john': 'A Coder', 'marks': [1, 2, 5], 'anotherdict': {'Messi': 'Player'}, 1: 2, 'Manoj': 'Friend', 'Tagore': 'Poet', 'Elon': 'Billionare', 'Messi': 'Footballer'}\n",
      "\n",
      "\n",
      "Billionare\n",
      "\n",
      "\n",
      "Billionare\n",
      "\n",
      "\n",
      "None\n"
     ]
    }
   ],
   "source": [
    "#Important methods for dictionaries\n",
    "myDict = {\n",
    "    \"fast\": \"In a Quick Manner\",\n",
    "    \"john\": \"A Coder\",\n",
    "    \"marks\": [1, 2, 5],\n",
    "    \"anotherdict\": {'Messi': 'Player'},\n",
    "    1: 2   # numbers can also be used as key \n",
    "}\n",
    "\n",
    "\n",
    "print(list(myDict.keys())) # Prints the keys of the dictionary\n",
    "print(\"\\n\")\n",
    "print(myDict.values()) # Prints the values of the dictionary \n",
    "print(\"\\n\")\n",
    "print(myDict.items()) # Prints the (key, value) for all contents of the dictionary \n",
    "print(\"\\n\")\n",
    "print(myDict)\n",
    "\n",
    "\n",
    "updateDict = {\n",
    "    \"Manoj\": \"Friend\",\n",
    "    \"Tagore\": \"Poet\",\n",
    "    \"Elon\": \"Billionare\",\n",
    "    \"Messi\": \"Footballer\"\n",
    "}\n",
    "\n",
    "myDict.update(updateDict) # Updates the dictionary by adding key-value pairs from updateDict\n",
    "print(\"\\n\")\n",
    "print(myDict)\n",
    "print(\"\\n\")\n",
    "\n",
    "\n",
    "print(myDict.get(\"Elon\")) # Prints value associated with key 'messi'\n",
    "print(\"\\n\")\n",
    "print(myDict[\"Elon\"]) # Prints value associated with key \n",
    "print(\"\\n\")\n",
    "# The difference between .get and [] sytax in Dictionaries?\n",
    "print(myDict.get(\"some\")) # Returns None as some is not present in the dictionary\n",
    "# print(myDict[\"some\"]) # throws an error as some is not present in the dictionary"
   ]
  },
  {
   "cell_type": "code",
   "execution_count": 7,
   "id": "afa2fc0e",
   "metadata": {},
   "outputs": [
    {
     "name": "stdout",
     "output_type": "stream",
     "text": [
      "<class 'set'>\n",
      "{1, 3, 4, 5}\n"
     ]
    }
   ],
   "source": [
    "# Creating a set\n",
    "a = {1, 3, 4, 5, 1}\n",
    "print(type(a))\n",
    "print(a)"
   ]
  },
  {
   "cell_type": "code",
   "execution_count": 8,
   "id": "1a8cd195",
   "metadata": {},
   "outputs": [
    {
     "name": "stdout",
     "output_type": "stream",
     "text": [
      "<class 'dict'>\n",
      "<class 'set'>\n"
     ]
    }
   ],
   "source": [
    "# Important: This syntax will create an empty dictionary and not an empty set\n",
    "a = {}\n",
    "print(type(a))\n",
    "\n",
    "# An empty set can be created using the below syntax:\n",
    "b = set()\n",
    "print(type(b))"
   ]
  },
  {
   "cell_type": "code",
   "execution_count": 9,
   "id": "ed523bc4",
   "metadata": {},
   "outputs": [
    {
     "name": "stdout",
     "output_type": "stream",
     "text": [
      "{4, 5, (4, 5, 6)}\n",
      "3\n",
      "{4, (4, 5, 6)}\n",
      "4\n",
      "{(4, 5, 6)}\n"
     ]
    }
   ],
   "source": [
    "#Important methods for sets\n",
    "\n",
    "## Adding values to an empty set\n",
    "b.add(4)\n",
    "b.add(4)\n",
    "b.add(5)\n",
    "b.add(5) # Adding a value repeatedly does not changes a set\n",
    "b.add((4, 5, 6)) # Can add tuples\n",
    "\n",
    "# Accessing Elements\n",
    "# b.add({4:5}) # Cannot add list or dictionary to sets\n",
    "print(b)\n",
    "\n",
    "## Length of the Set\n",
    "print(len(b)) # Prints the length of this set\n",
    "\n",
    "## Removal of an Item\n",
    "b.remove(5) # Removes 5 fromt set b\n",
    "# b.remove(15) # throws an error while trying to remove 15 (which is not present in the set)\n",
    "print(b)\n",
    "\n",
    "print(b.pop())\n",
    "print(b)"
   ]
  },
  {
   "cell_type": "code",
   "execution_count": 10,
   "id": "763f5670",
   "metadata": {},
   "outputs": [
    {
     "name": "stdout",
     "output_type": "stream",
     "text": [
      "{20, '20'}\n",
      "2\n"
     ]
    }
   ],
   "source": [
    "#20 and 20.0 are same for sets\n",
    "\n",
    "s = {20, 20.0, \"20\"}\n",
    "print(s)\n",
    "print(len(s)) "
   ]
  },
  {
   "cell_type": "code",
   "execution_count": null,
   "id": "389ec289",
   "metadata": {},
   "outputs": [],
   "source": []
  }
 ],
 "metadata": {
  "kernelspec": {
   "display_name": "Python 3",
   "language": "python",
   "name": "python3"
  },
  "language_info": {
   "codemirror_mode": {
    "name": "ipython",
    "version": 3
   },
   "file_extension": ".py",
   "mimetype": "text/x-python",
   "name": "python",
   "nbconvert_exporter": "python",
   "pygments_lexer": "ipython3",
   "version": "3.8.8"
  }
 },
 "nbformat": 4,
 "nbformat_minor": 5
}
