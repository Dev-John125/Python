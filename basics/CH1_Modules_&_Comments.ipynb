{
 "cells": [
  {
   "cell_type": "markdown",
   "id": "8599c374",
   "metadata": {},
   "source": [
    "# Ch1: Modules And Comments"
   ]
  },
  {
   "cell_type": "markdown",
   "id": "b8abe189",
   "metadata": {},
   "source": [
    "Comments are lines of codes that don't get executed and serve as documentation for ourselves and other programmers that need to read our code."
   ]
  },
  {
   "cell_type": "code",
   "execution_count": null,
   "id": "9ad656f9",
   "metadata": {},
   "outputs": [],
   "source": [
    "# This is a block comment\n",
    "\n",
    "a=5   # This is an in-line comment\n",
    "'''\n",
    "This is a multi-line\n",
    "comment\n",
    "\n",
    "'''"
   ]
  },
  {
   "cell_type": "code",
   "execution_count": 1,
   "id": "ad968706",
   "metadata": {},
   "outputs": [
    {
     "name": "stdout",
     "output_type": "stream",
     "text": [
      "Hello world\n"
     ]
    }
   ],
   "source": [
    "'''\n",
    "Author: John\n",
    "Licenced to: ABC Company\n",
    "**********Thanks for reading**********\n",
    "'''\n",
    "import os    # importing the os module \n",
    "print(\"Hello world\")"
   ]
  },
  {
   "cell_type": "code",
   "execution_count": 2,
   "id": "c80259bc",
   "metadata": {},
   "outputs": [
    {
     "name": "stdout",
     "output_type": "stream",
     "text": [
      "Be who you are and say what you feel, \n",
      "because those who mind don't matter, \n",
      "and those who matter don't mind\n"
     ]
    }
   ],
   "source": [
    "# this is a multi line string\n",
    "\n",
    "print('''Be who you are and say what you feel, \n",
    "because those who mind don't matter, \n",
    "and those who matter don't mind''')"
   ]
  },
  {
   "cell_type": "code",
   "execution_count": null,
   "id": "9a65a254",
   "metadata": {},
   "outputs": [],
   "source": [
    "# install playsound using conda or pip before executing this cell\n",
    "from playsound import playsound\n",
    "playsound('C:\\\\Users\\\\Jestin John\\\\Desktop\\\\File\\\\Python3\\\\play.mp3')"
   ]
  },
  {
   "cell_type": "code",
   "execution_count": 4,
   "id": "9f890c55",
   "metadata": {},
   "outputs": [
    {
     "name": "stdout",
     "output_type": "stream",
     "text": [
      "['.ipynb_checkpoints', 'CH1_Modules_&_Comments.ipynb', 'play.mp3']\n"
     ]
    }
   ],
   "source": [
    "# Author: John\n",
    "# Location: Somewhere\n",
    "# Date: 23/09/3029\n",
    "\n",
    "import os\n",
    "print(os.listdir())"
   ]
  },
  {
   "cell_type": "code",
   "execution_count": null,
   "id": "c18eb161",
   "metadata": {},
   "outputs": [],
   "source": []
  }
 ],
 "metadata": {
  "kernelspec": {
   "display_name": "Python 3",
   "language": "python",
   "name": "python3"
  },
  "language_info": {
   "codemirror_mode": {
    "name": "ipython",
    "version": 3
   },
   "file_extension": ".py",
   "mimetype": "text/x-python",
   "name": "python",
   "nbconvert_exporter": "python",
   "pygments_lexer": "ipython3",
   "version": "3.8.11"
  }
 },
 "nbformat": 4,
 "nbformat_minor": 5
}
