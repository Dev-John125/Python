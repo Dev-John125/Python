{
 "cells": [
  {
   "cell_type": "markdown",
   "id": "f8384090",
   "metadata": {},
   "source": [
    "# Ch6: Conditional Expressions"
   ]
  },
  {
   "cell_type": "code",
   "execution_count": 5,
   "id": "72218e8d",
   "metadata": {},
   "outputs": [
    {
     "name": "stdout",
     "output_type": "stream",
     "text": [
      "The value of a is smaller than 3\n"
     ]
    }
   ],
   "source": [
    "#if-elif-else expressions\n",
    "a = 0\n",
    "if(a<3): \n",
    "    print(\"The value of a is smaller than 3\")\n",
    "elif(a>13):  #elif is used instead of else if \n",
    "    print(\"The value of a is greater than 13\")\n",
    "elif(a>7):\n",
    "    print(\"The value of a is greater than 7\")\n",
    "elif(a>17):\n",
    "    print(\"The value of a is greater than 17\")\n",
    "else:\n",
    "    print(\"The value is not greater than 3 or 7\")"
   ]
  },
  {
   "cell_type": "code",
   "execution_count": 6,
   "id": "98561a7e",
   "metadata": {},
   "outputs": [
    {
     "name": "stdout",
     "output_type": "stream",
     "text": [
      "Yes\n",
      "False\n"
     ]
    }
   ],
   "source": [
    "# is and in keywords in python\n",
    "\n",
    "a = None\n",
    "if (a is None):\n",
    "    print(\"Yes\")\n",
    "else:\n",
    "    print(\"No\")\n",
    "\n",
    "b = [45, 56, 6]\n",
    "print(435 in b)"
   ]
  },
  {
   "cell_type": "code",
   "execution_count": 7,
   "id": "4340fc59",
   "metadata": {},
   "outputs": [
    {
     "name": "stdout",
     "output_type": "stream",
     "text": [
      "Enter number 1: 45\n",
      "Enter number 2: -9\n",
      "Enter number 3: 21\n",
      "Enter number 4: -58\n",
      "45 is greatest\n"
     ]
    }
   ],
   "source": [
    "#To find the greatest number\n",
    "\n",
    "num1 = int(input(\"Enter number 1: \"))\n",
    "num2 = int(input(\"Enter number 2: \"))\n",
    "num3 = int(input(\"Enter number 3: \"))\n",
    "num4 = int(input(\"Enter number 4: \"))\n",
    "\n",
    "if(num1>num4):\n",
    "    f1 = num1\n",
    "else:\n",
    "    f1 = num4\n",
    "\n",
    "if(num2>num3):\n",
    "    f2 = num2\n",
    "else:\n",
    "    f2 = num3\n",
    "\n",
    "if(f1>f2):\n",
    "    print(str(f1) + \" is greatest\")\n",
    "else:\n",
    "    print(str(f2) + \" is greatest\")"
   ]
  },
  {
   "cell_type": "code",
   "execution_count": 8,
   "id": "ca0288d3",
   "metadata": {},
   "outputs": [
    {
     "name": "stdout",
     "output_type": "stream",
     "text": [
      "Enter first subject mark percentage\n",
      "67\n",
      "Enter second subject mark percentage\n",
      "31\n",
      "Enter third subject mark percentage\n",
      "56\n",
      "You have failed because you have less than 33% in one of the subjects\n"
     ]
    }
   ],
   "source": [
    "#To find if the student has passed(should have 33% and above in all subjects and average should be greater than 40%) or failed\n",
    "\n",
    "sub1 = int(input(\"Enter first subject mark percentage\\n\"))\n",
    "sub2 = int(input(\"Enter second subject mark percentage\\n\"))\n",
    "sub3 = int(input(\"Enter third subject mark percentage\\n\"))\n",
    "\n",
    "if(sub1<33 or sub2<33 or sub3<33):\n",
    "    print(\"You have failed because you have less than 33% in one of the subjects\")\n",
    "elif(sub1+sub2+sub3)/3 < 40:\n",
    "    print(\"You have failed due to average percentage less than 40\")\n",
    "else:\n",
    "    print(\"Congatulations! You passed the exam\")"
   ]
  },
  {
   "cell_type": "code",
   "execution_count": 10,
   "id": "c8e0bf46",
   "metadata": {},
   "outputs": [
    {
     "name": "stdout",
     "output_type": "stream",
     "text": [
      "Enter the text\n",
      "Subscribe to my channel and make a lot of money in no time and don't forget to click the bell icon\n",
      "\n",
      "This text is spam\n"
     ]
    }
   ],
   "source": [
    "#To check if the message contains spam text\n",
    "#Such as \"Buy this\",\"Click this\" etc\n",
    "\n",
    "text = input(\"Enter the text\\n\")\n",
    "\n",
    "if(\"make a lot of money\" in text):\n",
    "    spam = True\n",
    "elif(\"buy now\" in text):\n",
    "    spam = True\n",
    "elif(\"click this\" in text):\n",
    "    spam = True\n",
    "elif(\"subscribe this\" in text):\n",
    "    spam = True\n",
    "else:\n",
    "    spam = False\n",
    "\n",
    "if(spam):\n",
    "    print(\"\\nThis text is spam\")\n",
    "else:\n",
    "    print(\"\\nThis text is not spam\")"
   ]
  },
  {
   "cell_type": "code",
   "execution_count": null,
   "id": "72b9578a",
   "metadata": {},
   "outputs": [],
   "source": []
  }
 ],
 "metadata": {
  "kernelspec": {
   "display_name": "Python 3",
   "language": "python",
   "name": "python3"
  },
  "language_info": {
   "codemirror_mode": {
    "name": "ipython",
    "version": 3
   },
   "file_extension": ".py",
   "mimetype": "text/x-python",
   "name": "python",
   "nbconvert_exporter": "python",
   "pygments_lexer": "ipython3",
   "version": "3.8.8"
  }
 },
 "nbformat": 4,
 "nbformat_minor": 5
}
