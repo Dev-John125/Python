{
 "cells": [
  {
   "cell_type": "markdown",
   "id": "4345c14b",
   "metadata": {},
   "source": [
    "# Ch7: Loops in Python"
   ]
  },
  {
   "cell_type": "code",
   "execution_count": 1,
   "id": "8b14c202",
   "metadata": {},
   "outputs": [
    {
     "name": "stdout",
     "output_type": "stream",
     "text": [
      "Yes 0\n",
      "Yes 1\n",
      "Yes 2\n",
      "Yes 3\n",
      "Yes 4\n",
      "Yes 5\n",
      "Yes 6\n",
      "Yes 7\n",
      "Yes 8\n",
      "Yes 9\n",
      "Done\n"
     ]
    }
   ],
   "source": [
    "#while loop\n",
    "\n",
    "i = 0\n",
    "while i<10:\n",
    "    print(\"Yes \" + str(i))\n",
    "    i = i + 1\n",
    "\n",
    "print(\"Done\")"
   ]
  },
  {
   "cell_type": "code",
   "execution_count": 4,
   "id": "f46375d4",
   "metadata": {},
   "outputs": [
    {
     "name": "stdout",
     "output_type": "stream",
     "text": [
      "Banana\n",
      "Watermelon\n",
      "Grapes\n",
      "Mangoes\n"
     ]
    }
   ],
   "source": [
    "fruits = ['Banana', 'Watermelon', 'Grapes', 'Mangoes']\n",
    "i = 0\n",
    "while i<len(fruits):\n",
    "    print(fruits[i])\n",
    "    i = i+1\n"
   ]
  },
  {
   "cell_type": "code",
   "execution_count": 5,
   "id": "c31af087",
   "metadata": {},
   "outputs": [
    {
     "name": "stdout",
     "output_type": "stream",
     "text": [
      "Banana\n",
      "Watermelon\n",
      "Grapes\n",
      "Mangoes\n"
     ]
    }
   ],
   "source": [
    "#for loop\n",
    "\n",
    "fruits = ['Banana', 'Watermelon', 'Grapes', 'Mangoes']\n",
    "\n",
    "for item in fruits:\n",
    "    print(item)"
   ]
  },
  {
   "cell_type": "code",
   "execution_count": 6,
   "id": "707772f9",
   "metadata": {},
   "outputs": [
    {
     "name": "stdout",
     "output_type": "stream",
     "text": [
      "0\n",
      "1\n",
      "2\n",
      "3\n",
      "4\n",
      "5\n",
      "6\n",
      "7\n",
      "8\n",
      "9\n",
      "This is inside else of for\n"
     ]
    }
   ],
   "source": [
    "#example of range function\n",
    "\n",
    "for i in range(10):\n",
    "    print(i)\n",
    "else:                 #else can be used in for also\n",
    "    print(\"This is inside else of for\")"
   ]
  },
  {
   "cell_type": "code",
   "execution_count": 9,
   "id": "3aa04014",
   "metadata": {},
   "outputs": [
    {
     "name": "stdout",
     "output_type": "stream",
     "text": [
      "0\n",
      "1\n",
      "2\n",
      "3\n",
      "4\n",
      "5\n"
     ]
    }
   ],
   "source": [
    "#break statement is used to terminate the loop\n",
    "for i in range(10):\n",
    "    print(i)\n",
    "    if i == 5:\n",
    "        break\n",
    "else:\n",
    "    print(\"This is inside else of for\")"
   ]
  },
  {
   "cell_type": "code",
   "execution_count": 10,
   "id": "61336f22",
   "metadata": {},
   "outputs": [
    {
     "name": "stdout",
     "output_type": "stream",
     "text": [
      "0\n",
      "1\n",
      "2\n",
      "3\n",
      "4\n",
      "6\n",
      "7\n",
      "8\n",
      "9\n"
     ]
    }
   ],
   "source": [
    "#continue statement skips the current iteration when encountered\n",
    "\n",
    "for i in range(10):\n",
    "    if i == 5:\n",
    "        continue\n",
    "    print(i)"
   ]
  },
  {
   "cell_type": "code",
   "execution_count": 12,
   "id": "4fbdf7ec",
   "metadata": {},
   "outputs": [
    {
     "name": "stdout",
     "output_type": "stream",
     "text": [
      "Uses of pass statement\n"
     ]
    }
   ],
   "source": [
    "#pass is used as a null statement\n",
    "i = 4\n",
    "\n",
    "if i>0:\n",
    "    pass\n",
    "\n",
    "while i>6:\n",
    "    pass\n",
    "\n",
    "print(\"Uses of pass statement\")"
   ]
  },
  {
   "cell_type": "code",
   "execution_count": 18,
   "id": "fb2891a8",
   "metadata": {},
   "outputs": [
    {
     "name": "stdout",
     "output_type": "stream",
     "text": [
      "Enter the number: 7\n",
      "7 x 1 = 7\n",
      "7 x 2 = 14\n",
      "7 x 3 = 21\n",
      "7 x 4 = 28\n",
      "7 x 5 = 35\n",
      "7 x 6 = 42\n",
      "7 x 7 = 49\n",
      "7 x 8 = 56\n",
      "7 x 9 = 63\n",
      "7 x 10 = 70\n"
     ]
    }
   ],
   "source": [
    "#To find multiplication table of a given number\n",
    "num = int(input(\"Enter the number: \"))\n",
    "for i in range(1, 11):\n",
    "    # print(str(num) + \" X \" + str(i) + \"=\" + str(i*num))\n",
    "    print(f\"{num} x {i} = {num*i}\") # f-string expressions  "
   ]
  },
  {
   "cell_type": "code",
   "execution_count": 19,
   "id": "c0b07a47",
   "metadata": {},
   "outputs": [
    {
     "name": "stdout",
     "output_type": "stream",
     "text": [
      "Hello Sohan\n",
      "Hello Sachin\n"
     ]
    }
   ],
   "source": [
    "#Starts with function checks if string starts with the given character\n",
    "l1 = [\"Marry\", \"Sohan\", \"Sachin\", \"Rahul\"]\n",
    "\n",
    "for name in l1:\n",
    "    if name.startswith(\"S\"):\n",
    "        print(\"Hello \" + name)"
   ]
  },
  {
   "cell_type": "code",
   "execution_count": 20,
   "id": "dd99b43c",
   "metadata": {},
   "outputs": [
    {
     "name": "stdout",
     "output_type": "stream",
     "text": [
      "*\n",
      "**\n",
      "***\n",
      "****\n"
     ]
    }
   ],
   "source": [
    "#Pattern 1\n",
    "n = 4\n",
    "\n",
    "for i in range(4):\n",
    "    print(\"*\" * (i+1))"
   ]
  },
  {
   "cell_type": "code",
   "execution_count": 22,
   "id": "76d6e3e8",
   "metadata": {},
   "outputs": [
    {
     "name": "stdout",
     "output_type": "stream",
     "text": [
      "  *  \n",
      " *** \n",
      "*****\n"
     ]
    }
   ],
   "source": [
    "#Pattern 2\n",
    "n = 3\n",
    "for i in range(3): \n",
    "    print(\" \" * (n-i-1), end=\"\") #end statement used to ignore \\n\n",
    "    print(\"*\" * (2*i+1), end=\"\")\n",
    "    print(\" \" * (n-i-1))"
   ]
  },
  {
   "cell_type": "code",
   "execution_count": null,
   "id": "7c57fdb4",
   "metadata": {},
   "outputs": [],
   "source": []
  }
 ],
 "metadata": {
  "kernelspec": {
   "display_name": "Python 3",
   "language": "python",
   "name": "python3"
  },
  "language_info": {
   "codemirror_mode": {
    "name": "ipython",
    "version": 3
   },
   "file_extension": ".py",
   "mimetype": "text/x-python",
   "name": "python",
   "nbconvert_exporter": "python",
   "pygments_lexer": "ipython3",
   "version": "3.8.8"
  }
 },
 "nbformat": 4,
 "nbformat_minor": 5
}
