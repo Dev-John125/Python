{
 "cells": [
  {
   "cell_type": "markdown",
   "id": "1a078b29",
   "metadata": {},
   "source": [
    "# Ch0: Introduction"
   ]
  },
  {
   "cell_type": "raw",
   "id": "400be7c2",
   "metadata": {},
   "source": [
    "A text file that contains a Python program and has a .py file extension is called a script"
   ]
  },
  {
   "cell_type": "raw",
   "id": "5fad8b96",
   "metadata": {},
   "source": [
    "Q1.Why choose Python3 ?\n",
    "\n",
    "A. \n",
    "-Python is popular\n",
    "  It is ranked as 7th most popular and no. 1 most wanted tech of the year\n",
    "  \n",
    "-Python is interpreted\n",
    "  Many languages are compiled which means the source code we create needs to be   translated into machine code before it can be run. But programs written in     interpreted language are passed straight to an interpreter that runs them       directly.\n",
    "  \n",
    "  This makes quicker development cycle cause the intermediate compilation step   is skipped.\n",
    "  \n",
    "  One disadvantage of interpreted languages is execution speed. Programs that     are compiled into native language of the processor tend to run more quickly     than interpreted programs. For applications that are computationally           intensive like graphics processing or intense number crunching, this can be     limiting.\n",
    "  \n",
    "-Python is free\n",
    "  The Python interpreter is developed under an OSI-approved open source license   making it free to install, use, and distribute, even for commercial purposes.\n",
    "\n",
    "-Python is portable\n",
    "  Because Python code is interpreted and not compiled into native machine         instructions, code written for one platform will work on any other platform     that has the Python interpreter installed.\n",
    "\n",
    "-Python is simple\n",
    "  Python is relatively uncluttered. It uses english like words syntactically.\n",
    "  Python 3 has 33 keywords whereas C++ has 62, Java has 53, etc. It has simple   and clean structure which is easy to learn and read.\n",
    "  "
   ]
  },
  {
   "cell_type": "code",
   "execution_count": 1,
   "id": "c6ee7f18",
   "metadata": {},
   "outputs": [
    {
     "name": "stdout",
     "output_type": "stream",
     "text": [
      "Hello, world\n"
     ]
    }
   ],
   "source": [
    "#By far the first code to be written in a newly installed language by customs\n",
    "print(\"Hello, world\")"
   ]
  },
  {
   "cell_type": "raw",
   "id": "093026a3",
   "metadata": {},
   "source": [
    "Q2.How to use Python Interpreter interactively?\n",
    "A.\n",
    "-The most straightforward way to start talking to Python is in an interactive     Read-Evaluate-Print Loop(REPL) environment(Cmd in windows).\n",
    "  The interpreter\n",
    "  Reads the commands you enter\n",
    "  Evaluates and executes the command\n",
    "  Prints the output to the console\n",
    "  Loops back and repeats the process\n",
    "  "
   ]
  },
  {
   "cell_type": "raw",
   "id": "ea22a526",
   "metadata": {},
   "source": []
  }
 ],
 "metadata": {
  "kernelspec": {
   "display_name": "Python 3",
   "language": "python",
   "name": "python3"
  },
  "language_info": {
   "codemirror_mode": {
    "name": "ipython",
    "version": 3
   },
   "file_extension": ".py",
   "mimetype": "text/x-python",
   "name": "python",
   "nbconvert_exporter": "python",
   "pygments_lexer": "ipython3",
   "version": "3.8.11"
  }
 },
 "nbformat": 4,
 "nbformat_minor": 5
}
