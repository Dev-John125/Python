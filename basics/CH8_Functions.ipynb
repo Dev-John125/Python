{
 "cells": [
  {
   "cell_type": "markdown",
   "id": "cd329948",
   "metadata": {},
   "source": [
    "# Ch8: Functions"
   ]
  },
  {
   "cell_type": "code",
   "execution_count": 1,
   "id": "e6c069cf",
   "metadata": {},
   "outputs": [
    {
     "name": "stdout",
     "output_type": "stream",
     "text": [
      "71.5 84.75\n"
     ]
    }
   ],
   "source": [
    "#def keyword is used to declare a function\n",
    "def percent(marks):\n",
    "    p = ((marks[0] + marks[1] + marks[2]+ marks[3])/400 )*100\n",
    "    return p\n",
    "\n",
    "marks1 = [45, 78, 86, 77]\n",
    "percentage1 = percent(marks1)\n",
    "\n",
    "marks2 = [75, 98, 88, 78]\n",
    "percentage2 = percent(marks2)\n",
    "print(percentage1, percentage2)"
   ]
  },
  {
   "cell_type": "code",
   "execution_count": 4,
   "id": "bb97a07a",
   "metadata": {},
   "outputs": [
    {
     "name": "stdout",
     "output_type": "stream",
     "text": [
      "Good Day, John\n",
      "Good Day, Stranger\n"
     ]
    }
   ],
   "source": [
    "#arguments can have default values\n",
    "def greet(name=\"Stranger\"):\n",
    "    print(\"Good Day, \"+ name)\n",
    "\n",
    "greet(\"John\") \n",
    "greet()"
   ]
  },
  {
   "cell_type": "code",
   "execution_count": 6,
   "id": "f8fc2cb0",
   "metadata": {},
   "outputs": [
    {
     "name": "stdout",
     "output_type": "stream",
     "text": [
      "5040\n"
     ]
    }
   ],
   "source": [
    "#funtion to calculate factorial recursively\n",
    "\n",
    "# n! = 1 * 2 * 3 * 4...*n\n",
    "# n! = [1 * 2 * 3 * 4... n-1] *n\n",
    "# n! = n * (n-1)! \n",
    "\n",
    "#Normal Approach\n",
    "\n",
    "# n = 0\n",
    "# product = 1\n",
    "# for i in range(n):\n",
    "#     product = product * (i+1)\n",
    "# print(product)\n",
    "\n",
    "#Recursive approach\n",
    "\n",
    "def factorial_iter(n):\n",
    "    product = 1\n",
    "    for i in range(n):\n",
    "        product = product * (i+1)\n",
    "    return product\n",
    "\n",
    "def factorial_recursive(n):\n",
    "    if n == 1 or n == 0:\n",
    "        return 1\n",
    "    return n * factorial_recursive(n-1)\n",
    "\n",
    "f = factorial_recursive(7)\n",
    "print(f)\n",
    "\n"
   ]
  },
  {
   "cell_type": "code",
   "execution_count": 9,
   "id": "ae076d84",
   "metadata": {},
   "outputs": [
    {
     "name": "stdout",
     "output_type": "stream",
     "text": [
      "Hello How are you? "
     ]
    }
   ],
   "source": [
    "#printing statements in the same line but multiple print statements\n",
    "\n",
    "print(\"Hello\", end=\" \") #default end value is '\\n'\n",
    "print(\"How\", end=\" \")\n",
    "print(\"are\", end=\" \")\n",
    "print(\"you?\", end=\" \")"
   ]
  },
  {
   "cell_type": "code",
   "execution_count": 13,
   "id": "24fb207c",
   "metadata": {},
   "outputs": [
    {
     "name": "stdout",
     "output_type": "stream",
     "text": [
      "Ron is good\n"
     ]
    }
   ],
   "source": [
    "#To remove spaces in the front and end we use strip function\n",
    "def remove_and_split(string, word):\n",
    "    newStr = string.replace(word, \"\")\n",
    "    return newStr.strip()\n",
    "\n",
    "this = \"     Ron is a good      \"\n",
    "n = remove_and_split(this, \"a \")\n",
    "print(n)\n",
    "# print(this)\n",
    "# print(this.strip())\n"
   ]
  },
  {
   "cell_type": "code",
   "execution_count": null,
   "id": "9f1a7b6b",
   "metadata": {},
   "outputs": [],
   "source": []
  }
 ],
 "metadata": {
  "kernelspec": {
   "display_name": "Python 3",
   "language": "python",
   "name": "python3"
  },
  "language_info": {
   "codemirror_mode": {
    "name": "ipython",
    "version": 3
   },
   "file_extension": ".py",
   "mimetype": "text/x-python",
   "name": "python",
   "nbconvert_exporter": "python",
   "pygments_lexer": "ipython3",
   "version": "3.8.8"
  }
 },
 "nbformat": 4,
 "nbformat_minor": 5
}
