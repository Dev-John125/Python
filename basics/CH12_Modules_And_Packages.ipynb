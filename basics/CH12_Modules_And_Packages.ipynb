{
 "cells": [
  {
   "cell_type": "markdown",
   "id": "b40a1ba9",
   "metadata": {},
   "source": [
    "## Ch12: Modules And Packages"
   ]
  },
  {
   "cell_type": "markdown",
   "id": "ccb15618",
   "metadata": {},
   "source": [
    "-A module is a file containing Python code that can be re-used in other Python code files.\n",
    "\n",
    "-There are four main advantages to breaking a program into modules:\n",
    "    1. Simplicity: Modules are focused on a single problem.\n",
    "    2. Maintainability: Small files are better than large files.\n",
    "    3. Reusability: Modules reduce duplicate code.\n",
    "    4. Scoping: Modules have their own namespaces\n",
    "    \n",
    "-A namespace is a collection of names, such as variable names, function names, and class names. Every Python module has its own   namespace.\n",
    "\n",
    "-Below is a demo of how modules work. adder.py and main.py are different python files.\n"
   ]
  },
  {
   "cell_type": "markdown",
   "id": "3f6e1d8e",
   "metadata": {},
   "source": [
    "---------------------------------------------------------------------\n",
    "adder.py\n",
    "\n",
    "def add(x, y):\n",
    "    return x + y\n"
   ]
  },
  {
   "cell_type": "markdown",
   "id": "bbd55b25",
   "metadata": {},
   "source": [
    "--------------------------------------------------------------------------------\n",
    "main.py\n",
    "\n",
    "import adder             # main.py will now be able to use adder.py functions\n",
    "\n",
    "value = adder.add(2, 2)\n",
    "print(value)\n",
    "\n"
   ]
  },
  {
   "cell_type": "code",
   "execution_count": null,
   "id": "46bce21c",
   "metadata": {},
   "outputs": [],
   "source": []
  }
 ],
 "metadata": {
  "kernelspec": {
   "display_name": "Python 3",
   "language": "python",
   "name": "python3"
  },
  "language_info": {
   "codemirror_mode": {
    "name": "ipython",
    "version": 3
   },
   "file_extension": ".py",
   "mimetype": "text/x-python",
   "name": "python",
   "nbconvert_exporter": "python",
   "pygments_lexer": "ipython3",
   "version": "3.8.8"
  }
 },
 "nbformat": 4,
 "nbformat_minor": 5
}
