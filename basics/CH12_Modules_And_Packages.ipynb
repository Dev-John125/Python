{
 "cells": [
  {
   "cell_type": "markdown",
   "id": "b40a1ba9",
   "metadata": {},
   "source": [
    "## Ch12: Modules And Packages"
   ]
  },
  {
   "cell_type": "markdown",
   "id": "ccb15618",
   "metadata": {},
   "source": [
    "-A module is a file containing Python code that can be re-used in other Python code files.\n",
    "\n",
    "-There are four main advantages to breaking a program into modules:\n",
    "    1. Simplicity: Modules are focused on a single problem.\n",
    "    2. Maintainability: Small files are better than large files.\n",
    "    3. Reusability: Modules reduce duplicate code.\n",
    "    4. Scoping: Modules have their own namespaces\n",
    "    \n",
    "-A namespace is a collection of names, such as variable names, function names, and class names. Every Python module has its own   namespace.\n",
    "\n",
    "-Below is a demo of how modules work. adder.py and main.py are different python files.\n"
   ]
  },
  {
   "cell_type": "markdown",
   "id": "3f6e1d8e",
   "metadata": {},
   "source": [
    "---------------------------------------------------------------------\n",
    "adder.py\n",
    "\n",
    "def add(x, y):\n",
    "    return x + y\n"
   ]
  },
  {
   "cell_type": "markdown",
   "id": "bbd55b25",
   "metadata": {},
   "source": [
    "--------------------------------------------------------------------------------\n",
    "main.py\n",
    "\n",
    "import adder             # main.py will now be able to use adder.py functions\n",
    "\n",
    "value = adder.add(2, 2)\n",
    "print(value)\n",
    "\n"
   ]
  },
  {
   "cell_type": "markdown",
   "id": "2245f8cd",
   "metadata": {},
   "source": [
    "-We can have two types of import statement variations.\n",
    "\n",
    "import adder as a   \n",
    "\n",
    "from adder import add     # only specific name from a module can be inported using this variation\n"
   ]
  },
  {
   "cell_type": "code",
   "execution_count": 2,
   "id": "b25f21d1",
   "metadata": {},
   "outputs": [],
   "source": [
    "# Difference btw different types of import string variations\n",
    "\n",
    "import <module>             # Import all of <module>’s namespace into\n",
    "                            # the name <module>. Import module names\n",
    "                            # can be accessed from the calling module\n",
    "                            # with <module>.<name>.\n",
    "import <module> as <other_name>\n",
    "                            # Import all of <modules>’s namespace into\n",
    "                            # the name <other_name>. Import module\n",
    "                            # names can be accessed from the calling\n",
    "                            # module with <other_name>.<name>.\n",
    "from <module> import <name1>, <name2>, ...\n",
    "                            # Import only the names <name1>, <name2>,\n",
    "                            # etc, from <module>. The names are added\n",
    "                            # to the calling modules’s local namespace\n",
    "                            # and can be accessed directly.\n"
   ]
  },
  {
   "cell_type": "markdown",
   "id": "77b9c5bc",
   "metadata": {},
   "source": [
    "-A package is a folder that contains one or more Python modules. It must also contain a special module called __init__.py. Package allows us to group related modules under a single namespace."
   ]
  },
  {
   "cell_type": "code",
   "execution_count": 4,
   "id": "402d7f0c",
   "metadata": {},
   "outputs": [],
   "source": [
    "# Eg of how to import modules from packages\n",
    "import mypackage.module1    # mypackage is a folder which contains 2 modules module 1 and 2 and __init__.py.\n",
    "import mypackage.module2 \n",
    "\n",
    "mypackage.module1.greet(\"Pythonista\")   \n",
    "mypackage.module2.depart(\"Pythonista\")\n"
   ]
  },
  {
   "cell_type": "code",
   "execution_count": null,
   "id": "6cbf0558",
   "metadata": {},
   "outputs": [],
   "source": []
  }
 ],
 "metadata": {
  "kernelspec": {
   "display_name": "Python 3",
   "language": "python",
   "name": "python3"
  },
  "language_info": {
   "codemirror_mode": {
    "name": "ipython",
    "version": 3
   },
   "file_extension": ".py",
   "mimetype": "text/x-python",
   "name": "python",
   "nbconvert_exporter": "python",
   "pygments_lexer": "ipython3",
   "version": "3.8.8"
  }
 },
 "nbformat": 4,
 "nbformat_minor": 5
}
