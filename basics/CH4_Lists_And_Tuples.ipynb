{
 "cells": [
  {
   "cell_type": "code",
   "execution_count": 6,
   "id": "705219ca",
   "metadata": {},
   "outputs": [
    {
     "name": "stdout",
     "output_type": "stream",
     "text": [
      "[1, 2, 4, 56, 6]\n",
      "4\n",
      "[98, 2, 4, 56, 6]\n",
      "[45, 'John', False, 4.9]\n"
     ]
    }
   ],
   "source": [
    "# Create a list using []\n",
    "# They are mutable\n",
    "a = [1, 2 , 4, 56, 6]\n",
    "print(a)\n",
    "\n",
    "# Access using index using a[0], a[1], a[2]\n",
    "print(a[2])\n",
    "\n",
    "# Change the value of list using\n",
    "a[0] = 98\n",
    "print(a)\n",
    "\n",
    "# We can create a list with items of different types\n",
    "c = [45, \"John\", False, 4.9]\n",
    "print(c)\n"
   ]
  },
  {
   "cell_type": "code",
   "execution_count": 7,
   "id": "c0e3900d",
   "metadata": {},
   "outputs": [
    {
     "name": "stdout",
     "output_type": "stream",
     "text": [
      "['Mathew', 'Tom', 'Rohan', 'Sam']\n",
      "['Rohan', 'Sam', 'Divya', 45]\n"
     ]
    }
   ],
   "source": [
    "#Slicing\n",
    "\n",
    "friends = [\"Mathew\", \"Tom\", \"Rohan\", \"Sam\", \"Divya\", 45]\n",
    "print(friends[0:4])\n",
    "print(friends[-4:])\n"
   ]
  },
  {
   "cell_type": "code",
   "execution_count": 8,
   "id": "5ddcb33f",
   "metadata": {},
   "outputs": [
    {
     "name": "stdout",
     "output_type": "stream",
     "text": [
      "[1, 8, 7, 2, 21, 15]\n",
      "[1, 2, 7, 8, 15, 21]\n",
      "[21, 15, 8, 7, 2, 1]\n",
      "[21, 15, 8, 7, 2, 1, 45]\n",
      "[21, 15, 544, 8, 7, 2, 1, 45]\n",
      "[21, 15, 8, 7, 2, 1, 45]\n",
      "[15, 8, 7, 2, 1, 45]\n"
     ]
    }
   ],
   "source": [
    "#Important methods for lists\n",
    "\n",
    "l1 = [1, 8, 7, 2, 21, 15]\n",
    "print(l1)\n",
    "l1.sort() # sorts the list\n",
    "print(l1)\n",
    "l1.reverse() # reverses the list\n",
    "print(l1)\n",
    "l1.append(45) # adds 45 at the end of the list\n",
    "print(l1)\n",
    "l1.insert(2, 544) # inserts 544 at index 2\n",
    "print(l1)\n",
    "l1.pop(2) # removes element at index 2\n",
    "print(l1)\n",
    "l1.remove(21) # removes 21 from the list\n",
    "print(l1)"
   ]
  },
  {
   "cell_type": "code",
   "execution_count": 9,
   "id": "416f9cc1",
   "metadata": {},
   "outputs": [
    {
     "name": "stdout",
     "output_type": "stream",
     "text": [
      "(1,)\n",
      "1\n"
     ]
    }
   ],
   "source": [
    "# Creating a tuple using ()\n",
    "# They are immutable\n",
    "\n",
    "t = (1, 2, 4, 5)\n",
    "\n",
    "t2 = () # Empty tuple\n",
    "# t2 = (1) # Wrong way to declare a Tuple with Single element\n",
    "t2 = (1,) # Tuple with Single element\n",
    "print(t2)\n",
    "\n",
    "# Printing the elements of a tuple\n",
    "print(t[0])\n",
    "\n",
    "# Cannot update the values of a tuple\n",
    "# t[0] = 34 # throws an error"
   ]
  },
  {
   "cell_type": "code",
   "execution_count": 10,
   "id": "a04c8a74",
   "metadata": {},
   "outputs": [
    {
     "name": "stdout",
     "output_type": "stream",
     "text": [
      "4\n",
      "3\n"
     ]
    }
   ],
   "source": [
    "#Some methods for tuples\n",
    "t = (1, 2, 4, 5, 4, 1, 2,1 ,1)\n",
    "\n",
    "print(t.count(1))\n",
    "print(t.index(5))"
   ]
  },
  {
   "cell_type": "code",
   "execution_count": null,
   "id": "3a137d75",
   "metadata": {},
   "outputs": [],
   "source": []
  }
 ],
 "metadata": {
  "kernelspec": {
   "display_name": "Python 3",
   "language": "python",
   "name": "python3"
  },
  "language_info": {
   "codemirror_mode": {
    "name": "ipython",
    "version": 3
   },
   "file_extension": ".py",
   "mimetype": "text/x-python",
   "name": "python",
   "nbconvert_exporter": "python",
   "pygments_lexer": "ipython3",
   "version": "3.8.8"
  }
 },
 "nbformat": 4,
 "nbformat_minor": 5
}
