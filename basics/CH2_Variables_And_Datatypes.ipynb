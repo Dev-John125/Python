{
 "cells": [
  {
   "cell_type": "markdown",
   "id": "15540ba1",
   "metadata": {},
   "source": [
    "# Ch2: Variables And Datatypes"
   ]
  },
  {
   "cell_type": "raw",
   "id": "b5847642",
   "metadata": {},
   "source": [
    "-Variables are names that can be assigned a value and used to reference that   value throughout your code. Variables keep values accesible and give them     context.\n",
    "\n",
    "-Variables are assigned to a variable using a special symbol = called the       assignment operator.\n",
    "\n",
    "-Variable names are case-sensitive which means a variable named phrase and     Phrase are different.\n",
    "\n",
    "-Rules for valid variable names\n",
    " 1.They can only contain uppercase and lowercase letters(A-Z,a-z), \n",
    "   digits(0-9) and underscores(_).\n",
    " 2.But, variable names cannot begin with a number\n",
    " 3.Descriptive variable names are better(3-4 words)\n",
    " 4.camelCase writing is preferred(for eg: listOfNames)\n",
    " 5.snake case is more common in python(for eg: list_of_names)\n",
    " 6.Keywords should be avoided\n",
    "\n",
    "-Directly typing the variable name and pressing enter is the inspect phase     which sometimes provides additional information about the variables.\n"
   ]
  },
  {
   "cell_type": "raw",
   "id": "fa1570e8",
   "metadata": {},
   "source": [
    "Python 3 has 33 keywords:-\n",
    "\n",
    "False, def, if, raise, None, del, import, return, True, elif,\n",
    "in, try, and, else, is, while, as, except, lambda, with, assert, finally, nonlocal, yield, break, for, not, class, from, or, continue, global, pass."
   ]
  },
  {
   "cell_type": "code",
   "execution_count": 1,
   "id": "9e5f5785",
   "metadata": {},
   "outputs": [
    {
     "name": "stdout",
     "output_type": "stream",
     "text": [
      "Hello\n",
      "345\n",
      "45.32\n",
      "True\n",
      "None\n",
      "<class 'str'>\n",
      "<class 'int'>\n",
      "<class 'float'>\n",
      "<class 'bool'>\n",
      "<class 'NoneType'>\n"
     ]
    }
   ],
   "source": [
    "#Variables\n",
    "\n",
    "a = '''Hello'''\n",
    "#'''hello''' , 'hello' ,\"hello\" are all the same\n",
    "b = 345\n",
    "c = 45.32\n",
    "d = True\n",
    "e = None\n",
    "\n",
    "# Printing the variables\n",
    "print(a)\n",
    "print(b)\n",
    "print(c)\n",
    "print(d)\n",
    "print(e)\n",
    "\n",
    "# Printing the type of variables\n",
    "print(type(a))\n",
    "print(type(b))\n",
    "print(type(c))\n",
    "print(type(d))\n",
    "print(type(e))\n"
   ]
  },
  {
   "cell_type": "code",
   "execution_count": null,
   "id": "fd31af70",
   "metadata": {},
   "outputs": [],
   "source": [
    "# The assignment here creates an integer object with the value 100 \n",
    "# and assigns the variable m to point to that object.(pointer to an object)\n",
    "\n",
    "m = 100  \n",
    "\n",
    "# Python does not create another object, but creates a symbolic name \n",
    "# or reference m thus multiple references to a single object\n",
    "\n",
    "n = m  \n",
    "\n",
    "# Python here creates a new integer object with the value \n",
    "# 400 and m becomes a reference to it\n",
    "\n",
    "m = 400"
   ]
  },
  {
   "cell_type": "code",
   "execution_count": 5,
   "id": "beffcfdc",
   "metadata": {},
   "outputs": [
    {
     "name": "stdout",
     "output_type": "stream",
     "text": [
      "1917695487344 1917695487344 1917695486288\n"
     ]
    }
   ],
   "source": [
    "# Every object when created is given a number that uniquely identifies it.\n",
    "# It is guranteed that no two objects will have same identifiers \n",
    "# unless pointing to the same object. id() function returns \n",
    "# the object's identifier\n",
    "\n",
    "x1 = 400\n",
    "x2 = x1\n",
    "x3 = 400       \n",
    "print(id(x1),id(x2),id(x3))"
   ]
  },
  {
   "cell_type": "code",
   "execution_count": 3,
   "id": "b25ceec9",
   "metadata": {},
   "outputs": [
    {
     "name": "stdout",
     "output_type": "stream",
     "text": [
      "The value of 3+4 is  7\n",
      "The value of 3-4 is  -1\n",
      "The value of 3*4 is  12\n",
      "The value of 3/4 is  0.75\n",
      "22.0\n",
      "True\n",
      "The value of bool1 and bool2 is False\n",
      "The value of bool1 or bool2 is True\n",
      "The value of not bool2 is True\n"
     ]
    }
   ],
   "source": [
    "#Operators\n",
    "\n",
    "a = 3\n",
    "b = 4\n",
    "\n",
    "# Arithmetic Operators\n",
    "print(\"The value of 3+4 is \", 3+4)\n",
    "print(\"The value of 3-4 is \", 3-4)\n",
    "print(\"The value of 3*4 is \", 3*4)\n",
    "print(\"The value of 3/4 is \", 3/4)\n",
    "\n",
    "# Assignment Operators\n",
    "a = 34\n",
    "a -= 12\n",
    "a *= 12\n",
    "a /= 12\n",
    "print(a)\n",
    "\n",
    "# Comparison Operators\n",
    "# b = (14<=7)\n",
    "# b = (14>=7)\n",
    "# b = (14<7)\n",
    "# b = (14>7)\n",
    "# b = (14==7)\n",
    "b = (14!=7)\n",
    "print(b)\n",
    "\n",
    "# Logical Operators\n",
    "bool1 = True\n",
    "bool2 = False\n",
    "print(\"The value of bool1 and bool2 is\", (bool1 and bool2))\n",
    "print(\"The value of bool1 or bool2 is\", (bool1 or bool2))\n",
    "print(\"The value of not bool2 is\", (not bool2))"
   ]
  },
  {
   "cell_type": "code",
   "execution_count": 5,
   "id": "66daa22f",
   "metadata": {},
   "outputs": [
    {
     "name": "stdout",
     "output_type": "stream",
     "text": [
      "<class 'int'>\n",
      "3539\n"
     ]
    }
   ],
   "source": [
    "#Typecasting\n",
    "\n",
    "n = \"3534\"\n",
    "n = int(n)\n",
    "print(type(n))\n",
    "print(n + 5)"
   ]
  },
  {
   "cell_type": "code",
   "execution_count": 6,
   "id": "67364e7e",
   "metadata": {},
   "outputs": [
    {
     "name": "stdout",
     "output_type": "stream",
     "text": [
      "Enter a number: 56\n",
      "<class 'int'>\n"
     ]
    }
   ],
   "source": [
    "#Use of input function\n",
    "w = input(\"Enter a number: \")\n",
    "w = int(w) # Convert w to an Integer(if possible)\n",
    "print(type(w))"
   ]
  },
  {
   "cell_type": "code",
   "execution_count": 7,
   "id": "43c9e4e3",
   "metadata": {},
   "outputs": [
    {
     "name": "stdout",
     "output_type": "stream",
     "text": [
      "The sum of a and b is 45\n"
     ]
    }
   ],
   "source": [
    "#Program to add two nos\n",
    "a = 30\n",
    "b = 15\n",
    "print(\"The sum of a and b is\", a + b)"
   ]
  },
  {
   "cell_type": "code",
   "execution_count": 9,
   "id": "32b2db85",
   "metadata": {},
   "outputs": [
    {
     "name": "stdout",
     "output_type": "stream",
     "text": [
      "The remainder when a is divided by b is 1\n"
     ]
    }
   ],
   "source": [
    "#To find the remainder when a number is divided by 2\n",
    "a = 457\n",
    "b = 2\n",
    "\n",
    "print(\"The remainder when a is divided by b is\", a%b)"
   ]
  },
  {
   "cell_type": "code",
   "execution_count": 10,
   "id": "8e8e9d35",
   "metadata": {},
   "outputs": [
    {
     "name": "stdout",
     "output_type": "stream",
     "text": [
      "Enter first number: 11\n",
      "Enter second number: 14\n",
      "The average of a and b is 12.5\n",
      "Square of a is 121\n",
      "Square of b is 196\n"
     ]
    }
   ],
   "source": [
    "#To find avg and square of two nos\n",
    "a = input(\"Enter first number: \")\n",
    "b = input(\"Enter second number: \")\n",
    "a = int(a)\n",
    "b = int(b)\n",
    "avg = (a + b)/2\n",
    "sq_1=a*a\n",
    "sq_2=b*b\n",
    "print(\"The average of a and b is\", avg)\n",
    "print(\"Square of a is\", sq_1)\n",
    "print(\"Square of b is\", sq_2)"
   ]
  },
  {
   "cell_type": "code",
   "execution_count": null,
   "id": "cacab7d0",
   "metadata": {},
   "outputs": [],
   "source": []
  }
 ],
 "metadata": {
  "kernelspec": {
   "display_name": "Python 3",
   "language": "python",
   "name": "python3"
  },
  "language_info": {
   "codemirror_mode": {
    "name": "ipython",
    "version": 3
   },
   "file_extension": ".py",
   "mimetype": "text/x-python",
   "name": "python",
   "nbconvert_exporter": "python",
   "pygments_lexer": "ipython3",
   "version": "3.8.11"
  }
 },
 "nbformat": 4,
 "nbformat_minor": 5
}
