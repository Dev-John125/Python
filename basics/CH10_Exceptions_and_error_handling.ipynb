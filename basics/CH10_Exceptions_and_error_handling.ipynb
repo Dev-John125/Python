{
 "cells": [
  {
   "cell_type": "markdown",
   "id": "ecf7405c",
   "metadata": {},
   "source": [
    "## CH 10. Error handling and types of exceptions"
   ]
  },
  {
   "cell_type": "code",
   "execution_count": 1,
   "id": "e1bd9dae",
   "metadata": {},
   "outputs": [],
   "source": [
    "#Programmers often refer to run-time errors as exceptions. \n",
    "# An exception is a kind of error that terminates the excution of program"
   ]
  },
  {
   "cell_type": "code",
   "execution_count": 2,
   "id": "b804401c",
   "metadata": {},
   "outputs": [
    {
     "ename": "ValueError",
     "evalue": "invalid literal for int() with base 10: 'number'",
     "output_type": "error",
     "traceback": [
      "\u001b[1;31m---------------------------------------------------------------------------\u001b[0m",
      "\u001b[1;31mValueError\u001b[0m                                Traceback (most recent call last)",
      "\u001b[1;32m<ipython-input-2-5ac989c2af2c>\u001b[0m in \u001b[0;36m<module>\u001b[1;34m\u001b[0m\n\u001b[0;32m      3\u001b[0m \u001b[1;31m# A ValueError occurs when an operation encounters an invalid value.\u001b[0m\u001b[1;33m\u001b[0m\u001b[1;33m\u001b[0m\u001b[1;33m\u001b[0m\u001b[0m\n\u001b[0;32m      4\u001b[0m \u001b[1;31m# For example, trying to convert the string \"number\" to an integer results in a ValueError:\u001b[0m\u001b[1;33m\u001b[0m\u001b[1;33m\u001b[0m\u001b[1;33m\u001b[0m\u001b[0m\n\u001b[1;32m----> 5\u001b[1;33m \u001b[0mint\u001b[0m\u001b[1;33m(\u001b[0m\u001b[1;34m\"number\"\u001b[0m\u001b[1;33m)\u001b[0m\u001b[1;33m\u001b[0m\u001b[1;33m\u001b[0m\u001b[0m\n\u001b[0m\u001b[0;32m      6\u001b[0m \u001b[1;33m\u001b[0m\u001b[0m\n",
      "\u001b[1;31mValueError\u001b[0m: invalid literal for int() with base 10: 'number'"
     ]
    }
   ],
   "source": [
    "#1 ValueError\n",
    "\n",
    "# A ValueError occurs when an operation encounters an invalid value.\n",
    "# For example, trying to convert the string \"number\" to an integer results in a ValueError:\n",
    "\n",
    "int(\"number\")"
   ]
  },
  {
   "cell_type": "code",
   "execution_count": 3,
   "id": "42f5cde7",
   "metadata": {},
   "outputs": [
    {
     "ename": "TypeError",
     "evalue": "can only concatenate str (not \"int\") to str",
     "output_type": "error",
     "traceback": [
      "\u001b[1;31m---------------------------------------------------------------------------\u001b[0m",
      "\u001b[1;31mTypeError\u001b[0m                                 Traceback (most recent call last)",
      "\u001b[1;32m<ipython-input-3-bb01dbee01de>\u001b[0m in \u001b[0;36m<module>\u001b[1;34m\u001b[0m\n\u001b[0;32m      4\u001b[0m \u001b[1;31m# For example, trying to add a string and an integer will result in a TypeError:\u001b[0m\u001b[1;33m\u001b[0m\u001b[1;33m\u001b[0m\u001b[1;33m\u001b[0m\u001b[0m\n\u001b[0;32m      5\u001b[0m \u001b[1;33m\u001b[0m\u001b[0m\n\u001b[1;32m----> 6\u001b[1;33m \u001b[0mres\u001b[0m \u001b[1;33m=\u001b[0m \u001b[1;34m\"1\"\u001b[0m \u001b[1;33m+\u001b[0m \u001b[1;36m2\u001b[0m\u001b[1;33m\u001b[0m\u001b[1;33m\u001b[0m\u001b[0m\n\u001b[0m",
      "\u001b[1;31mTypeError\u001b[0m: can only concatenate str (not \"int\") to str"
     ]
    }
   ],
   "source": [
    "#2 TypeError\n",
    "\n",
    "# A TypeError occurs when an operation is performed on a value of the wrong type. \n",
    "# For example, trying to add a string and an integer will result in a TypeError:\n",
    "\n",
    "res = \"1\" + 2"
   ]
  },
  {
   "cell_type": "code",
   "execution_count": 5,
   "id": "57a07a48",
   "metadata": {},
   "outputs": [
    {
     "ename": "NameError",
     "evalue": "name 'something' is not defined",
     "output_type": "error",
     "traceback": [
      "\u001b[1;31m---------------------------------------------------------------------------\u001b[0m",
      "\u001b[1;31mNameError\u001b[0m                                 Traceback (most recent call last)",
      "\u001b[1;32m<ipython-input-5-4e009102b3ff>\u001b[0m in \u001b[0;36m<module>\u001b[1;34m\u001b[0m\n\u001b[0;32m      3\u001b[0m \u001b[1;31m# A NameError occurs when you try to use a variable name that hasn’t been defined yet:\u001b[0m\u001b[1;33m\u001b[0m\u001b[1;33m\u001b[0m\u001b[1;33m\u001b[0m\u001b[0m\n\u001b[0;32m      4\u001b[0m \u001b[1;33m\u001b[0m\u001b[0m\n\u001b[1;32m----> 5\u001b[1;33m \u001b[0mprint\u001b[0m\u001b[1;33m(\u001b[0m\u001b[0msomething\u001b[0m\u001b[1;33m)\u001b[0m\u001b[1;33m\u001b[0m\u001b[1;33m\u001b[0m\u001b[0m\n\u001b[0m",
      "\u001b[1;31mNameError\u001b[0m: name 'something' is not defined"
     ]
    }
   ],
   "source": [
    "#3 NameError\n",
    "\n",
    "# A NameError occurs when you try to use a variable name that hasn’t been defined yet:\n",
    "\n",
    "print(something)"
   ]
  },
  {
   "cell_type": "code",
   "execution_count": 6,
   "id": "abcd83f8",
   "metadata": {},
   "outputs": [
    {
     "ename": "ZeroDivisionError",
     "evalue": "division by zero",
     "output_type": "error",
     "traceback": [
      "\u001b[1;31m---------------------------------------------------------------------------\u001b[0m",
      "\u001b[1;31mZeroDivisionError\u001b[0m                         Traceback (most recent call last)",
      "\u001b[1;32m<ipython-input-6-661f8518ee86>\u001b[0m in \u001b[0;36m<module>\u001b[1;34m\u001b[0m\n\u001b[0;32m      3\u001b[0m \u001b[1;31m# A ZeroDivisionError occurs when the divisor in a division operation is 0:\u001b[0m\u001b[1;33m\u001b[0m\u001b[1;33m\u001b[0m\u001b[1;33m\u001b[0m\u001b[0m\n\u001b[0;32m      4\u001b[0m \u001b[1;33m\u001b[0m\u001b[0m\n\u001b[1;32m----> 5\u001b[1;33m \u001b[0mnew\u001b[0m \u001b[1;33m=\u001b[0m \u001b[1;36m1\u001b[0m \u001b[1;33m/\u001b[0m \u001b[1;36m0\u001b[0m\u001b[1;33m\u001b[0m\u001b[1;33m\u001b[0m\u001b[0m\n\u001b[0m",
      "\u001b[1;31mZeroDivisionError\u001b[0m: division by zero"
     ]
    }
   ],
   "source": [
    "#4 ZeroDivisionError\n",
    "\n",
    "# A ZeroDivisionError occurs when the divisor in a division operation is 0:\n",
    "\n",
    "new = 1 / 0"
   ]
  },
  {
   "cell_type": "code",
   "execution_count": 9,
   "id": "fbb40bf7",
   "metadata": {},
   "outputs": [
    {
     "ename": "OverflowError",
     "evalue": "(34, 'Result too large')",
     "output_type": "error",
     "traceback": [
      "\u001b[1;31m---------------------------------------------------------------------------\u001b[0m",
      "\u001b[1;31mOverflowError\u001b[0m                             Traceback (most recent call last)",
      "\u001b[1;32m<ipython-input-9-9a7785bda2d7>\u001b[0m in \u001b[0;36m<module>\u001b[1;34m\u001b[0m\n\u001b[0;32m      4\u001b[0m \u001b[1;31m# For example, trying to raise the value 2.0 to the power 1_000_000 results in an OverflowError:\u001b[0m\u001b[1;33m\u001b[0m\u001b[1;33m\u001b[0m\u001b[1;33m\u001b[0m\u001b[0m\n\u001b[0;32m      5\u001b[0m \u001b[1;33m\u001b[0m\u001b[0m\n\u001b[1;32m----> 6\u001b[1;33m \u001b[0mprint\u001b[0m\u001b[1;33m(\u001b[0m\u001b[0mpow\u001b[0m\u001b[1;33m(\u001b[0m\u001b[1;36m2.0\u001b[0m\u001b[1;33m,\u001b[0m \u001b[1;36m1_000_000\u001b[0m\u001b[1;33m)\u001b[0m\u001b[1;33m)\u001b[0m\u001b[1;33m\u001b[0m\u001b[1;33m\u001b[0m\u001b[0m\n\u001b[0m\u001b[0;32m      7\u001b[0m \u001b[1;33m\u001b[0m\u001b[0m\n\u001b[0;32m      8\u001b[0m \u001b[1;31m# Overflow error occurs only in the case of floating point numbers as integers in Python have unlimited precision\u001b[0m\u001b[1;33m\u001b[0m\u001b[1;33m\u001b[0m\u001b[1;33m\u001b[0m\u001b[0m\n",
      "\u001b[1;31mOverflowError\u001b[0m: (34, 'Result too large')"
     ]
    }
   ],
   "source": [
    "#5 OverflowError\n",
    "\n",
    "# An OverflowError occurs when the result of an arithmetic operation is too large. \n",
    "# For example, trying to raise the value 2.0 to the power 1_000_000 results in an OverflowError:\n",
    "\n",
    "print(pow(2.0, 1_000_000))\n",
    "\n",
    "# Overflow error occurs only in the case of floating point numbers as integers in Python have unlimited precision"
   ]
  },
  {
   "cell_type": "code",
   "execution_count": 2,
   "id": "22b5a780",
   "metadata": {},
   "outputs": [
    {
     "name": "stdout",
     "output_type": "stream",
     "text": [
      "Enter a number: e\n",
      "Wrong input, please enter a number\n"
     ]
    }
   ],
   "source": [
    "# If we can predict such an error(program crash) then we can avoid that using try and except keywords\n",
    "# For example if a user enters a string instead of a number \n",
    "\n",
    "try:\n",
    "    a = int(input(\"Enter a number: \"))\n",
    "except ValueError:\n",
    "    print(\"Wrong input, please enter a number\")"
   ]
  },
  {
   "cell_type": "code",
   "execution_count": 3,
   "id": "11899ee7",
   "metadata": {},
   "outputs": [
    {
     "name": "stdout",
     "output_type": "stream",
     "text": [
      "age: 18\n",
      "No exception were thrown\n",
      "This line is very important\n"
     ]
    }
   ],
   "source": [
    "# else can be used in try and except\n",
    "try:\n",
    "    age = int(input(\"age: \"))\n",
    "except:\n",
    "    print(\"You did not enter a valid age\")\n",
    "else:\n",
    "    print(\"No exception were thrown\")\n",
    "    \n",
    "    \n",
    "print(\"This line is very important\")"
   ]
  },
  {
   "cell_type": "code",
   "execution_count": 5,
   "id": "62d8e557",
   "metadata": {},
   "outputs": [
    {
     "name": "stdout",
     "output_type": "stream",
     "text": [
      "Encountered a problem\n"
     ]
    }
   ],
   "source": [
    "# Multiple exceptions can be handled using semicolon\n",
    "\n",
    "a = 5\n",
    "b = 0\n",
    "try:\n",
    "    res = a/b\n",
    "except (TypeError , ZeroDivisionError): \n",
    "    print(\"Encountered a problem\")"
   ]
  },
  {
   "cell_type": "code",
   "execution_count": 7,
   "id": "6eb7a9c7",
   "metadata": {},
   "outputs": [
    {
     "name": "stdout",
     "output_type": "stream",
     "text": [
      "Number and strings cannot be divided\n"
     ]
    }
   ],
   "source": [
    "# To catch each error individually we can display text accordingly using multiple except blocks after a try block\n",
    "\n",
    "a = 5\n",
    "b = 'a'\n",
    "try:\n",
    "    res = a / b\n",
    "except TypeError:\n",
    "    print(\"Number and strings cannot be divided\")\n",
    "except ZeroDivisionError:\n",
    "    print(\"Number cannot be divided by 0\")"
   ]
  },
  {
   "cell_type": "code",
   "execution_count": 4,
   "id": "58efdcab",
   "metadata": {},
   "outputs": [
    {
     "name": "stdout",
     "output_type": "stream",
     "text": [
      "age: 67\n",
      "no exception were thrown\n"
     ]
    }
   ],
   "source": [
    "# finally is used in try and except for clean up (here closing of a file)\n",
    "try:\n",
    "    file = open(\"CH10_Exceptions_and_error_handling.ipynb\")\n",
    "    age = int(input(\"age: \"))\n",
    "except Exception as error:\n",
    "    print(\"error:-\",error)\n",
    "else:\n",
    "    print(\"no exception were thrown\")\n",
    "    \n",
    "finally:\n",
    "    file.close()"
   ]
  },
  {
   "cell_type": "code",
   "execution_count": null,
   "id": "5aa2d1dc",
   "metadata": {},
   "outputs": [],
   "source": []
  }
 ],
 "metadata": {
  "kernelspec": {
   "display_name": "Python 3",
   "language": "python",
   "name": "python3"
  },
  "language_info": {
   "codemirror_mode": {
    "name": "ipython",
    "version": 3
   },
   "file_extension": ".py",
   "mimetype": "text/x-python",
   "name": "python",
   "nbconvert_exporter": "python",
   "pygments_lexer": "ipython3",
   "version": "3.8.8"
  }
 },
 "nbformat": 4,
 "nbformat_minor": 5
}
