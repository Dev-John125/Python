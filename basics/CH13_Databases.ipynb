{
 "cells": [
  {
   "cell_type": "markdown",
   "id": "50269a9a",
   "metadata": {},
   "source": [
    "A database is a structured system for storing data. It could be made\n",
    "up of several CSV files organized into directories, or something more\n",
    "elaborate.\n",
    "\n",
    "One of the simplest, most lightweight SQL databases is SQLite, which runs directly on your machine and comes bundled with Python automatically."
   ]
  },
  {
   "cell_type": "code",
   "execution_count": 1,
   "id": "394d37c8",
   "metadata": {},
   "outputs": [],
   "source": [
    "#importing and connecting to sqlite\n",
    "\n",
    "import sqlite3\n",
    "conn = sqlite3.connect(\"test.database.db\")"
   ]
  },
  {
   "cell_type": "code",
   "execution_count": 2,
   "id": "a873c096",
   "metadata": {},
   "outputs": [
    {
     "data": {
      "text/plain": [
       "sqlite3.Connection"
      ]
     },
     "execution_count": 2,
     "metadata": {},
     "output_type": "execute_result"
    }
   ],
   "source": [
    "type(conn)"
   ]
  },
  {
   "cell_type": "markdown",
   "id": "851b4c47",
   "metadata": {},
   "source": [
    "Conn object represents the connection between our program and the database.\n",
    "They have several attributes and methods that can be used to interact with the database. To store and retrieve data, we need a Cursor object, which can be obtained with the conn.cursor() function\n",
    "\n",
    "conn is short for connection\n",
    "\n",
    "Using a Cursor we can create database tables, execute SQL statements, and fetch query results."
   ]
  },
  {
   "cell_type": "code",
   "execution_count": 4,
   "id": "0021fbcb",
   "metadata": {},
   "outputs": [
    {
     "data": {
      "text/plain": [
       "sqlite3.Cursor"
      ]
     },
     "execution_count": 4,
     "metadata": {},
     "output_type": "execute_result"
    }
   ],
   "source": [
    "cursor = conn.cursor()\n",
    "type(cursor)"
   ]
  },
  {
   "cell_type": "code",
   "execution_count": 5,
   "id": "fdae6004",
   "metadata": {},
   "outputs": [
    {
     "data": {
      "text/plain": [
       "<sqlite3.Cursor at 0x1d3b71a8030>"
      ]
     },
     "execution_count": 5,
     "metadata": {},
     "output_type": "execute_result"
    }
   ],
   "source": [
    "query = \"SELECT datetime('now','localtime');\"\n",
    "cursor.execute(query)"
   ]
  },
  {
   "cell_type": "markdown",
   "id": "ba300b30",
   "metadata": {},
   "source": [
    "To get the query results,we use the cursor.fetchone() method\n",
    ".fetchone returns a tuple so we need to unpack the tuple elements to get the output\n",
    "\n",
    "Finally we use conn.close() to close the connection"
   ]
  },
  {
   "cell_type": "code",
   "execution_count": 6,
   "id": "5eb7d699",
   "metadata": {},
   "outputs": [
    {
     "data": {
      "text/plain": [
       "('2021-09-16 21:32:07',)"
      ]
     },
     "execution_count": 6,
     "metadata": {},
     "output_type": "execute_result"
    }
   ],
   "source": [
    "cursor.fetchone()"
   ]
  },
  {
   "cell_type": "code",
   "execution_count": 7,
   "id": "46ce4c9d",
   "metadata": {},
   "outputs": [
    {
     "name": "stdout",
     "output_type": "stream",
     "text": [
      "2021-09-16 21:35:20\n"
     ]
    }
   ],
   "source": [
    "time = cursor.execute(query).fetchone()[0]\n",
    "print(time)"
   ]
  },
  {
   "cell_type": "code",
   "execution_count": 8,
   "id": "bec4705a",
   "metadata": {},
   "outputs": [],
   "source": [
    "conn.close()"
   ]
  },
  {
   "cell_type": "code",
   "execution_count": 9,
   "id": "0b854a21",
   "metadata": {},
   "outputs": [
    {
     "name": "stdout",
     "output_type": "stream",
     "text": [
      "2021-09-16 21:38:13\n"
     ]
    }
   ],
   "source": [
    "# The datetime example can be run using the with statement as follows:\n",
    "\n",
    "with sqlite3.connect(\"test_database.db\") as conn:\n",
    "    cursor = conn.cursor()\n",
    "    query = \"SELECT datetime('now','localtime');\"\n",
    "    time = cursor.execute(query).fetchone()[0]\n",
    "    \n",
    "print(time)"
   ]
  },
  {
   "cell_type": "code",
   "execution_count": 12,
   "id": "009451a2",
   "metadata": {},
   "outputs": [],
   "source": [
    "# Creating a table\n",
    "import sqlite3\n",
    "connection = sqlite3.connect(\"test_database.db\")\n",
    "cursor = connection.cursor()\n",
    "cursor.execute(\n",
    "\"\"\"CREATE TABLE People(\n",
    "        FirstName TEXT,\n",
    "        LastName TEXT,\n",
    "        Age INT\n",
    "        );\"\"\"\n",
    ")\n",
    "cursor.execute(\n",
    "\"\"\"INSERT INTO People VALUES(\n",
    "            'Jestin',\n",
    "            'John',\n",
    "             21\n",
    "            );\"\"\"\n",
    ")\n",
    "connection.commit()   #.commit is used to save the data to the database\n",
    "connection.close()"
   ]
  },
  {
   "cell_type": "code",
   "execution_count": 13,
   "id": "5d9ddb46",
   "metadata": {},
   "outputs": [
    {
     "data": {
      "text/plain": [
       "('Jestin', 'John', 21)"
      ]
     },
     "execution_count": 13,
     "metadata": {},
     "output_type": "execute_result"
    }
   ],
   "source": [
    "connection = sqlite3.connect(\"test_database.db\")\n",
    "cursor = connection.cursor()\n",
    "cursor.execute(\"SELECT * FROM People;\")\n",
    "cursor.fetchone()"
   ]
  },
  {
   "cell_type": "code",
   "execution_count": null,
   "id": "c62f99b3",
   "metadata": {},
   "outputs": [],
   "source": []
  }
 ],
 "metadata": {
  "kernelspec": {
   "display_name": "Python 3",
   "language": "python",
   "name": "python3"
  },
  "language_info": {
   "codemirror_mode": {
    "name": "ipython",
    "version": 3
   },
   "file_extension": ".py",
   "mimetype": "text/x-python",
   "name": "python",
   "nbconvert_exporter": "python",
   "pygments_lexer": "ipython3",
   "version": "3.8.8"
  }
 },
 "nbformat": 4,
 "nbformat_minor": 5
}
