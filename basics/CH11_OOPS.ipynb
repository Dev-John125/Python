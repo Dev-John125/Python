{
 "cells": [
  {
   "cell_type": "markdown",
   "id": "24674ec2",
   "metadata": {},
   "source": [
    "## Ch11: OOPS in Python"
   ]
  },
  {
   "cell_type": "raw",
   "id": "f5990ee2",
   "metadata": {},
   "source": [
    "-OOP, or Object-Oriented Programming, is a method of structuring a program by bundling related properties and behaviors into       individual objects.\n",
    "\n",
    "-Classes are used to create user-defined data structures. Classes also have special functions, called methods, that define         behaviors and actions that an object created from the class can perform with its data. While the class is the blueprint, an     instance is an object built from a class that contains real data\n",
    "\n",
    "-To define the properties, or instance attributes, that all (here, Vehicle) objects must have, you need to define a special       method called .__init__().This method is run every time a new Vehicle object is created and tells Python what the initial       state—that is, the initial values of the object should be.\n",
    "\n",
    "-The first positional argument of .__init__() is always a variable that references the class instance. This variable is           universally named self. After the self argument, you can specify any other arguments required to create an instance of the       class.\n",
    "\n",
    "-self.name = name, creates an instance attribute called name and assigns to it the value of the name variable thatwas passed to   the .__init__() method.\n",
    "\n",
    "-Once a class has been defined, we can create an instance of an object. To instantiate an object, type\n",
    "  the name of the class, in the original CamelCase, followed by parentheses containing any values that must be passed to the       class’s .__init__() method.\n",
    "\n",
    "-instantiate means creating objects\n",
    "\n",
    "-While instance attributes are specific to each object, class attributes are the same for all instances—which in this case is     all Vehicles\n",
    "\n",
    "-Instance methods are functions defined inside of a class. This means that they only exist within the context of the object       itself and cannot be called without referencing the object"
   ]
  },
  {
   "cell_type": "code",
   "execution_count": 1,
   "id": "8d9430b9",
   "metadata": {},
   "outputs": [],
   "source": [
    "class Vehicle:\n",
    "    modelType = 'SUV'   # class attribute\n",
    "    def __init__(self, name, color):\n",
    "        self.name = name  # instance attribute\n",
    "        self.color = color"
   ]
  },
  {
   "cell_type": "code",
   "execution_count": 3,
   "id": "22b11f9e",
   "metadata": {},
   "outputs": [
    {
     "data": {
      "text/plain": [
       "<__main__.Vehicle at 0x256fc687220>"
      ]
     },
     "execution_count": 3,
     "metadata": {},
     "output_type": "execute_result"
    }
   ],
   "source": [
    "Vehicle('Kia','Red')\n",
    "# vehicle object is created at the memory location displayed below\n",
    "# Every time we create an instance of the same object, it is formed in a new location as it is \n",
    "# completely a new and unique instance of that object "
   ]
  },
  {
   "cell_type": "code",
   "execution_count": 6,
   "id": "fa2653ee",
   "metadata": {},
   "outputs": [
    {
     "name": "stdout",
     "output_type": "stream",
     "text": [
      "False\n",
      "True\n"
     ]
    }
   ],
   "source": [
    "a = Vehicle('Ferrari','Black')\n",
    "b = Vehicle('Ferrari','Black')\n",
    "print(a == b)  # due to different memory addresses\n",
    "print(type(a) == type(b)) # although they are distinct objects, they are of the same type"
   ]
  },
  {
   "cell_type": "code",
   "execution_count": 9,
   "id": "eb3a4dd2",
   "metadata": {},
   "outputs": [
    {
     "name": "stdout",
     "output_type": "stream",
     "text": [
      "green red\n",
      "Sweet Sweet\n"
     ]
    }
   ],
   "source": [
    "class Fruit:\n",
    "    taste = 'Sweet'\n",
    "    def __init__(self,name,color):\n",
    "        self.name = name\n",
    "        self.color = color\n",
    "watermelon = Fruit('Watermelon', 'green')\n",
    "apple = Fruit('Apple','red')\n",
    "\n",
    "print(watermelon.color , apple.color) # After the instances are created, dot notation is used to access them\n",
    "print(watermelon.taste , apple.taste) # Class attributes are also accessed in the same way"
   ]
  },
  {
   "cell_type": "code",
   "execution_count": 12,
   "id": "38b045bd",
   "metadata": {},
   "outputs": [
    {
     "name": "stdout",
     "output_type": "stream",
     "text": [
      "green Sour green Sweet\n"
     ]
    }
   ],
   "source": [
    "apple.color = 'green'\n",
    "apple.taste = 'Sour' # custom objects are mutable\n",
    "print(apple.color,apple.taste,watermelon.color,watermelon.taste) "
   ]
  },
  {
   "cell_type": "code",
   "execution_count": 17,
   "id": "8eb23590",
   "metadata": {},
   "outputs": [
    {
     "name": "stdout",
     "output_type": "stream",
     "text": [
      "Samsung A52 costs 28000 in INR\n",
      "The Samsung A52 has a battery capacity of 4500mah\n",
      "<__main__.Phone object at 0x00000256FE18F370>\n"
     ]
    }
   ],
   "source": [
    "class Phone:\n",
    "    phoneOs = 'Android'\n",
    "    def __init__(self, name, cost):\n",
    "        self.name = name\n",
    "        self.cost = cost\n",
    "    \n",
    "    def description(self):      # instance method\n",
    "        return f'{self.name} costs {self.cost} in INR'\n",
    "    \n",
    "    def batteryCap(self, capacity):\n",
    "        return f'The {self.name} has a battery capacity of {capacity}mah'\n",
    "    \n",
    "\n",
    "sam = Phone('Samsung A52',28000)\n",
    "print(sam.description())\n",
    "print(sam.batteryCap(4500))\n",
    "print(sam) # We cannot get any info by directly printing sam\n"
   ]
  },
  {
   "cell_type": "code",
   "execution_count": 18,
   "id": "2b45dd7b",
   "metadata": {},
   "outputs": [
    {
     "name": "stdout",
     "output_type": "stream",
     "text": [
      "Samsung A52 costs 28000 in INR\n"
     ]
    }
   ],
   "source": [
    "# We can change the output by using a special instance method called .__str__()\n",
    "# we are replacing description method with __str__()\n",
    "class Phone:\n",
    "    phoneOs = 'Android'\n",
    "    def __init__(self, name, cost):\n",
    "        self.name = name\n",
    "        self.cost = cost\n",
    "    \n",
    "    def batteryCap(self, capacity):\n",
    "        return f'The {self.name} has a battery capacity of {capacity}mah'\n",
    "    \n",
    "    def __str__(self):\n",
    "        return f'{self.name} costs {self.cost} in INR'\n",
    "\n",
    "sam = Phone('Samsung A52',28000)\n",
    "print(sam)\n",
    "\n",
    "# Methods like .__str__() are commonly known as dunder methods because they start and end with double underscores"
   ]
  },
  {
   "cell_type": "code",
   "execution_count": null,
   "id": "c665da6a",
   "metadata": {},
   "outputs": [],
   "source": []
  }
 ],
 "metadata": {
  "kernelspec": {
   "display_name": "Python 3",
   "language": "python",
   "name": "python3"
  },
  "language_info": {
   "codemirror_mode": {
    "name": "ipython",
    "version": 3
   },
   "file_extension": ".py",
   "mimetype": "text/x-python",
   "name": "python",
   "nbconvert_exporter": "python",
   "pygments_lexer": "ipython3",
   "version": "3.8.8"
  }
 },
 "nbformat": 4,
 "nbformat_minor": 5
}
