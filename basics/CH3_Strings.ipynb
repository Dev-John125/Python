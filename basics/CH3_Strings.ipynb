{
 "cells": [
  {
   "cell_type": "markdown",
   "id": "6d42df8a",
   "metadata": {},
   "source": [
    "# Ch3: Strings"
   ]
  },
  {
   "cell_type": "code",
   "execution_count": 1,
   "id": "f508a336",
   "metadata": {},
   "outputs": [
    {
     "name": "stdout",
     "output_type": "stream",
     "text": [
      "Harry\"s and \n",
      "       Harry's\n",
      "<class 'str'>\n"
     ]
    }
   ],
   "source": [
    "#Types of Strings\n",
    "\n",
    "# b = \"Mother's\" # --> Use this if you have single quotes in your strings\n",
    "# b = 'Mother\"s' # --> Use this if you have double quotes in your strings\n",
    "\n",
    "# --> Use this if you have single/double quotes in your strings\n",
    "b = '''Harry\"s and Harry's'''\n",
    "\n",
    "print(b)\n",
    "print(type(b))\n"
   ]
  },
  {
   "cell_type": "code",
   "execution_count": 3,
   "id": "736bf1fd",
   "metadata": {},
   "outputs": [
    {
     "name": "stdout",
     "output_type": "stream",
     "text": [
      "Good Morning, Sir\n"
     ]
    }
   ],
   "source": [
    "#String Concatenation\n",
    "\n",
    "greeting = \"Good Morning, \"\n",
    "name = \"Sir\"\n",
    "\n",
    "# Concatenating two strings\n",
    "c = greeting + name\n",
    "print(c)"
   ]
  },
  {
   "cell_type": "code",
   "execution_count": 13,
   "id": "f1dd357c",
   "metadata": {},
   "outputs": [
    {
     "name": "stdout",
     "output_type": "stream",
     "text": [
      "i\n",
      "esti\n",
      "Jest\n",
      "estin\n",
      "esti\n",
      "Hlhe\n",
      "erehTolleH\n"
     ]
    }
   ],
   "source": [
    "name = \"Jestin\"\n",
    "print(name[4])\n",
    "#name[3] = \"d\" --> Does not work\n",
    "\n",
    "print(name[1:5])\n",
    "print(name[:4]) # is same as name[0:4]\n",
    "print(name[1:]) # is same as name[1:6]\n",
    "c = name[-5:-1] # is same is name[1:5]\n",
    "print(c)\n",
    "\n",
    "name = \"HelloThere\"\n",
    "d = name[0::3] #skips 3 characters\n",
    "e = name[::-1]#reverses the string\n",
    "print(d)\n",
    "print(e)"
   ]
  },
  {
   "cell_type": "code",
   "execution_count": 14,
   "id": "432fdb54",
   "metadata": {},
   "outputs": [
    {
     "name": "stdout",
     "output_type": "stream",
     "text": [
      "101\n",
      "\n",
      "\n",
      "True\n",
      "\n",
      "\n",
      "6\n",
      "\n",
      "\n",
      "A lion was once sleeping in the jungle when a mouse started running up and down his body just for fun\n",
      "\n",
      "\n",
      "84\n",
      "\n",
      "\n",
      "a lion was once sleeping in the jungle when a Elephant started running up and down his body just for fun\n"
     ]
    }
   ],
   "source": [
    "#Some string functions\n",
    "\n",
    "story = \"a lion was once sleeping in the jungle when a mouse started running up and down his body just for fun\"\n",
    "\n",
    "print(len(story))\n",
    "print(\"\\n\")\n",
    "print(story.endswith(\"fun\"))\n",
    "print(\"\\n\")\n",
    "print(story.count(\"o\"))\n",
    "print(\"\\n\")\n",
    "print(story.capitalize())\n",
    "print(\"\\n\")\n",
    "print(story.find(\"body\"))\n",
    "print(\"\\n\")\n",
    "print(story.replace(\"mouse\", \"Elephant\"))\n",
    " "
   ]
  },
  {
   "cell_type": "code",
   "execution_count": 15,
   "id": "cd53c05f",
   "metadata": {},
   "outputs": [
    {
     "name": "stdout",
     "output_type": "stream",
     "text": [
      "Max is good.\n",
      "He\tis ve\\ry good\n"
     ]
    }
   ],
   "source": [
    "#Escape Sequences\n",
    "\n",
    "story = \"Max is good.\\nHe\\tis ve\\\\ry good\"\n",
    "print(story)"
   ]
  },
  {
   "cell_type": "code",
   "execution_count": null,
   "id": "a0967805",
   "metadata": {},
   "outputs": [],
   "source": []
  }
 ],
 "metadata": {
  "kernelspec": {
   "display_name": "Python 3",
   "language": "python",
   "name": "python3"
  },
  "language_info": {
   "codemirror_mode": {
    "name": "ipython",
    "version": 3
   },
   "file_extension": ".py",
   "mimetype": "text/x-python",
   "name": "python",
   "nbconvert_exporter": "python",
   "pygments_lexer": "ipython3",
   "version": "3.8.8"
  }
 },
 "nbformat": 4,
 "nbformat_minor": 5
}
