{
 "cells": [
  {
   "cell_type": "markdown",
   "id": "6d42df8a",
   "metadata": {},
   "source": [
    "# Ch3: Strings"
   ]
  },
  {
   "cell_type": "code",
   "execution_count": 1,
   "id": "f508a336",
   "metadata": {},
   "outputs": [
    {
     "name": "stdout",
     "output_type": "stream",
     "text": [
      "Harry\"s and \n",
      "       Harry's\n",
      "<class 'str'>\n"
     ]
    }
   ],
   "source": [
    "# Collections of text is called string\n",
    "# Strings are immutable\n",
    "# Types of Strings\n",
    "# The quotes surrounding a string are called delimiters because they tell Python\n",
    "# where a string begins and where it ends\n",
    "#\n",
    "\n",
    "# b = \"Mother's\" # --> Use this if you have single quotes in your strings\n",
    "# b = 'Mother\"s' # --> Use this if you have double quotes in your strings\n",
    "\n",
    "# --> Use this if you have single/double quotes in your strings\n",
    "b = '''Harry\"s and Harry's'''\n",
    "\n",
    "print(b)\n",
    "print(type(b))\n",
    "\n",
    "# built-in string methods\n",
    "# chr() Converts an integer to a character\n",
    "# ord() Converts a character to an integer\n",
    "# len() Returns the length of a string\n",
    "# str() Returns a string representation of an object"
   ]
  },
  {
   "cell_type": "code",
   "execution_count": 3,
   "id": "736bf1fd",
   "metadata": {},
   "outputs": [
    {
     "name": "stdout",
     "output_type": "stream",
     "text": [
      "Good Morning, Sir\n"
     ]
    }
   ],
   "source": [
    "#String Concatenation\n",
    "\n",
    "greeting = \"Good Morning, \"\n",
    "name = \"Sir\"\n",
    "\n",
    "# Concatenating two strings\n",
    "c = greeting + name\n",
    "print(c)"
   ]
  },
  {
   "cell_type": "code",
   "execution_count": 13,
   "id": "f1dd357c",
   "metadata": {},
   "outputs": [
    {
     "name": "stdout",
     "output_type": "stream",
     "text": [
      "i\n",
      "esti\n",
      "Jest\n",
      "estin\n",
      "esti\n",
      "Hlhe\n",
      "erehTolleH\n"
     ]
    }
   ],
   "source": [
    "name = \"Jestin\"\n",
    "print(name[4])\n",
    "#name[3] = \"d\" --> Does not work\n",
    "\n",
    "print(name[1:5])\n",
    "print(name[:4]) # is same as name[0:4]\n",
    "print(name[1:]) # is same as name[1:6]\n",
    "c = name[-5:-1] # is same is name[1:5]\n",
    "print(c)\n",
    "\n",
    "name = \"HelloThere\"\n",
    "d = name[0::3] #skips 3 characters\n",
    "e = name[::-1]#reverses the string\n",
    "print(d)\n",
    "print(e)"
   ]
  },
  {
   "cell_type": "code",
   "execution_count": 15,
   "id": "cd53c05f",
   "metadata": {},
   "outputs": [
    {
     "name": "stdout",
     "output_type": "stream",
     "text": [
      "Max is good.\n",
      "He\tis ve\\ry good\n"
     ]
    }
   ],
   "source": [
    "#Escape Sequences\n",
    "\n",
    "story = \"Max is good.\\nHe\\tis ve\\\\ry good\"\n",
    "print(story)"
   ]
  },
  {
   "cell_type": "code",
   "execution_count": 4,
   "id": "a0967805",
   "metadata": {},
   "outputs": [
    {
     "name": "stdout",
     "output_type": "stream",
     "text": [
      "This planet has - or rather had - a problem, which was this: most of the people living on it were unhappy for pretty much of the time. Many solutions were suggested for this problem, but most of these were largely concerned with the movements of small green pieces of paper, which is odd because on the whole it wasn't the small green pieces of paper that were unhappy.\n",
      "\n",
      "\n",
      "This planet has - or rather had - a problem, which was \n",
      "this: most of the people living on it were unhappy for pretty much \n",
      "of the time. Many solutions were suggested for this problem, but \n",
      "most of these were largely concerned with the movements of small \n",
      "green pieces of paper, which is odd because on the whole it wasn't \n",
      "the small green pieces of paper that were unhappy.\n"
     ]
    }
   ],
   "source": [
    "# Multiline strings can be printed using backslashes at the end of a line \n",
    "# ''' & \"\"\" can also be used to enclose multiline strings\n",
    "\n",
    "print(\"This planet has - or rather had - a problem, which was \\\n",
    "this: most of the people living on it were unhappy for pretty much \\\n",
    "of the time. Many solutions were suggested for this problem, but \\\n",
    "most of these were largely concerned with the movements of small \\\n",
    "green pieces of paper, which is odd because on the whole it wasn't \\\n",
    "the small green pieces of paper that were unhappy.\\n\\n\")\n",
    "\n",
    "# ''' \"\"\" prints the string literals in the exact way they are given in the print statement\n",
    "\n",
    "print(\"\"\"This planet has - or rather had - a problem, which was \n",
    "this: most of the people living on it were unhappy for pretty much \n",
    "of the time. Many solutions were suggested for this problem, but \n",
    "most of these were largely concerned with the movements of small \n",
    "green pieces of paper, which is odd because on the whole it wasn't \n",
    "the small green pieces of paper that were unhappy.\"\"\")"
   ]
  },
  {
   "cell_type": "code",
   "execution_count": 10,
   "id": "d6bcdf3b",
   "metadata": {},
   "outputs": [
    {
     "name": "stdout",
     "output_type": "stream",
     "text": [
      "probablity\n",
      "o\n",
      "y\n"
     ]
    }
   ],
   "source": [
    "# String operations\n",
    "# Concatenation, which joins two strings together\n",
    "# Indexing, which gets a single character from a string\n",
    "# Slicing, which gets several characters from a string at once\n",
    "\n",
    "# Two strings can be combined, or concatenated, using the + operator:\n",
    "str1 =\"pro\"\n",
    "str2 =\"bablity\"\n",
    "str3 = str1 + str2\n",
    "print(str3)\n",
    "\n",
    "# Each character in a string has a numbered position called an index.\n",
    "print(str3[2])\n",
    "print(str3[-1])      # prints the last character"
   ]
  },
  {
   "cell_type": "code",
   "execution_count": 18,
   "id": "87c943e5",
   "metadata": {},
   "outputs": [
    {
     "name": "stdout",
     "output_type": "stream",
     "text": [
      "prob\n",
      "prob\n",
      "ablity\n",
      "probablity\n",
      "probablity\n",
      "\n"
     ]
    }
   ],
   "source": [
    "# String slicing returns a substring which includes the index a but not b in f[a:b]\n",
    "print(str3[0:4])\n",
    "print(str3[:4])      # Python by default sets 0 as the starting character\n",
    "print(str3[4:])      # Python by defualt sets the last index as the ending character\n",
    "print(str3[:])       # ommiting both the numbers will give the full string\n",
    "\n",
    "print(str3[:15])     # this doesnt raise an index error\n",
    "print(str3[13:18])   # because non existent indices are ignored"
   ]
  },
  {
   "cell_type": "code",
   "execution_count": 33,
   "id": "3089bc04",
   "metadata": {},
   "outputs": [
    {
     "name": "stdout",
     "output_type": "stream",
     "text": [
      "  bye world  \n",
      "  BYE WORLD  \n",
      "  Bye world\n",
      "Bye world  \n",
      "Bye world\n",
      "\n",
      "\n",
      "\n",
      "True\n",
      "True\n",
      "False\n"
     ]
    }
   ],
   "source": [
    "# String methods\n",
    "new = '  Bye world  '\n",
    "print(new.lower())     # converts all characters to lowercase\n",
    "print(new.upper())     # converts all characters to uppercase\n",
    "                       # the above two methods do not change the string permanently thus stating that strings are immutable\n",
    "\n",
    "# Whitespaces can be removed using three methods\n",
    "print(new.rstrip())    # removes whitespaces from the right side of the string\n",
    "print(new.lstrip())    # removes whitespaces from the left side of the string\n",
    "print(new.strip())     # removes whitespaces from both the sides of a string\n",
    "print(\"\\n\\n\")\n",
    "\n",
    "# To determine if a string starts or ends with a particular character, these two methods are used\n",
    "str4=\"How are you?\"\n",
    "print(str4.endswith('?'))      \n",
    "print(str4.startswith('Ho'))\n",
    "print(str4.startswith('ho'))      # both the methods are case sensitive so this will return False\n"
   ]
  },
  {
   "cell_type": "code",
   "execution_count": 37,
   "id": "628126ac",
   "metadata": {},
   "outputs": [
    {
     "name": "stdout",
     "output_type": "stream",
     "text": [
      "Whats your name? Jestin John\n"
     ]
    }
   ],
   "source": [
    "# input statement can give prompts\n",
    "str1=input(\"Whats your name? \")\n"
   ]
  },
  {
   "cell_type": "code",
   "execution_count": 39,
   "id": "5ece6ba6",
   "metadata": {},
   "outputs": [
    {
     "name": "stdout",
     "output_type": "stream",
     "text": [
      "2323\n",
      "232323\n"
     ]
    }
   ],
   "source": [
    "# Strings with numbers\n",
    "num = '23'\n",
    "print(num + num)\n",
    "print(num * 3)"
   ]
  },
  {
   "cell_type": "code",
   "execution_count": 44,
   "id": "7f141294",
   "metadata": {},
   "outputs": [
    {
     "name": "stdout",
     "output_type": "stream",
     "text": [
      "5 multiplied by 10 is equal to 50\n",
      "5 multiplied by 10 is equal to 50\n"
     ]
    }
   ],
   "source": [
    "# f-strings or formatted strings can be used in two ways\n",
    "a=5\n",
    "b=10\n",
    "print(f\"{a} multiplied by {b} is equal to {a*b}\")\n",
    "print(\"{} multiplied by {} is equal to {}\".format(a,b,a*b))"
   ]
  },
  {
   "cell_type": "code",
   "execution_count": 45,
   "id": "b24c8f6e",
   "metadata": {},
   "outputs": [
    {
     "name": "stdout",
     "output_type": "stream",
     "text": [
      "18\n"
     ]
    }
   ],
   "source": [
    "# To find the location of one string in another string—commonly referred to as a substring\n",
    "# can be done using find method\n",
    "sen=\"I have a surprise for you\"\n",
    "print(sen.find('for'))       # if there is no occurence of the given substring then -1 is returned"
   ]
  },
  {
   "cell_type": "code",
   "execution_count": 46,
   "id": "d29f42d6",
   "metadata": {},
   "outputs": [
    {
     "name": "stdout",
     "output_type": "stream",
     "text": [
      "all the things\n"
     ]
    }
   ],
   "source": [
    "# replace method is used to replace all the occurences of the given string\n",
    "text = \"some of the stuff\"\n",
    "new_text = text.replace(\"some of\", \"all\")\n",
    "new_text = new_text.replace(\"stuff\", \"things\")      # replace doesnt alter the string\n",
    "print(new_text)\n"
   ]
  },
  {
   "cell_type": "code",
   "execution_count": 47,
   "id": "3ad6713d",
   "metadata": {},
   "outputs": [
    {
     "name": "stdout",
     "output_type": "stream",
     "text": [
      "101\n",
      "\n",
      "\n",
      "True\n",
      "\n",
      "\n",
      "6\n",
      "\n",
      "\n",
      "A lion was once sleeping in the jungle when a mouse started running up and down his body just for fun\n",
      "\n",
      "\n",
      "84\n",
      "\n",
      "\n",
      "a lion was once sleeping in the jungle when a Elephant started running up and down his body just for fun\n"
     ]
    }
   ],
   "source": [
    "#Some string functions\n",
    "\n",
    "story = \"a lion was once sleeping in the jungle when a mouse started running up and down his body just for fun\"\n",
    "\n",
    "print(len(story))\n",
    "print(\"\\n\")\n",
    "print(story.endswith(\"fun\"))\n",
    "print(\"\\n\")\n",
    "print(story.count(\"o\"))\n",
    "print(\"\\n\")\n",
    "print(story.capitalize())\n",
    "print(\"\\n\")\n",
    "print(story.find(\"body\"))\n",
    "print(\"\\n\")\n",
    "print(story.replace(\"mouse\", \"Elephant\"))"
   ]
  },
  {
   "cell_type": "code",
   "execution_count": null,
   "id": "41a29ce3",
   "metadata": {},
   "outputs": [],
   "source": []
  }
 ],
 "metadata": {
  "kernelspec": {
   "display_name": "Python 3",
   "language": "python",
   "name": "python3"
  },
  "language_info": {
   "codemirror_mode": {
    "name": "ipython",
    "version": 3
   },
   "file_extension": ".py",
   "mimetype": "text/x-python",
   "name": "python",
   "nbconvert_exporter": "python",
   "pygments_lexer": "ipython3",
   "version": "3.8.8"
  }
 },
 "nbformat": 4,
 "nbformat_minor": 5
}
